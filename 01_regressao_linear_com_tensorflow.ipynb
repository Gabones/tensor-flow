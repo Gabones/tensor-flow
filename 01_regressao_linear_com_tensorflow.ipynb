{
  "nbformat": 4,
  "nbformat_minor": 0,
  "metadata": {
    "colab": {
      "provenance": [],
      "mount_file_id": "12BRr5dAbhP2TnZstu9UIwbXG7ebRlMyJ",
      "authorship_tag": "ABX9TyOQLjP8SrRQ45khaE4ynh5/",
      "include_colab_link": true
    },
    "kernelspec": {
      "name": "python3",
      "display_name": "Python 3"
    },
    "language_info": {
      "name": "python"
    }
  },
  "cells": [
    {
      "cell_type": "markdown",
      "metadata": {
        "id": "view-in-github",
        "colab_type": "text"
      },
      "source": [
        "<a href=\"https://colab.research.google.com/github/Gabones/tensor-flow/blob/main/01_regressao_linear_com_tensorflow.ipynb\" target=\"_parent\"><img src=\"https://colab.research.google.com/assets/colab-badge.svg\" alt=\"Open In Colab\"/></a>"
      ]
    },
    {
      "cell_type": "markdown",
      "source": [
        "# Introdução a Regressão Linear com Redes Neurais no Tensorflow\n",
        "\n",
        "Existem muitas definições para o problema de regressão linear porém no nosso caso, nós vamos simplificar esta definição: \"Predizer o valor de uma variável  de saída do sistema baseado na combinação de outras variáveis de entrada, de uma forma ainda mais suscinta? predizer um número.\""
      ],
      "metadata": {
        "id": "BVOE5P16PWxp"
      }
    },
    {
      "cell_type": "code",
      "execution_count": 1,
      "metadata": {
        "colab": {
          "base_uri": "https://localhost:8080/"
        },
        "id": "ED7t6wjZPEu2",
        "outputId": "92a00695-911a-4e9a-9fa9-e7708d16dd6e"
      },
      "outputs": [
        {
          "output_type": "stream",
          "name": "stdout",
          "text": [
            "2.14.0\n"
          ]
        }
      ],
      "source": [
        "# Imports\n",
        "import tensorflow as tf\n",
        "import numpy as np\n",
        "import matplotlib.pyplot as plt\n",
        "print(tf.__version__)"
      ]
    },
    {
      "cell_type": "markdown",
      "source": [
        "## Criando dados para ver e ajustar"
      ],
      "metadata": {
        "id": "aDYGARR1QeBD"
      }
    },
    {
      "cell_type": "code",
      "source": [
        "# Create features\n",
        "X = np.array([-7.0, -4.0, -1.0, 2.0, 5.0, 8.0, 11.0, 14.0])\n",
        "\n",
        "# Create labels\n",
        "y = np.array([3.0, 6.0, 9.0, 12.0, 15.0, 18.0, 21.0, 24.0])\n",
        "\n",
        "# Visualize it\n",
        "plt.scatter(X, y)\n",
        "plt.show()"
      ],
      "metadata": {
        "colab": {
          "base_uri": "https://localhost:8080/",
          "height": 435
        },
        "id": "5fnkA7iAQqoe",
        "outputId": "d29ea969-99c1-4ba3-ec93-194270d5c359"
      },
      "execution_count": 2,
      "outputs": [
        {
          "output_type": "display_data",
          "data": {
            "text/plain": [
              "<Figure size 640x480 with 1 Axes>"
            ],
            "image/png": "[encoded data removed]"
          },
          "metadata": {}
        }
      ]
    },
    {
      "cell_type": "code",
      "source": [
        "# Definindo a função que relaciona y e X\n",
        "y == X + 10"
      ],
      "metadata": {
        "colab": {
          "base_uri": "https://localhost:8080/"
        },
        "id": "uwDSoECWSl9Y",
        "outputId": "17dcf22f-3ad1-4484-e1d6-3f0bd76e932f"
      },
      "execution_count": 3,
      "outputs": [
        {
          "output_type": "execute_result",
          "data": {
            "text/plain": [
              "array([ True,  True,  True,  True,  True,  True,  True,  True])"
            ]
          },
          "metadata": {},
          "execution_count": 3
        }
      ]
    },
    {
      "cell_type": "markdown",
      "source": [
        "## Definindo o formato das variáveis de entrada e saída do sistema"
      ],
      "metadata": {
        "id": "pD2xoj82S34H"
      }
    },
    {
      "cell_type": "code",
      "source": [
        "# Create a demo tensor for our housing price prediction problem\n",
        "house_info = tf.constant([\"bedroom\", \"bathroom\", \"garage\"])\n",
        "house_price = tf.constant([939700])\n",
        "house_info, house_price"
      ],
      "metadata": {
        "colab": {
          "base_uri": "https://localhost:8080/"
        },
        "id": "X2GrA_fgTDTA",
        "outputId": "0fb17b9f-b48e-4a56-e040-b9e877b82677"
      },
      "execution_count": null,
      "outputs": [
        {
          "output_type": "execute_result",
          "data": {
            "text/plain": [
              "(<tf.Tensor: shape=(3,), dtype=string, numpy=array([b'bedroom', b'bathroom', b'garage'], dtype=object)>,\n",
              " <tf.Tensor: shape=(1,), dtype=int32, numpy=array([939700], dtype=int32)>)"
            ]
          },
          "metadata": {},
          "execution_count": 15
        }
      ]
    },
    {
      "cell_type": "markdown",
      "source": [
        "we want to use `house_info` to predict the `house_price` so maybe we use `X` to predict `y`"
      ],
      "metadata": {
        "id": "tCH4yQenUVnE"
      }
    },
    {
      "cell_type": "code",
      "source": [
        "input_shape = X.shape\n",
        "output_shape = y.shape\n",
        "input_shape, output_shape"
      ],
      "metadata": {
        "colab": {
          "base_uri": "https://localhost:8080/"
        },
        "id": "J0QoJLHGU8x2",
        "outputId": "0ed6acfe-3ad3-4ea8-ad48-2f3d1d664a3e"
      },
      "execution_count": null,
      "outputs": [
        {
          "output_type": "execute_result",
          "data": {
            "text/plain": [
              "((8,), (8,))"
            ]
          },
          "metadata": {},
          "execution_count": 16
        }
      ]
    },
    {
      "cell_type": "markdown",
      "source": [
        "this answered shapes doesn't make sense..."
      ],
      "metadata": {
        "id": "9tKomVBYVGTK"
      }
    },
    {
      "cell_type": "code",
      "source": [
        "# Se quisermos usar\n",
        "X[0], y[0]"
      ],
      "metadata": {
        "colab": {
          "base_uri": "https://localhost:8080/"
        },
        "id": "gmF59w3yT9Ce",
        "outputId": "ed3d3c4b-031d-4f3b-e5ca-e5993f479d4a"
      },
      "execution_count": null,
      "outputs": [
        {
          "output_type": "execute_result",
          "data": {
            "text/plain": [
              "(-7.0, 3.0)"
            ]
          },
          "metadata": {},
          "execution_count": 17
        }
      ]
    },
    {
      "cell_type": "code",
      "source": [
        "X[1], y[1]"
      ],
      "metadata": {
        "colab": {
          "base_uri": "https://localhost:8080/"
        },
        "id": "Keizz5PwVTEM",
        "outputId": "f367e317-4e22-4cf4-bd92-05994182d3d7"
      },
      "execution_count": null,
      "outputs": [
        {
          "output_type": "execute_result",
          "data": {
            "text/plain": [
              "(-4.0, 6.0)"
            ]
          },
          "metadata": {},
          "execution_count": 18
        }
      ]
    },
    {
      "cell_type": "code",
      "source": [
        "input_shape = X[0].shape\n",
        "output_shape = y[0].shape\n",
        "input_shape, output_shape"
      ],
      "metadata": {
        "colab": {
          "base_uri": "https://localhost:8080/"
        },
        "id": "qLsF6jSPVYAL",
        "outputId": "c63f675d-fa7a-43c6-bc52-04f704c4e885"
      },
      "execution_count": null,
      "outputs": [
        {
          "output_type": "execute_result",
          "data": {
            "text/plain": [
              "((), ())"
            ]
          },
          "metadata": {},
          "execution_count": 19
        }
      ]
    },
    {
      "cell_type": "code",
      "source": [
        "X[0].ndim"
      ],
      "metadata": {
        "colab": {
          "base_uri": "https://localhost:8080/"
        },
        "id": "7nIBYR0CVcdb",
        "outputId": "7eccbe02-d439-4430-cc94-c6c27eaf79f5"
      },
      "execution_count": null,
      "outputs": [
        {
          "output_type": "execute_result",
          "data": {
            "text/plain": [
              "0"
            ]
          },
          "metadata": {},
          "execution_count": 20
        }
      ]
    },
    {
      "cell_type": "code",
      "source": [
        "X[0], y[0]"
      ],
      "metadata": {
        "colab": {
          "base_uri": "https://localhost:8080/"
        },
        "id": "RUzwufRGpgLp",
        "outputId": "7fb1040b-cbd8-4486-834d-5c1f6e8ba776"
      },
      "execution_count": 4,
      "outputs": [
        {
          "output_type": "execute_result",
          "data": {
            "text/plain": [
              "(-7.0, 3.0)"
            ]
          },
          "metadata": {},
          "execution_count": 4
        }
      ]
    },
    {
      "cell_type": "code",
      "source": [
        "X = tf.cast(tf.constant(X), dtype=tf.float32)\n",
        "y = tf.cast(tf.constant(y), dtype=tf.float32)\n",
        "X, y"
      ],
      "metadata": {
        "colab": {
          "base_uri": "https://localhost:8080/"
        },
        "id": "konJnwR7py3o",
        "outputId": "6f754973-a13f-4a9c-bbb8-d2cb776e160b"
      },
      "execution_count": 5,
      "outputs": [
        {
          "output_type": "execute_result",
          "data": {
            "text/plain": [
              "(<tf.Tensor: shape=(8,), dtype=float32, numpy=array([-7., -4., -1.,  2.,  5.,  8., 11., 14.], dtype=float32)>,\n",
              " <tf.Tensor: shape=(8,), dtype=float32, numpy=array([ 3.,  6.,  9., 12., 15., 18., 21., 24.], dtype=float32)>)"
            ]
          },
          "metadata": {},
          "execution_count": 5
        }
      ]
    },
    {
      "cell_type": "code",
      "source": [
        "input_shape = X[0].shape\n",
        "output_shape = y[0].shape\n",
        "input_shape, output_shape"
      ],
      "metadata": {
        "colab": {
          "base_uri": "https://localhost:8080/"
        },
        "id": "0VCkI3UwqB8e",
        "outputId": "2b10bb06-ed88-4af4-c25b-79a1ae09ab96"
      },
      "execution_count": 6,
      "outputs": [
        {
          "output_type": "execute_result",
          "data": {
            "text/plain": [
              "(TensorShape([]), TensorShape([]))"
            ]
          },
          "metadata": {},
          "execution_count": 6
        }
      ]
    },
    {
      "cell_type": "code",
      "source": [
        "plt.scatter(X, y)\n",
        "plt.show()"
      ],
      "metadata": {
        "colab": {
          "base_uri": "https://localhost:8080/",
          "height": 435
        },
        "id": "keZtk5-VqL6H",
        "outputId": "5616908d-23de-4875-c67e-fc9d062131e1"
      },
      "execution_count": 8,
      "outputs": [
        {
          "output_type": "display_data",
          "data": {
            "text/plain": [
              "<Figure size 640x480 with 1 Axes>"
            ],
            "image/png": "[encoded data removed]"
          },
          "metadata": {}
        }
      ]
    },
    {
      "cell_type": "markdown",
      "source": [
        "We are working with a rank zero tensor"
      ],
      "metadata": {
        "id": "QbBmjnMYVeRP"
      }
    },
    {
      "cell_type": "code",
      "source": [
        "# Turn our NumPy arrays into tensors\n",
        "X = tf.constant(X)\n",
        "y = tf.constant(y)\n",
        "\n",
        "X,y"
      ],
      "metadata": {
        "colab": {
          "base_uri": "https://localhost:8080/"
        },
        "id": "hWFpdFt-VxOl",
        "outputId": "3b6786e1-0d21-4b06-caff-7d72ec67039a"
      },
      "execution_count": null,
      "outputs": [
        {
          "output_type": "execute_result",
          "data": {
            "text/plain": [
              "(<tf.Tensor: shape=(8,), dtype=float64, numpy=array([-7., -4., -1.,  2.,  5.,  8., 11., 14.])>,\n",
              " <tf.Tensor: shape=(8,), dtype=float64, numpy=array([ 3.,  6.,  9., 12., 15., 18., 21., 24.])>)"
            ]
          },
          "metadata": {},
          "execution_count": 21
        }
      ]
    },
    {
      "cell_type": "markdown",
      "source": [
        "\n",
        "## Steps in modelling with TensorFlow\n",
        "\n",
        "1.   **Creating a model** - define the input and output layers, as well as the\n",
        "hidden layers of a deep learning model.\n",
        "2.   **Compiling a model** - define the loss funtion (in other words, the function which tells our model how wrong it is) and the optimizer (tells our model how to improve the patterns its learning) and evaluation metrics (what we can use to interpret the performance of our model).\n",
        "3.   **Fitting a model** - letting the model try to find patterns between X & y (features and labels).\n",
        "\n"
      ],
      "metadata": {
        "id": "mf7z5EVhWwPZ"
      }
    },
    {
      "cell_type": "markdown",
      "source": [
        "# Optionally, the first layer can receive an `input_shape` argument:\n",
        "`model = tf.keras.Sequential()`\n",
        "\n",
        "`model.add(tf.keras.layers.Dense(8, input_shape=(16,)))`\n",
        "# Afterwards, we do automatic shape inference:\n",
        "`model.add(tf.keras.layers.Dense(4))`\n",
        "\n",
        "`model = tf.keras.Sequential()`\n",
        "\n",
        "`model.add(tf.keras.layers.Dense(8, input_shape=(16,)))`\n",
        "\n",
        "...\n",
        "\n",
        "`model = tf.keras.Sequential()`\n",
        "\n",
        "`model.add(tf.keras.layers.Dense(1))`"
      ],
      "metadata": {
        "id": "SP76kEtdmjFF"
      }
    },
    {
      "cell_type": "code",
      "source": [
        "# Set a random seed\n",
        "tf.random.set_seed(42)\n",
        "\n",
        "# 1. Create a model using the Sequential API\n",
        "model = tf.keras.Sequential([\n",
        "    tf.keras.layers.Dense(1)\n",
        "])\n",
        "\n",
        "# 2. Compile the model\n",
        "# mae = mean absolute error (erro absoluto médio) loss = mean(abs(y_true - y_pred), axis=-1)\n",
        "# sgd = stochastic gradient descent\n",
        "model.compile(loss=tf.keras.losses.mae, optimizer=tf.keras.optimizers.SGD(), metrics=[\"mae\"])\n",
        "\n",
        "# 3. Fit the model\n",
        "model.fit(tf.expand_dims(X, axis=-1), y, epochs=5) # <- updated line"
      ],
      "metadata": {
        "colab": {
          "base_uri": "https://localhost:8080/"
        },
        "id": "OjmoWioXXMvG",
        "outputId": "4f005154-efee-4730-ea58-953ee1be4911"
      },
      "execution_count": null,
      "outputs": [
        {
          "output_type": "stream",
          "name": "stdout",
          "text": [
            "Epoch 1/5\n",
            "1/1 [==============================] - 0s 423ms/step - loss: 13.6606 - mae: 13.6606\n",
            "Epoch 2/5\n",
            "1/1 [==============================] - 0s 10ms/step - loss: 13.5281 - mae: 13.5281\n",
            "Epoch 3/5\n",
            "1/1 [==============================] - 0s 6ms/step - loss: 13.3956 - mae: 13.3956\n",
            "Epoch 4/5\n",
            "1/1 [==============================] - 0s 7ms/step - loss: 13.2631 - mae: 13.2631\n",
            "Epoch 5/5\n",
            "1/1 [==============================] - 0s 6ms/step - loss: 13.1306 - mae: 13.1306\n"
          ]
        },
        {
          "output_type": "execute_result",
          "data": {
            "text/plain": [
              "<keras.callbacks.History at 0x7fb1d03e2eb0>"
            ]
          },
          "metadata": {},
          "execution_count": 22
        }
      ]
    },
    {
      "cell_type": "code",
      "source": [
        "# Check out X and y\n",
        "X, y"
      ],
      "metadata": {
        "colab": {
          "base_uri": "https://localhost:8080/"
        },
        "id": "4zgr2E3GohPv",
        "outputId": "63648349-9c29-49aa-a7c5-75386b124cb3"
      },
      "execution_count": null,
      "outputs": [
        {
          "output_type": "execute_result",
          "data": {
            "text/plain": [
              "(<tf.Tensor: shape=(8,), dtype=float64, numpy=array([-7., -4., -1.,  2.,  5.,  8., 11., 14.])>,\n",
              " <tf.Tensor: shape=(8,), dtype=float64, numpy=array([ 3.,  6.,  9., 12., 15., 18., 21., 24.])>)"
            ]
          },
          "metadata": {},
          "execution_count": 23
        }
      ]
    },
    {
      "cell_type": "code",
      "source": [
        "# Try and make a prediction using our model\n",
        "y_pred = model.predict([17.0])\n",
        "y_pred"
      ],
      "metadata": {
        "colab": {
          "base_uri": "https://localhost:8080/"
        },
        "id": "O1oo0E33olHv",
        "outputId": "52b58d7b-5e43-4c17-e05f-6b94a0ad1990"
      },
      "execution_count": null,
      "outputs": [
        {
          "output_type": "stream",
          "name": "stdout",
          "text": [
            "1/1 [==============================] - 0s 69ms/step\n"
          ]
        },
        {
          "output_type": "execute_result",
          "data": {
            "text/plain": [
              "array([[2.2447183]], dtype=float32)"
            ]
          },
          "metadata": {},
          "execution_count": 24
        }
      ]
    },
    {
      "cell_type": "markdown",
      "source": [
        "## Improving our model\n",
        "\n",
        "We can improve our mode, by altering the steps we took to create a model.\n",
        "\n",
        "1. **Creating a model** - here we might add more layers, increase the nmber of hidden units(all called neuros) within each of the hidden layers, change the activation function of each layer.\n",
        "\n",
        "2. **Compiling the model** - here we might change the optimization function or perhaps the **learning rate** of the optimization function.\n",
        "\n",
        "3. **Fitting the model** - here we might fit a model for more **epochs** (leave it training for longer) or more data (give the model more examples to learn from)."
      ],
      "metadata": {
        "id": "8RS5bGHio99v"
      }
    },
    {
      "cell_type": "code",
      "source": [
        "# Let's rebuild our model\n",
        "\n",
        "# 1. Create the model\n",
        "model = tf.keras.Sequential([\n",
        "    tf.keras.layers.Dense(50, activation=\"relu\"),\n",
        "    tf.keras.layers.Dense(1)\n",
        "])\n",
        "\n",
        "# 2. Compile the model\n",
        "model.compile(\n",
        "    loss=tf.keras.losses.mae,\n",
        "    optimizer=tf.keras.optimizers.Adam(learning_rate=0.01),\n",
        "    metrics=[\"mae\"]\n",
        ")\n",
        "\n",
        "# 3. Fit the model (this time we'll train for longer)\n",
        "model.fit(tf.expand_dims(X, axis=-1), y, epochs=100) # <- updated line"
      ],
      "metadata": {
        "colab": {
          "base_uri": "https://localhost:8080/"
        },
        "id": "tBdv0xTHrVeY",
        "outputId": "7a17268f-41de-4456-a1ff-29b82db72d24"
      },
      "execution_count": null,
      "outputs": [
        {
          "output_type": "stream",
          "name": "stdout",
          "text": [
            "Epoch 1/100\n",
            "2/2 [==============================] - 0s 6ms/step - loss: 42.4813 - mae: 42.4813\n",
            "Epoch 2/100\n",
            "2/2 [==============================] - 0s 5ms/step - loss: 33.8844 - mae: 33.8844\n",
            "Epoch 3/100\n",
            "2/2 [==============================] - 0s 4ms/step - loss: 26.1680 - mae: 26.1680\n",
            "Epoch 4/100\n",
            "2/2 [==============================] - 0s 4ms/step - loss: 17.7678 - mae: 17.7678\n",
            "Epoch 5/100\n",
            "2/2 [==============================] - 0s 4ms/step - loss: 9.1633 - mae: 9.1633\n",
            "Epoch 6/100\n",
            "2/2 [==============================] - 0s 4ms/step - loss: 5.9165 - mae: 5.9165\n",
            "Epoch 7/100\n",
            "2/2 [==============================] - 0s 4ms/step - loss: 8.7200 - mae: 8.7200\n",
            "Epoch 8/100\n",
            "2/2 [==============================] - 0s 4ms/step - loss: 10.3693 - mae: 10.3693\n",
            "Epoch 9/100\n",
            "2/2 [==============================] - 0s 4ms/step - loss: 9.2978 - mae: 9.2978\n",
            "Epoch 10/100\n",
            "2/2 [==============================] - 0s 4ms/step - loss: 6.2771 - mae: 6.2771\n",
            "Epoch 11/100\n",
            "2/2 [==============================] - 0s 4ms/step - loss: 4.2015 - mae: 4.2015\n",
            "Epoch 12/100\n",
            "2/2 [==============================] - 0s 4ms/step - loss: 5.4240 - mae: 5.4240\n",
            "Epoch 13/100\n",
            "2/2 [==============================] - 0s 4ms/step - loss: 5.9140 - mae: 5.9140\n",
            "Epoch 14/100\n",
            "2/2 [==============================] - 0s 5ms/step - loss: 5.2920 - mae: 5.2920\n",
            "Epoch 15/100\n",
            "2/2 [==============================] - 0s 4ms/step - loss: 5.2266 - mae: 5.2266\n",
            "Epoch 16/100\n",
            "2/2 [==============================] - 0s 4ms/step - loss: 4.9389 - mae: 4.9389\n",
            "Epoch 17/100\n",
            "2/2 [==============================] - 0s 4ms/step - loss: 4.5240 - mae: 4.5240\n",
            "Epoch 18/100\n",
            "2/2 [==============================] - 0s 4ms/step - loss: 4.6198 - mae: 4.6198\n",
            "Epoch 19/100\n",
            "2/2 [==============================] - 0s 4ms/step - loss: 4.2756 - mae: 4.2756\n",
            "Epoch 20/100\n",
            "2/2 [==============================] - 0s 4ms/step - loss: 4.2756 - mae: 4.2756\n",
            "Epoch 21/100\n",
            "2/2 [==============================] - 0s 4ms/step - loss: 4.0741 - mae: 4.0741\n",
            "Epoch 22/100\n",
            "2/2 [==============================] - 0s 4ms/step - loss: 4.0163 - mae: 4.0163\n",
            "Epoch 23/100\n",
            "2/2 [==============================] - 0s 6ms/step - loss: 4.0387 - mae: 4.0387\n",
            "Epoch 24/100\n",
            "2/2 [==============================] - 0s 4ms/step - loss: 3.8383 - mae: 3.8383\n",
            "Epoch 25/100\n",
            "2/2 [==============================] - 0s 4ms/step - loss: 3.7119 - mae: 3.7119\n",
            "Epoch 26/100\n",
            "2/2 [==============================] - 0s 5ms/step - loss: 3.7256 - mae: 3.7256\n",
            "Epoch 27/100\n",
            "2/2 [==============================] - 0s 5ms/step - loss: 3.7320 - mae: 3.7320\n",
            "Epoch 28/100\n",
            "2/2 [==============================] - 0s 6ms/step - loss: 3.8038 - mae: 3.8038\n",
            "Epoch 29/100\n",
            "2/2 [==============================] - 0s 4ms/step - loss: 3.6063 - mae: 3.6063\n",
            "Epoch 30/100\n",
            "2/2 [==============================] - 0s 4ms/step - loss: 3.5270 - mae: 3.5270\n",
            "Epoch 31/100\n",
            "2/2 [==============================] - 0s 4ms/step - loss: 3.4988 - mae: 3.4988\n",
            "Epoch 32/100\n",
            "2/2 [==============================] - 0s 4ms/step - loss: 3.5545 - mae: 3.5545\n",
            "Epoch 33/100\n",
            "2/2 [==============================] - 0s 4ms/step - loss: 3.4497 - mae: 3.4497\n",
            "Epoch 34/100\n",
            "2/2 [==============================] - 0s 6ms/step - loss: 3.4216 - mae: 3.4216\n",
            "Epoch 35/100\n",
            "2/2 [==============================] - 0s 4ms/step - loss: 3.4950 - mae: 3.4950\n",
            "Epoch 36/100\n",
            "2/2 [==============================] - 0s 5ms/step - loss: 3.3869 - mae: 3.3869\n",
            "Epoch 37/100\n",
            "2/2 [==============================] - 0s 5ms/step - loss: 3.2880 - mae: 3.2880\n",
            "Epoch 38/100\n",
            "2/2 [==============================] - 0s 5ms/step - loss: 3.3462 - mae: 3.3462\n",
            "Epoch 39/100\n",
            "2/2 [==============================] - 0s 4ms/step - loss: 3.3434 - mae: 3.3434\n",
            "Epoch 40/100\n",
            "2/2 [==============================] - 0s 4ms/step - loss: 3.2281 - mae: 3.2281\n",
            "Epoch 41/100\n",
            "2/2 [==============================] - 0s 5ms/step - loss: 3.2223 - mae: 3.2223\n",
            "Epoch 42/100\n",
            "2/2 [==============================] - 0s 4ms/step - loss: 3.1259 - mae: 3.1259\n",
            "Epoch 43/100\n",
            "2/2 [==============================] - 0s 4ms/step - loss: 3.1140 - mae: 3.1140\n",
            "Epoch 44/100\n",
            "2/2 [==============================] - 0s 4ms/step - loss: 3.1006 - mae: 3.1006\n",
            "Epoch 45/100\n",
            "2/2 [==============================] - 0s 4ms/step - loss: 3.0896 - mae: 3.0896\n",
            "Epoch 46/100\n",
            "2/2 [==============================] - 0s 5ms/step - loss: 3.0170 - mae: 3.0170\n",
            "Epoch 47/100\n",
            "2/2 [==============================] - 0s 8ms/step - loss: 2.9976 - mae: 2.9976\n",
            "Epoch 48/100\n",
            "2/2 [==============================] - 0s 4ms/step - loss: 2.9441 - mae: 2.9441\n",
            "Epoch 49/100\n",
            "2/2 [==============================] - 0s 5ms/step - loss: 3.0079 - mae: 3.0079\n",
            "Epoch 50/100\n",
            "2/2 [==============================] - 0s 5ms/step - loss: 2.9165 - mae: 2.9165\n",
            "Epoch 51/100\n",
            "2/2 [==============================] - 0s 5ms/step - loss: 2.9680 - mae: 2.9680\n",
            "Epoch 52/100\n",
            "2/2 [==============================] - 0s 4ms/step - loss: 2.7466 - mae: 2.7466\n",
            "Epoch 53/100\n",
            "2/2 [==============================] - 0s 4ms/step - loss: 2.8147 - mae: 2.8147\n",
            "Epoch 54/100\n",
            "2/2 [==============================] - 0s 5ms/step - loss: 2.7957 - mae: 2.7957\n",
            "Epoch 55/100\n",
            "2/2 [==============================] - 0s 5ms/step - loss: 2.6074 - mae: 2.6074\n",
            "Epoch 56/100\n",
            "2/2 [==============================] - 0s 5ms/step - loss: 2.6840 - mae: 2.6840\n",
            "Epoch 57/100\n",
            "2/2 [==============================] - 0s 5ms/step - loss: 2.5719 - mae: 2.5719\n",
            "Epoch 58/100\n",
            "2/2 [==============================] - 0s 5ms/step - loss: 2.4972 - mae: 2.4972\n",
            "Epoch 59/100\n",
            "2/2 [==============================] - 0s 4ms/step - loss: 2.5007 - mae: 2.5007\n",
            "Epoch 60/100\n",
            "2/2 [==============================] - 0s 4ms/step - loss: 2.4241 - mae: 2.4241\n",
            "Epoch 61/100\n",
            "2/2 [==============================] - 0s 5ms/step - loss: 2.4325 - mae: 2.4325\n",
            "Epoch 62/100\n",
            "2/2 [==============================] - 0s 4ms/step - loss: 2.3065 - mae: 2.3065\n",
            "Epoch 63/100\n",
            "2/2 [==============================] - 0s 5ms/step - loss: 2.4435 - mae: 2.4435\n",
            "Epoch 64/100\n",
            "2/2 [==============================] - 0s 4ms/step - loss: 2.4116 - mae: 2.4116\n",
            "Epoch 65/100\n",
            "2/2 [==============================] - 0s 5ms/step - loss: 2.3925 - mae: 2.3925\n",
            "Epoch 66/100\n",
            "2/2 [==============================] - 0s 5ms/step - loss: 2.2038 - mae: 2.2038\n",
            "Epoch 67/100\n",
            "2/2 [==============================] - 0s 5ms/step - loss: 2.2019 - mae: 2.2019\n",
            "Epoch 68/100\n",
            "2/2 [==============================] - 0s 4ms/step - loss: 2.1941 - mae: 2.1941\n",
            "Epoch 69/100\n",
            "2/2 [==============================] - 0s 5ms/step - loss: 2.1654 - mae: 2.1654\n",
            "Epoch 70/100\n",
            "2/2 [==============================] - 0s 4ms/step - loss: 1.9801 - mae: 1.9801\n",
            "Epoch 71/100\n",
            "2/2 [==============================] - 0s 5ms/step - loss: 1.9815 - mae: 1.9815\n",
            "Epoch 72/100\n",
            "2/2 [==============================] - 0s 4ms/step - loss: 1.8684 - mae: 1.8684\n",
            "Epoch 73/100\n",
            "2/2 [==============================] - 0s 4ms/step - loss: 1.8815 - mae: 1.8815\n",
            "Epoch 74/100\n",
            "2/2 [==============================] - 0s 4ms/step - loss: 1.8532 - mae: 1.8532\n",
            "Epoch 75/100\n",
            "2/2 [==============================] - 0s 4ms/step - loss: 1.6174 - mae: 1.6174\n",
            "Epoch 76/100\n",
            "2/2 [==============================] - 0s 5ms/step - loss: 1.6904 - mae: 1.6904\n",
            "Epoch 77/100\n",
            "2/2 [==============================] - 0s 5ms/step - loss: 1.5578 - mae: 1.5578\n",
            "Epoch 78/100\n",
            "2/2 [==============================] - 0s 5ms/step - loss: 1.4503 - mae: 1.4503\n",
            "Epoch 79/100\n",
            "2/2 [==============================] - 0s 5ms/step - loss: 1.2897 - mae: 1.2897\n",
            "Epoch 80/100\n",
            "2/2 [==============================] - 0s 5ms/step - loss: 1.3416 - mae: 1.3416\n",
            "Epoch 81/100\n",
            "2/2 [==============================] - 0s 5ms/step - loss: 1.1886 - mae: 1.1886\n",
            "Epoch 82/100\n",
            "2/2 [==============================] - 0s 4ms/step - loss: 1.1638 - mae: 1.1638\n",
            "Epoch 83/100\n",
            "2/2 [==============================] - 0s 5ms/step - loss: 0.9885 - mae: 0.9885\n",
            "Epoch 84/100\n",
            "2/2 [==============================] - 0s 4ms/step - loss: 0.9433 - mae: 0.9433\n",
            "Epoch 85/100\n",
            "2/2 [==============================] - 0s 4ms/step - loss: 0.9881 - mae: 0.9881\n",
            "Epoch 86/100\n",
            "2/2 [==============================] - 0s 4ms/step - loss: 0.7346 - mae: 0.7346\n",
            "Epoch 87/100\n",
            "2/2 [==============================] - 0s 4ms/step - loss: 0.8655 - mae: 0.8655\n",
            "Epoch 88/100\n",
            "2/2 [==============================] - 0s 4ms/step - loss: 0.7844 - mae: 0.7844\n",
            "Epoch 89/100\n",
            "2/2 [==============================] - 0s 4ms/step - loss: 1.3202 - mae: 1.3202\n",
            "Epoch 90/100\n",
            "2/2 [==============================] - 0s 4ms/step - loss: 0.8660 - mae: 0.8660\n",
            "Epoch 91/100\n",
            "2/2 [==============================] - 0s 4ms/step - loss: 1.5183 - mae: 1.5183\n",
            "Epoch 92/100\n",
            "2/2 [==============================] - 0s 4ms/step - loss: 0.8596 - mae: 0.8596\n",
            "Epoch 93/100\n",
            "2/2 [==============================] - 0s 4ms/step - loss: 1.5638 - mae: 1.5638\n",
            "Epoch 94/100\n",
            "2/2 [==============================] - 0s 4ms/step - loss: 0.8287 - mae: 0.8287\n",
            "Epoch 95/100\n",
            "2/2 [==============================] - 0s 4ms/step - loss: 1.1576 - mae: 1.1576\n",
            "Epoch 96/100\n",
            "2/2 [==============================] - 0s 4ms/step - loss: 1.1403 - mae: 1.1403\n",
            "Epoch 97/100\n",
            "2/2 [==============================] - 0s 4ms/step - loss: 0.6213 - mae: 0.6213\n",
            "Epoch 98/100\n",
            "2/2 [==============================] - 0s 4ms/step - loss: 0.6762 - mae: 0.6762\n",
            "Epoch 99/100\n",
            "2/2 [==============================] - 0s 4ms/step - loss: 0.5110 - mae: 0.5110\n",
            "Epoch 100/100\n",
            "2/2 [==============================] - 0s 4ms/step - loss: 0.3159 - mae: 0.3159\n"
          ]
        },
        {
          "output_type": "execute_result",
          "data": {
            "text/plain": [
              "<keras.callbacks.History at 0x7fb1d5bf3430>"
            ]
          },
          "metadata": {},
          "execution_count": 52
        }
      ]
    },
    {
      "cell_type": "code",
      "source": [
        "# Try and make a prediction using our model\n",
        "y_pred = model.predict([17.0])\n",
        "y_pred\n",
        "\n",
        "# the best model until now"
      ],
      "metadata": {
        "colab": {
          "base_uri": "https://localhost:8080/"
        },
        "id": "a3gDxGlNszPm",
        "outputId": "2438ccfe-2a37-459d-ef7d-71de14ce52e0"
      },
      "execution_count": null,
      "outputs": [
        {
          "output_type": "stream",
          "name": "stdout",
          "text": [
            "1/1 [==============================] - 0s 49ms/step\n"
          ]
        },
        {
          "output_type": "execute_result",
          "data": {
            "text/plain": [
              "array([[27.335331]], dtype=float32)"
            ]
          },
          "metadata": {},
          "execution_count": 26
        }
      ]
    },
    {
      "cell_type": "markdown",
      "metadata": {
        "id": "MYOVI6lMe_KR"
      },
      "source": [
        "## Evaluting a model\n",
        "\n",
        "In practice, a typical workflow you'll go through when building neural networks is:\n",
        "\n",
        "```\n",
        "Build a model  -> fit it -> evaluate it -> tweak a model -> fit it -> evaluate it -> tweak a model -> fit it -> evaluate it...\n",
        "```"
      ]
    },
    {
      "cell_type": "markdown",
      "metadata": {
        "id": "usrqoYOojh5S"
      },
      "source": [
        "When it comes to evaluation... there are 3 words you should memorize:\n",
        "\n",
        "> \"Visualize, visualize, visualize\"\n",
        "\n",
        "It's a good idea to visualize:\n",
        "* The data - what data are we working with? What does it look like?\n",
        "* The model itself - what does our model look like?\n",
        "* The training of a model - how does a model perform while it learns?\n",
        "* The predictions of the model - how do the predictions of a model line up against the ground truth (the original labels)?"
      ]
    },
    {
      "cell_type": "code",
      "metadata": {
        "colab": {
          "base_uri": "https://localhost:8080/"
        },
        "id": "8zcYJzAykVku",
        "outputId": "d9d9d703-ac72-459e-a1f5-a71679ccad18"
      },
      "source": [
        "# Make a bigger dataset\n",
        "X = tf.range(-100, 100, 4)\n",
        "X"
      ],
      "execution_count": null,
      "outputs": [
        {
          "output_type": "execute_result",
          "data": {
            "text/plain": [
              "<tf.Tensor: shape=(50,), dtype=int32, numpy=\n",
              "array([-100,  -96,  -92,  -88,  -84,  -80,  -76,  -72,  -68,  -64,  -60,\n",
              "        -56,  -52,  -48,  -44,  -40,  -36,  -32,  -28,  -24,  -20,  -16,\n",
              "        -12,   -8,   -4,    0,    4,    8,   12,   16,   20,   24,   28,\n",
              "         32,   36,   40,   44,   48,   52,   56,   60,   64,   68,   72,\n",
              "         76,   80,   84,   88,   92,   96], dtype=int32)>"
            ]
          },
          "metadata": {},
          "execution_count": 5
        }
      ]
    },
    {
      "cell_type": "code",
      "metadata": {
        "colab": {
          "base_uri": "https://localhost:8080/"
        },
        "id": "tYmBjJyGkyhf",
        "outputId": "65f83e3a-3f7d-4c34-b1cf-5796072a6e43"
      },
      "source": [
        "# Make labels for the dataset\n",
        "y = X + 10\n",
        "y"
      ],
      "execution_count": null,
      "outputs": [
        {
          "output_type": "execute_result",
          "data": {
            "text/plain": [
              "<tf.Tensor: shape=(50,), dtype=int32, numpy=\n",
              "array([-90, -86, -82, -78, -74, -70, -66, -62, -58, -54, -50, -46, -42,\n",
              "       -38, -34, -30, -26, -22, -18, -14, -10,  -6,  -2,   2,   6,  10,\n",
              "        14,  18,  22,  26,  30,  34,  38,  42,  46,  50,  54,  58,  62,\n",
              "        66,  70,  74,  78,  82,  86,  90,  94,  98, 102, 106], dtype=int32)>"
            ]
          },
          "metadata": {},
          "execution_count": 6
        }
      ]
    },
    {
      "cell_type": "code",
      "source": [
        "plt.scatter(X,y)\n",
        "plt.show()"
      ],
      "metadata": {
        "colab": {
          "base_uri": "https://localhost:8080/",
          "height": 430
        },
        "id": "P_POCiC-zt4U",
        "outputId": "d0dccd5d-1383-44a1-f691-d83cf82b8cd4"
      },
      "execution_count": null,
      "outputs": [
        {
          "output_type": "display_data",
          "data": {
            "text/plain": [
              "<Figure size 640x480 with 1 Axes>"
            ],
            "image/png": "[encoded data removed]"
          },
          "metadata": {}
        }
      ]
    },
    {
      "cell_type": "markdown",
      "metadata": {
        "id": "EYSYiP6mlE-g"
      },
      "source": [
        "### The 3 sets...\n",
        "\n",
        "* **Training set** - the model learns from this data, which is typically 70-80% of the total data you have available.\n",
        "* **Validation set** - the model gets tuned on this data, which is typically 10-15% of the data available.\n",
        "* **Test set** - the model gets evaluated on this data to test what is has learned, this set is typically 10-15% of the total data available.\n",
        "\n"
      ]
    },
    {
      "cell_type": "code",
      "metadata": {
        "colab": {
          "base_uri": "https://localhost:8080/"
        },
        "id": "o6x4ayTkmbsz",
        "outputId": "ff06b951-a92f-4926-89d7-d7f7d1fe9388"
      },
      "source": [
        "# Check the length of how many samples we have\n",
        "len(X)"
      ],
      "execution_count": null,
      "outputs": [
        {
          "output_type": "execute_result",
          "data": {
            "text/plain": [
              "50"
            ]
          },
          "metadata": {},
          "execution_count": 85
        }
      ]
    },
    {
      "cell_type": "code",
      "metadata": {
        "colab": {
          "base_uri": "https://localhost:8080/"
        },
        "id": "XSFQQTirmyvV",
        "outputId": "ba96e9e8-c741-4939-860d-883d5b718ebb"
      },
      "source": [
        "# Split the data into train and test sets\n",
        "X_train = X[:40] # first 40 are training samples (80% of the data)\n",
        "y_train = y[:40]\n",
        "\n",
        "X_test = X[40:] # last 10 are testing samples (20% of the data)\n",
        "y_test = y[40:]\n",
        "\n",
        "len(X_train), len(X_test), len(y_train), len(y_test)"
      ],
      "execution_count": null,
      "outputs": [
        {
          "output_type": "execute_result",
          "data": {
            "text/plain": [
              "(40, 10, 40, 10)"
            ]
          },
          "metadata": {},
          "execution_count": 7
        }
      ]
    },
    {
      "cell_type": "markdown",
      "metadata": {
        "id": "-TppBKDWnbKC"
      },
      "source": [
        "### Visualizing the data\n",
        "\n",
        "Now we've got our data in training and test sets... let's visualize it again!"
      ]
    },
    {
      "cell_type": "code",
      "metadata": {
        "colab": {
          "base_uri": "https://localhost:8080/",
          "height": 599
        },
        "id": "Wx8g6vh9nwLs",
        "outputId": "3aab22dc-1530-4dc4-d528-2478cf110734"
      },
      "source": [
        "plt.figure(figsize=(10, 7))\n",
        "# Plot training data in blue\n",
        "plt.scatter(X_train, y_train, c=\"b\", label=\"Training data\") # our model will learn on this\n",
        "# Plot test data in green\n",
        "plt.scatter(X_test, y_test, c=\"g\", label=\"Testing data\") # want our model to be able to predict this (given X, what's y?)\n",
        "# Show a legend\n",
        "plt.legend();"
      ],
      "execution_count": null,
      "outputs": [
        {
          "output_type": "display_data",
          "data": {
            "text/plain": [
              "<Figure size 1000x700 with 1 Axes>"
            ],
            "image/png": "[encoded data removed]"
          },
          "metadata": {}
        }
      ]
    },
    {
      "cell_type": "code",
      "metadata": {
        "id": "z0U3nhHtpKve"
      },
      "source": [
        "# Let's have a look at how to build a neural network for our data\n",
        "\n",
        "# 1. Create a model\n",
        "model = tf.keras.Sequential([\n",
        "  tf.keras.layers.Dense(1)\n",
        "])\n",
        "\n",
        "# 2. Compile the model\n",
        "model.compile(loss=tf.keras.losses.mae,\n",
        "              optimizer=tf.keras.optimizers.SGD(),\n",
        "              metrics=[\"mae\"])\n",
        "\n",
        "# # 3. Fit the model\n",
        "# model.fit(X_train, y_train, epochs=100)"
      ],
      "execution_count": null,
      "outputs": []
    },
    {
      "cell_type": "markdown",
      "metadata": {
        "id": "RnscI3h_qP5a"
      },
      "source": [
        "### Visualizing the model"
      ]
    },
    {
      "cell_type": "code",
      "metadata": {
        "colab": {
          "base_uri": "https://localhost:8080/",
          "height": 330
        },
        "id": "gfiOkjp5qSiZ",
        "outputId": "83cecc4c-df3d-46fb-cd83-d7e798788adf"
      },
      "source": [
        "model.summary()"
      ],
      "execution_count": null,
      "outputs": [
        {
          "output_type": "error",
          "ename": "ValueError",
          "evalue": "ignored",
          "traceback": [
            "\u001b[0;31m---------------------------------------------------------------------------\u001b[0m",
            "\u001b[0;31mValueError\u001b[0m                                Traceback (most recent call last)",
            "\u001b[0;32m<ipython-input-34-5f15418b3570>\u001b[0m in \u001b[0;36m<cell line: 1>\u001b[0;34m()\u001b[0m\n\u001b[0;32m----> 1\u001b[0;31m \u001b[0mmodel\u001b[0m\u001b[0;34m.\u001b[0m\u001b[0msummary\u001b[0m\u001b[0;34m(\u001b[0m\u001b[0;34m)\u001b[0m\u001b[0;34m\u001b[0m\u001b[0;34m\u001b[0m\u001b[0m\n\u001b[0m",
            "\u001b[0;32m/usr/local/lib/python3.9/dist-packages/keras/engine/training.py\u001b[0m in \u001b[0;36msummary\u001b[0;34m(self, line_length, positions, print_fn, expand_nested, show_trainable, layer_range)\u001b[0m\n\u001b[1;32m   3227\u001b[0m         \"\"\"\n\u001b[1;32m   3228\u001b[0m         \u001b[0;32mif\u001b[0m \u001b[0;32mnot\u001b[0m \u001b[0mself\u001b[0m\u001b[0;34m.\u001b[0m\u001b[0mbuilt\u001b[0m\u001b[0;34m:\u001b[0m\u001b[0;34m\u001b[0m\u001b[0;34m\u001b[0m\u001b[0m\n\u001b[0;32m-> 3229\u001b[0;31m             raise ValueError(\n\u001b[0m\u001b[1;32m   3230\u001b[0m                 \u001b[0;34m\"This model has not yet been built. \"\u001b[0m\u001b[0;34m\u001b[0m\u001b[0;34m\u001b[0m\u001b[0m\n\u001b[1;32m   3231\u001b[0m                 \u001b[0;34m\"Build the model first by calling `build()` or by calling \"\u001b[0m\u001b[0;34m\u001b[0m\u001b[0;34m\u001b[0m\u001b[0m\n",
            "\u001b[0;31mValueError\u001b[0m: This model has not yet been built. Build the model first by calling `build()` or by calling the model on a batch of data."
          ]
        }
      ]
    },
    {
      "cell_type": "code",
      "metadata": {
        "id": "jzPTRyrCqVpT"
      },
      "source": [
        "# Let's create a model which builds automatically by defining the input_shape argument in the first layer\n",
        "tf.random.set_seed(42)\n",
        "\n",
        "# 1. Create a model (same as above)\n",
        "model = tf.keras.Sequential([\n",
        "  tf.keras.layers.Dense(10, input_shape=[1], name=\"input_layer\"),\n",
        "  tf.keras.layers.Dense(1, name=\"output_layer\")\n",
        "], name=\"model_1\")\n",
        "\n",
        "# 2. Compile the model (same as above)\n",
        "model.compile(loss=tf.keras.losses.mae,\n",
        "              optimizer=tf.keras.optimizers.Adam(learning_rate=0.01),\n",
        "              metrics=[\"mae\"])"
      ],
      "execution_count": null,
      "outputs": []
    },
    {
      "cell_type": "code",
      "source": [
        "model.summary()"
      ],
      "metadata": {
        "colab": {
          "base_uri": "https://localhost:8080/"
        },
        "id": "j0BrVrfaPvB8",
        "outputId": "1b5d845e-e877-42ab-b649-c07a43342437"
      },
      "execution_count": null,
      "outputs": [
        {
          "output_type": "stream",
          "name": "stdout",
          "text": [
            "Model: \"model_1\"\n",
            "_________________________________________________________________\n",
            " Layer (type)                Output Shape              Param #   \n",
            "=================================================================\n",
            " input_layer (Dense)         (None, 10)                20        \n",
            "                                                                 \n",
            " output_layer (Dense)        (None, 1)                 11        \n",
            "                                                                 \n",
            "=================================================================\n",
            "Total params: 31\n",
            "Trainable params: 31\n",
            "Non-trainable params: 0\n",
            "_________________________________________________________________\n"
          ]
        }
      ]
    },
    {
      "cell_type": "markdown",
      "metadata": {
        "id": "n8BlRom8rhQx"
      },
      "source": [
        "* Total params - total number of parameters in the model.\n",
        "* Trainable parameters - these are the parameters (patterns) the model can update as it trains.\n",
        "* Non-trainable params - these parameters aren't updated during training (this is typical when you bring in already learn patterns or parameters from other models during **transfer learning**).\n",
        "\n",
        "📖 **Resource:** For a more in-depth overview of the trainable parameters within a layer, check out [MIT's introduction to deep learning video](https://youtu.be/njKP3FqW3Sk).\n",
        "\n",
        "🛠 **Exercise:** Try playing around with the number of hidden units in the dense layer, see how that effects the number of parameters (total and trainable) by calling `model.summary()`."
      ]
    },
    {
      "cell_type": "code",
      "metadata": {
        "id": "ZP91lGTgrPno"
      },
      "source": [
        "# Let's fit our model to the training data\n",
        "model.fit(X_train, y_train, epochs=100, verbose=0)"
      ],
      "execution_count": null,
      "outputs": []
    },
    {
      "cell_type": "code",
      "metadata": {
        "colab": {
          "base_uri": "https://localhost:8080/"
        },
        "id": "SS4oIHfktlex",
        "outputId": "6ac243f7-e8b5-4c22-a2ef-00ae04a1b17d"
      },
      "source": [
        "# Get a summary of our model\n",
        "model.summary()"
      ],
      "execution_count": null,
      "outputs": [
        {
          "output_type": "stream",
          "name": "stdout",
          "text": [
            "Model: \"model_1\"\n",
            "_________________________________________________________________\n",
            " Layer (type)                Output Shape              Param #   \n",
            "=================================================================\n",
            " input_layer (Dense)         (None, 50)                100       \n",
            "                                                                 \n",
            " output_layer (Dense)        (None, 1)                 51        \n",
            "                                                                 \n",
            "=================================================================\n",
            "Total params: 151\n",
            "Trainable params: 151\n",
            "Non-trainable params: 0\n",
            "_________________________________________________________________\n"
          ]
        }
      ]
    },
    {
      "cell_type": "code",
      "metadata": {
        "id": "--yP4uW8ugKH",
        "colab": {
          "base_uri": "https://localhost:8080/",
          "height": 312
        },
        "outputId": "80a0b722-a45c-4469-9470-38a29db99d0d"
      },
      "source": [
        "from tensorflow.keras.utils import plot_model\n",
        "\n",
        "plot_model(model=model, show_shapes=True)"
      ],
      "execution_count": null,
      "outputs": [
        {
          "output_type": "execute_result",
          "data": {
            "image/png": "[encoded data removed]",
            "text/plain": [
              "<IPython.core.display.Image object>"
            ]
          },
          "metadata": {},
          "execution_count": 89
        }
      ]
    },
    {
      "cell_type": "markdown",
      "metadata": {
        "id": "ORwPibL8u7Yk"
      },
      "source": [
        "### Visualizing our model's predictions\n",
        "\n",
        "To visualize predictions, it's a good idea to plot them against the ground truth labels.\n",
        "\n",
        "Often you'll see this in the form of `y_test` or `y_true` versus `y_pred` (ground truth versus your model's predictions)."
      ]
    },
    {
      "cell_type": "code",
      "metadata": {
        "colab": {
          "base_uri": "https://localhost:8080/"
        },
        "id": "85dQbIrHsggD",
        "outputId": "55e74cc8-16ae-4884-f9df-1c5979ba7223"
      },
      "source": [
        "# Make some predictions\n",
        "y_pred = model.predict(X_test)\n",
        "y_pred"
      ],
      "execution_count": null,
      "outputs": [
        {
          "output_type": "stream",
          "name": "stdout",
          "text": [
            "1/1 [==============================] - 0s 44ms/step\n"
          ]
        },
        {
          "output_type": "execute_result",
          "data": {
            "text/plain": [
              "array([[ 7.766968],\n",
              "       [ 8.284769],\n",
              "       [ 8.802564],\n",
              "       [ 9.320364],\n",
              "       [ 9.838161],\n",
              "       [10.355959],\n",
              "       [10.87376 ],\n",
              "       [11.391556],\n",
              "       [11.909356],\n",
              "       [12.427153]], dtype=float32)"
            ]
          },
          "metadata": {},
          "execution_count": 16
        }
      ]
    },
    {
      "cell_type": "code",
      "metadata": {
        "colab": {
          "base_uri": "https://localhost:8080/"
        },
        "id": "Iw7TyglVtUZL",
        "outputId": "340851e6-f02c-48a8-8ddc-bd447898adcc"
      },
      "source": [
        "y_test"
      ],
      "execution_count": null,
      "outputs": [
        {
          "output_type": "execute_result",
          "data": {
            "text/plain": [
              "<tf.Tensor: shape=(10,), dtype=int32, numpy=array([ 70,  74,  78,  82,  86,  90,  94,  98, 102, 106], dtype=int32)>"
            ]
          },
          "metadata": {},
          "execution_count": 92
        }
      ]
    },
    {
      "cell_type": "markdown",
      "metadata": {
        "id": "rZvNFJGVtjov"
      },
      "source": [
        "🔑 **Note:** If you feel like you're going to reuse some kind of functionality in the future, it's a good idea to turn it into a function."
      ]
    },
    {
      "cell_type": "code",
      "metadata": {
        "id": "sJsnIciYtWfn"
      },
      "source": [
        "# Let's create a plotting function\n",
        "def plot_predictions(train_data=X_train,\n",
        "                     train_labels=y_train,\n",
        "                     test_data=X_test,\n",
        "                     test_labels=y_test,\n",
        "                     predictions=y_pred):\n",
        "  \"\"\"\n",
        "  Plots training data, test data and compares predictions to ground truth labels.\n",
        "  \"\"\"\n",
        "  plt.figure(figsize=(10, 7))\n",
        "  # Plot training data in blue\n",
        "  plt.scatter(train_data, train_labels, c=\"b\", label=\"Training data\")\n",
        "  # Plot testing data in green\n",
        "  plt.scatter(test_data, test_labels, c=\"g\", label=\"Testing data\")\n",
        "  # Plot model's predictions in red\n",
        "  plt.scatter(test_data, predictions, c=\"r\", label=\"Predictions\")\n",
        "  # Show the legend\n",
        "  plt.legend();"
      ],
      "execution_count": null,
      "outputs": []
    },
    {
      "cell_type": "code",
      "metadata": {
        "colab": {
          "base_uri": "https://localhost:8080/",
          "height": 599
        },
        "id": "6VeRueShuhfN",
        "outputId": "a78171b7-5584-4822-8ff4-1daa8d118398"
      },
      "source": [
        "plot_predictions(train_data=X_train,\n",
        "                 train_labels=y_train,\n",
        "                 test_data=X_test,\n",
        "                 test_labels=y_test,\n",
        "                 predictions=y_pred)"
      ],
      "execution_count": null,
      "outputs": [
        {
          "output_type": "display_data",
          "data": {
            "text/plain": [
              "<Figure size 1000x700 with 1 Axes>"
            ],
            "image/png": "[encoded data removed]"
          },
          "metadata": {}
        }
      ]
    },
    {
      "cell_type": "markdown",
      "metadata": {
        "id": "poOuTGosukJU"
      },
      "source": [
        "### Evaluting our model's predictions with regression evaluation metrics\n",
        "\n",
        "Depending on the problem you're working on, there will be different evaluation metrics to evaluate your model's performance.\n",
        "\n",
        "Since we're working on a regression, two of the main metrics:\n",
        "* MAE - mean absolute error, \"on average, how wrong is each of my model's predictions\"\n",
        "* MSE - mean square error, \"square the average errors\""
      ]
    },
    {
      "cell_type": "code",
      "metadata": {
        "colab": {
          "base_uri": "https://localhost:8080/"
        },
        "id": "FmeohFOJu_C_",
        "outputId": "05561ad3-cda6-47b7-c33b-d7b463827725"
      },
      "source": [
        "# Evaluate the model on the test\n",
        "model.evaluate(X_test, y_test)"
      ],
      "execution_count": null,
      "outputs": [
        {
          "output_type": "stream",
          "name": "stdout",
          "text": [
            "1/1 [==============================] - 0s 102ms/step - loss: 2.8072 - mae: 2.8072\n"
          ]
        },
        {
          "output_type": "execute_result",
          "data": {
            "text/plain": [
              "[2.8072142601013184, 2.8072142601013184]"
            ]
          },
          "metadata": {},
          "execution_count": 93
        }
      ]
    },
    {
      "cell_type": "code",
      "metadata": {
        "colab": {
          "base_uri": "https://localhost:8080/"
        },
        "id": "eWAP6TCJyUeL",
        "outputId": "b870041b-b38d-4704-cc6f-2bd4916228c8"
      },
      "source": [
        "# Calculate the mean absolute error\n",
        "mae = tf.metrics.mean_absolute_error(y_true=y_test,\n",
        "                                     y_pred=tf.constant(y_pred))\n",
        "mae"
      ],
      "execution_count": null,
      "outputs": [
        {
          "output_type": "execute_result",
          "data": {
            "text/plain": [
              "<tf.Tensor: shape=(10,), dtype=float32, numpy=\n",
              "array([20.588936, 16.909948, 14.011566, 11.893784, 10.556593, 10.      ,\n",
              "       10.224004, 11.22861 , 13.013811, 15.579608], dtype=float32)>"
            ]
          },
          "metadata": {},
          "execution_count": 94
        }
      ]
    },
    {
      "cell_type": "code",
      "metadata": {
        "colab": {
          "base_uri": "https://localhost:8080/"
        },
        "id": "znxoDzBCyGEd",
        "outputId": "7592c819-bf41-42f5-d2e5-54160a047d0c"
      },
      "source": [
        "tf.constant(y_pred)"
      ],
      "execution_count": null,
      "outputs": [
        {
          "output_type": "execute_result",
          "data": {
            "text/plain": [
              "<tf.Tensor: shape=(10, 1), dtype=float32, numpy=\n",
              "array([[ 67.411064],\n",
              "       [ 71.362564],\n",
              "       [ 75.31406 ],\n",
              "       [ 79.26554 ],\n",
              "       [ 83.21703 ],\n",
              "       [ 87.16853 ],\n",
              "       [ 91.12002 ],\n",
              "       [ 95.071526],\n",
              "       [ 99.02302 ],\n",
              "       [102.97451 ]], dtype=float32)>"
            ]
          },
          "metadata": {},
          "execution_count": 95
        }
      ]
    },
    {
      "cell_type": "code",
      "metadata": {
        "colab": {
          "base_uri": "https://localhost:8080/"
        },
        "id": "NB5OwjD2ySv4",
        "outputId": "eff58ecd-3499-4fba-b78c-a7c814bf00a2"
      },
      "source": [
        "y_test"
      ],
      "execution_count": null,
      "outputs": [
        {
          "output_type": "execute_result",
          "data": {
            "text/plain": [
              "<tf.Tensor: shape=(10,), dtype=int32, numpy=array([ 70,  74,  78,  82,  86,  90,  94,  98, 102, 106], dtype=int32)>"
            ]
          },
          "metadata": {},
          "execution_count": 96
        }
      ]
    },
    {
      "cell_type": "code",
      "metadata": {
        "colab": {
          "base_uri": "https://localhost:8080/"
        },
        "id": "fit8MiNSyTZu",
        "outputId": "5ec19d11-18e3-40b4-9b3a-ecac8e9852f1"
      },
      "source": [
        "tf.squeeze(y_pred)"
      ],
      "execution_count": null,
      "outputs": [
        {
          "output_type": "execute_result",
          "data": {
            "text/plain": [
              "<tf.Tensor: shape=(10,), dtype=float32, numpy=\n",
              "array([ 67.411064,  71.362564,  75.31406 ,  79.26554 ,  83.21703 ,\n",
              "        87.16853 ,  91.12002 ,  95.071526,  99.02302 , 102.97451 ],\n",
              "      dtype=float32)>"
            ]
          },
          "metadata": {},
          "execution_count": 97
        }
      ]
    },
    {
      "cell_type": "code",
      "metadata": {
        "colab": {
          "base_uri": "https://localhost:8080/"
        },
        "id": "nFhtsK8J1j2M",
        "outputId": "23895868-7404-42a6-dad6-f39522d93004"
      },
      "source": [
        "# Calculate the mean absolute error\n",
        "mae = tf.metrics.mean_absolute_error(y_true=y_test,\n",
        "                                     y_pred=tf.squeeze(y_pred))\n",
        "mae"
      ],
      "execution_count": null,
      "outputs": [
        {
          "output_type": "execute_result",
          "data": {
            "text/plain": [
              "<tf.Tensor: shape=(), dtype=float32, numpy=2.8072135>"
            ]
          },
          "metadata": {},
          "execution_count": 98
        }
      ]
    },
    {
      "cell_type": "code",
      "metadata": {
        "colab": {
          "base_uri": "https://localhost:8080/"
        },
        "id": "BK4bRMgi4LcR",
        "outputId": "68ec48f9-0aeb-4a58-e246-f078c0acdc6e"
      },
      "source": [
        "# Calculate the mean square error\n",
        "mse = tf.metrics.mean_squared_error(y_true=y_test,\n",
        "                                    y_pred=tf.squeeze(y_pred))\n",
        "mse"
      ],
      "execution_count": null,
      "outputs": [
        {
          "output_type": "execute_result",
          "data": {
            "text/plain": [
              "<tf.Tensor: shape=(), dtype=float32, numpy=7.8998594>"
            ]
          },
          "metadata": {},
          "execution_count": 99
        }
      ]
    },
    {
      "cell_type": "code",
      "metadata": {
        "id": "h46VZYQ28tFP"
      },
      "source": [
        "# Make some functions to reuse MAE and MSE\n",
        "def mae(y_true, y_pred):\n",
        "  return tf.metrics.mean_absolute_error(y_true=y_true,\n",
        "                                        y_pred=tf.squeeze(y_pred))\n",
        "\n",
        "def mse(y_true, y_pred):\n",
        "  return tf.metrics.mean_squared_error(y_true=y_true,\n",
        "                                       y_pred=tf.squeeze(y_pred))\n",
        ""
      ],
      "execution_count": null,
      "outputs": []
    },
    {
      "cell_type": "markdown",
      "metadata": {
        "id": "E4mlm41z9w6S"
      },
      "source": [
        "## Running experiments to improve our model\n",
        "\n",
        "```\n",
        "Build a model -> fit it -> evaluate it -> tweak it -> fit it -> evaluate it -> tweak it -> fit it -> evaluate it ...\n",
        "```\n",
        "\n",
        "1. Get more data - get more examples for your model to train on (more opportunities to learn patterns or relationships between features and labels).\n",
        "2. Make your model larger (using a more complex model) - this might come in the form of more layers or more hidden units in each layer.\n",
        "3. Train for longer - give your model more of a chance to find patterns in the data.\n",
        "\n",
        "Let's do 3 modelling experiments:\n",
        "\n",
        "1. `model_1` - same as the original model, 1 layer, trained for 100 epochs\n",
        "2. `model_2` - 2 layers, trained for 100 epochs\n",
        "3. `model_3` - 2 layers, trained for 500 epochs\n",
        "\n",
        "**Build `model_1`**"
      ]
    },
    {
      "cell_type": "code",
      "source": [
        "X_train = tf.expand_dims(X_train , axis = 1)"
      ],
      "metadata": {
        "id": "cEoEvQHPb4FQ"
      },
      "execution_count": null,
      "outputs": []
    },
    {
      "cell_type": "code",
      "source": [
        "# Set a random seed\n",
        "tf.random.set_seed(42)\n",
        "\n",
        "# 1. Create the model\n",
        "model_1 = tf.keras.Sequential([\n",
        "    tf.keras.layers.Dense(1)\n",
        "])\n",
        "\n",
        "# 2. Compile the model\n",
        "model_1.compile(loss=tf.keras.losses.mae,\n",
        "               optimizer=tf.keras.optimizers.Adam(learning_rate=0.01),\n",
        "               metrics=[\"mae\"])\n",
        "\n",
        "# 3.Fit the model\n",
        "model_1.fit(tf.expand_dims(X_train , axis = 1), y_train, epochs=100, verbose=0)"
      ],
      "metadata": {
        "colab": {
          "base_uri": "https://localhost:8080/"
        },
        "id": "ONMWGZAqRl-h",
        "outputId": "d262e7b6-325b-4d7e-f08e-0bee2aa5b910"
      },
      "execution_count": null,
      "outputs": [
        {
          "output_type": "execute_result",
          "data": {
            "text/plain": [
              "<keras.callbacks.History at 0x7fb1d0bf71c0>"
            ]
          },
          "metadata": {},
          "execution_count": 102
        }
      ]
    },
    {
      "cell_type": "code",
      "source": [
        "# Make predicts and plot data for model_1\n",
        "y_preds_1 = model_1.predict(X_test)\n",
        "plot_predictions(predictions=y_preds_1)"
      ],
      "metadata": {
        "colab": {
          "base_uri": "https://localhost:8080/",
          "height": 617
        },
        "id": "2UnykqJgUnFP",
        "outputId": "e5ef6367-8411-4872-9f46-4d7e63f93c5c"
      },
      "execution_count": null,
      "outputs": [
        {
          "output_type": "stream",
          "name": "stdout",
          "text": [
            "1/1 [==============================] - 0s 21ms/step\n"
          ]
        },
        {
          "output_type": "display_data",
          "data": {
            "text/plain": [
              "<Figure size 1000x700 with 1 Axes>"
            ],
            "image/png": "[encoded data removed]"
          },
          "metadata": {}
        }
      ]
    },
    {
      "cell_type": "code",
      "source": [
        "# Calculate model_1 evaluation metrics\n",
        "mae_1 = mae(y_test, y_preds_1)\n",
        "mse_1 = mse(y_test, y_preds_1)\n",
        "mae_1, mse_1"
      ],
      "metadata": {
        "colab": {
          "base_uri": "https://localhost:8080/"
        },
        "id": "fsjO07rqXTci",
        "outputId": "06e84485-b105-4cff-eb17-d1920aa7bcce"
      },
      "execution_count": null,
      "outputs": [
        {
          "output_type": "execute_result",
          "data": {
            "text/plain": [
              "(<tf.Tensor: shape=(), dtype=float32, numpy=16.05885>,\n",
              " <tf.Tensor: shape=(), dtype=float32, numpy=259.25073>)"
            ]
          },
          "metadata": {},
          "execution_count": 107
        }
      ]
    },
    {
      "cell_type": "markdown",
      "metadata": {
        "id": "lMKAg48cAcAX"
      },
      "source": [
        "**Build `model_2`**\n",
        "\n",
        "* 2 dense layers, trained for 100 epochs"
      ]
    },
    {
      "cell_type": "code",
      "metadata": {
        "colab": {
          "base_uri": "https://localhost:8080/"
        },
        "id": "KfNxa4oOBK55",
        "outputId": "7db2de2f-6526-4348-9491-c071784438df"
      },
      "source": [
        "# Set the random seed\n",
        "tf.random.set_seed(42)\n",
        "\n",
        "# 1. Create the model\n",
        "model_2 = tf.keras.Sequential([\n",
        "  tf.keras.layers.Dense(10),\n",
        "  tf.keras.layers.Dense(1)\n",
        "])\n",
        "\n",
        "# 2. Compile the model\n",
        "model_2.compile(loss=tf.keras.losses.mae,\n",
        "                optimizer=tf.keras.optimizers.SGD(),\n",
        "                metrics=[\"mse\"])\n",
        "\n",
        "# 3. Fit the model\n",
        "model_2.fit(X_train, y_train, epochs=100)"
      ],
      "execution_count": null,
      "outputs": [
        {
          "output_type": "stream",
          "name": "stdout",
          "text": [
            "Epoch 1/100\n",
            "2/2 [==============================] - 1s 15ms/step - loss: 43.0276 - mse: 2848.5701\n",
            "Epoch 2/100\n",
            "2/2 [==============================] - 0s 7ms/step - loss: 25.7464 - mse: 860.4113\n",
            "Epoch 3/100\n",
            "2/2 [==============================] - 0s 10ms/step - loss: 31.5277 - mse: 1467.8625\n",
            "Epoch 4/100\n",
            "2/2 [==============================] - 0s 8ms/step - loss: 24.7443 - mse: 889.0248\n",
            "Epoch 5/100\n",
            "2/2 [==============================] - 0s 8ms/step - loss: 14.6590 - mse: 267.2271\n",
            "Epoch 6/100\n",
            "2/2 [==============================] - 0s 6ms/step - loss: 11.6716 - mse: 159.0674\n",
            "Epoch 7/100\n",
            "2/2 [==============================] - 0s 7ms/step - loss: 11.0168 - mse: 146.8194\n",
            "Epoch 8/100\n",
            "2/2 [==============================] - 0s 4ms/step - loss: 11.0287 - mse: 152.2413\n",
            "Epoch 9/100\n",
            "2/2 [==============================] - 0s 6ms/step - loss: 39.7682 - mse: 2481.9819\n",
            "Epoch 10/100\n",
            "2/2 [==============================] - 0s 6ms/step - loss: 27.2527 - mse: 1045.1803\n",
            "Epoch 11/100\n",
            "2/2 [==============================] - 0s 6ms/step - loss: 11.0206 - mse: 181.2730\n",
            "Epoch 12/100\n",
            "2/2 [==============================] - 0s 7ms/step - loss: 24.3830 - mse: 835.0492\n",
            "Epoch 13/100\n",
            "2/2 [==============================] - 0s 6ms/step - loss: 19.3227 - mse: 525.6818\n",
            "Epoch 14/100\n",
            "2/2 [==============================] - 0s 7ms/step - loss: 23.5704 - mse: 851.5605\n",
            "Epoch 15/100\n",
            "2/2 [==============================] - 0s 8ms/step - loss: 15.6782 - mse: 334.3498\n",
            "Epoch 16/100\n",
            "2/2 [==============================] - 0s 5ms/step - loss: 10.4008 - mse: 124.4954\n",
            "Epoch 17/100\n",
            "2/2 [==============================] - 0s 6ms/step - loss: 19.5958 - mse: 521.7922\n",
            "Epoch 18/100\n",
            "2/2 [==============================] - 0s 8ms/step - loss: 13.2494 - mse: 274.0405\n",
            "Epoch 19/100\n",
            "2/2 [==============================] - 0s 9ms/step - loss: 16.0056 - mse: 409.2746\n",
            "Epoch 20/100\n",
            "2/2 [==============================] - 0s 9ms/step - loss: 10.1811 - mse: 154.2601\n",
            "Epoch 21/100\n",
            "2/2 [==============================] - 0s 8ms/step - loss: 13.7208 - mse: 247.8894\n",
            "Epoch 22/100\n",
            "2/2 [==============================] - 0s 8ms/step - loss: 21.9130 - mse: 680.8602\n",
            "Epoch 23/100\n",
            "2/2 [==============================] - 0s 6ms/step - loss: 10.4556 - mse: 166.4642\n",
            "Epoch 24/100\n",
            "2/2 [==============================] - 0s 7ms/step - loss: 15.7545 - mse: 333.2580\n",
            "Epoch 25/100\n",
            "2/2 [==============================] - 0s 7ms/step - loss: 14.9023 - mse: 292.3204\n",
            "Epoch 26/100\n",
            "2/2 [==============================] - 0s 15ms/step - loss: 19.5339 - mse: 578.3042\n",
            "Epoch 27/100\n",
            "2/2 [==============================] - 0s 8ms/step - loss: 20.5104 - mse: 635.8766\n",
            "Epoch 28/100\n",
            "2/2 [==============================] - 0s 7ms/step - loss: 14.8866 - mse: 341.4973\n",
            "Epoch 29/100\n",
            "2/2 [==============================] - 0s 7ms/step - loss: 9.2585 - mse: 93.3261\n",
            "Epoch 30/100\n",
            "2/2 [==============================] - 0s 7ms/step - loss: 30.2554 - mse: 1670.7751\n",
            "Epoch 31/100\n",
            "2/2 [==============================] - 0s 8ms/step - loss: 54.9619 - mse: 5416.4346\n",
            "Epoch 32/100\n",
            "2/2 [==============================] - 0s 7ms/step - loss: 9.6732 - mse: 102.4719\n",
            "Epoch 33/100\n",
            "2/2 [==============================] - 0s 7ms/step - loss: 12.2807 - mse: 189.1884\n",
            "Epoch 34/100\n",
            "2/2 [==============================] - 0s 7ms/step - loss: 24.3778 - mse: 902.4194\n",
            "Epoch 35/100\n",
            "2/2 [==============================] - 0s 7ms/step - loss: 11.9640 - mse: 210.0221\n",
            "Epoch 36/100\n",
            "2/2 [==============================] - 0s 7ms/step - loss: 22.2271 - mse: 702.5228\n",
            "Epoch 37/100\n",
            "2/2 [==============================] - 0s 6ms/step - loss: 17.3545 - mse: 428.5882\n",
            "Epoch 38/100\n",
            "2/2 [==============================] - 0s 7ms/step - loss: 10.6572 - mse: 130.4436\n",
            "Epoch 39/100\n",
            "2/2 [==============================] - 0s 7ms/step - loss: 11.1742 - mse: 161.4786\n",
            "Epoch 40/100\n",
            "2/2 [==============================] - 0s 6ms/step - loss: 17.9683 - mse: 467.1712\n",
            "Epoch 41/100\n",
            "2/2 [==============================] - 0s 6ms/step - loss: 10.3917 - mse: 183.1678\n",
            "Epoch 42/100\n",
            "2/2 [==============================] - 0s 6ms/step - loss: 7.2678 - mse: 75.5856\n",
            "Epoch 43/100\n",
            "2/2 [==============================] - 0s 6ms/step - loss: 18.9367 - mse: 531.4994\n",
            "Epoch 44/100\n",
            "2/2 [==============================] - 0s 6ms/step - loss: 20.0894 - mse: 624.0247\n",
            "Epoch 45/100\n",
            "2/2 [==============================] - 0s 7ms/step - loss: 10.1129 - mse: 127.6495\n",
            "Epoch 46/100\n",
            "2/2 [==============================] - 0s 7ms/step - loss: 11.3722 - mse: 160.0079\n",
            "Epoch 47/100\n",
            "2/2 [==============================] - 0s 7ms/step - loss: 9.8186 - mse: 152.7736\n",
            "Epoch 48/100\n",
            "2/2 [==============================] - 0s 7ms/step - loss: 17.6108 - mse: 421.7254\n",
            "Epoch 49/100\n",
            "2/2 [==============================] - 0s 7ms/step - loss: 9.3278 - mse: 95.4684\n",
            "Epoch 50/100\n",
            "2/2 [==============================] - 0s 6ms/step - loss: 13.3752 - mse: 236.0782\n",
            "Epoch 51/100\n",
            "2/2 [==============================] - 0s 6ms/step - loss: 11.4310 - mse: 148.5798\n",
            "Epoch 52/100\n",
            "2/2 [==============================] - 0s 6ms/step - loss: 29.4122 - mse: 1483.6042\n",
            "Epoch 53/100\n",
            "2/2 [==============================] - 0s 7ms/step - loss: 16.7554 - mse: 415.6690\n",
            "Epoch 54/100\n",
            "2/2 [==============================] - 0s 7ms/step - loss: 21.7360 - mse: 696.7379\n",
            "Epoch 55/100\n",
            "2/2 [==============================] - 0s 6ms/step - loss: 22.1830 - mse: 736.4539\n",
            "Epoch 56/100\n",
            "2/2 [==============================] - 0s 7ms/step - loss: 11.2417 - mse: 171.4107\n",
            "Epoch 57/100\n",
            "2/2 [==============================] - 0s 7ms/step - loss: 13.2227 - mse: 218.6981\n",
            "Epoch 58/100\n",
            "2/2 [==============================] - 0s 7ms/step - loss: 9.8725 - mse: 107.5842\n",
            "Epoch 59/100\n",
            "2/2 [==============================] - 0s 7ms/step - loss: 13.4175 - mse: 255.6022\n",
            "Epoch 60/100\n",
            "2/2 [==============================] - 0s 7ms/step - loss: 10.9392 - mse: 141.7322\n",
            "Epoch 61/100\n",
            "2/2 [==============================] - 0s 7ms/step - loss: 13.5664 - mse: 246.8037\n",
            "Epoch 62/100\n",
            "2/2 [==============================] - 0s 8ms/step - loss: 17.8965 - mse: 487.6519\n",
            "Epoch 63/100\n",
            "2/2 [==============================] - 0s 7ms/step - loss: 8.7398 - mse: 91.9149\n",
            "Epoch 64/100\n",
            "2/2 [==============================] - 0s 8ms/step - loss: 16.1521 - mse: 374.0263\n",
            "Epoch 65/100\n",
            "2/2 [==============================] - 0s 8ms/step - loss: 10.7497 - mse: 146.9896\n",
            "Epoch 66/100\n",
            "2/2 [==============================] - 0s 8ms/step - loss: 22.2110 - mse: 731.0127\n",
            "Epoch 67/100\n",
            "2/2 [==============================] - 0s 6ms/step - loss: 10.2737 - mse: 121.3666\n",
            "Epoch 68/100\n",
            "2/2 [==============================] - 0s 6ms/step - loss: 13.4840 - mse: 269.8004\n",
            "Epoch 69/100\n",
            "2/2 [==============================] - 0s 6ms/step - loss: 11.4416 - mse: 163.7012\n",
            "Epoch 70/100\n",
            "2/2 [==============================] - 0s 6ms/step - loss: 13.6280 - mse: 246.4838\n",
            "Epoch 71/100\n",
            "2/2 [==============================] - 0s 6ms/step - loss: 15.6463 - mse: 347.8701\n",
            "Epoch 72/100\n",
            "2/2 [==============================] - 0s 6ms/step - loss: 11.8616 - mse: 168.8608\n",
            "Epoch 73/100\n",
            "2/2 [==============================] - 0s 6ms/step - loss: 16.6465 - mse: 373.4623\n",
            "Epoch 74/100\n",
            "2/2 [==============================] - 0s 6ms/step - loss: 24.1868 - mse: 920.8927\n",
            "Epoch 75/100\n",
            "2/2 [==============================] - 0s 6ms/step - loss: 9.6406 - mse: 149.0391\n",
            "Epoch 76/100\n",
            "2/2 [==============================] - 0s 7ms/step - loss: 12.4949 - mse: 190.2731\n",
            "Epoch 77/100\n",
            "2/2 [==============================] - 0s 7ms/step - loss: 16.7479 - mse: 435.0807\n",
            "Epoch 78/100\n",
            "2/2 [==============================] - 0s 6ms/step - loss: 9.0879 - mse: 96.7622\n",
            "Epoch 79/100\n",
            "2/2 [==============================] - 0s 7ms/step - loss: 24.0792 - mse: 873.3669\n",
            "Epoch 80/100\n",
            "2/2 [==============================] - 0s 6ms/step - loss: 26.8819 - mse: 1116.8273\n",
            "Epoch 81/100\n",
            "2/2 [==============================] - 0s 10ms/step - loss: 11.7469 - mse: 173.7411\n",
            "Epoch 82/100\n",
            "2/2 [==============================] - 0s 5ms/step - loss: 11.9924 - mse: 211.5015\n",
            "Epoch 83/100\n",
            "2/2 [==============================] - 0s 5ms/step - loss: 17.3801 - mse: 393.4904\n",
            "Epoch 84/100\n",
            "2/2 [==============================] - 0s 5ms/step - loss: 7.2684 - mse: 73.4171\n",
            "Epoch 85/100\n",
            "2/2 [==============================] - 0s 5ms/step - loss: 14.9376 - mse: 311.7454\n",
            "Epoch 86/100\n",
            "2/2 [==============================] - 0s 8ms/step - loss: 15.2660 - mse: 314.9648\n",
            "Epoch 87/100\n",
            "2/2 [==============================] - 0s 6ms/step - loss: 19.0615 - mse: 519.0864\n",
            "Epoch 88/100\n",
            "2/2 [==============================] - 0s 6ms/step - loss: 29.9509 - mse: 1299.0754\n",
            "Epoch 89/100\n",
            "2/2 [==============================] - 0s 8ms/step - loss: 10.2069 - mse: 124.4757\n",
            "Epoch 90/100\n",
            "2/2 [==============================] - 0s 7ms/step - loss: 21.6244 - mse: 670.3063\n",
            "Epoch 91/100\n",
            "2/2 [==============================] - 0s 7ms/step - loss: 10.6085 - mse: 161.6658\n",
            "Epoch 92/100\n",
            "2/2 [==============================] - 0s 7ms/step - loss: 18.4853 - mse: 468.7962\n",
            "Epoch 93/100\n",
            "2/2 [==============================] - 0s 7ms/step - loss: 7.4331 - mse: 81.6575\n",
            "Epoch 94/100\n",
            "2/2 [==============================] - 0s 7ms/step - loss: 17.8133 - mse: 449.6615\n",
            "Epoch 95/100\n",
            "2/2 [==============================] - 0s 6ms/step - loss: 11.1544 - mse: 166.0669\n",
            "Epoch 96/100\n",
            "2/2 [==============================] - 0s 8ms/step - loss: 19.5098 - mse: 514.3992\n",
            "Epoch 97/100\n",
            "2/2 [==============================] - 0s 6ms/step - loss: 12.5345 - mse: 225.7810\n",
            "Epoch 98/100\n",
            "2/2 [==============================] - 0s 11ms/step - loss: 10.3196 - mse: 137.5761\n",
            "Epoch 99/100\n",
            "2/2 [==============================] - 0s 6ms/step - loss: 13.8611 - mse: 264.2675\n",
            "Epoch 100/100\n",
            "2/2 [==============================] - 0s 6ms/step - loss: 20.1740 - mse: 605.4265\n"
          ]
        },
        {
          "output_type": "execute_result",
          "data": {
            "text/plain": [
              "<keras.callbacks.History at 0x7f848c0a6490>"
            ]
          },
          "metadata": {},
          "execution_count": 10
        }
      ]
    },
    {
      "cell_type": "code",
      "metadata": {
        "colab": {
          "base_uri": "https://localhost:8080/",
          "height": 617
        },
        "id": "RW1hakVSCOUg",
        "outputId": "e40d8410-f42a-4820-9e88-95a96ada29c0"
      },
      "source": [
        "# Make and plot predictions of model_2\n",
        "y_preds_2 = model_2.predict(X_test)\n",
        "plot_predictions(predictions=y_preds_2)"
      ],
      "execution_count": null,
      "outputs": [
        {
          "output_type": "stream",
          "name": "stdout",
          "text": [
            "1/1 [==============================] - 0s 32ms/step\n"
          ]
        },
        {
          "output_type": "display_data",
          "data": {
            "text/plain": [
              "<Figure size 1000x700 with 1 Axes>"
            ],
            "image/png": "[encoded data removed]"
          },
          "metadata": {}
        }
      ]
    },
    {
      "cell_type": "code",
      "source": [
        "# Calculate model_2 evaluation metrics\n",
        "mae_2 = mae(y_test, y_preds_2)\n",
        "mse_2 = mse(y_test, y_preds_2)\n",
        "mae_2, mse_2"
      ],
      "metadata": {
        "colab": {
          "base_uri": "https://localhost:8080/"
        },
        "id": "35MOoqLvcvYJ",
        "outputId": "9ca59ddf-5048-421a-8e85-22aba833cd61"
      },
      "execution_count": null,
      "outputs": [
        {
          "output_type": "execute_result",
          "data": {
            "text/plain": [
              "(<tf.Tensor: shape=(), dtype=float32, numpy=3.0577705>,\n",
              " <tf.Tensor: shape=(), dtype=float32, numpy=12.135271>)"
            ]
          },
          "metadata": {},
          "execution_count": 115
        }
      ]
    },
    {
      "cell_type": "markdown",
      "metadata": {
        "id": "frsg7iYgCvo8"
      },
      "source": [
        "**Build `model_3`**\n",
        "\n",
        "* 2 layers, trained for 500 epochs"
      ]
    },
    {
      "cell_type": "code",
      "metadata": {
        "colab": {
          "base_uri": "https://localhost:8080/"
        },
        "id": "4sfbKhNdDCXn",
        "outputId": "52762e85-410b-444e-de27-8d04d9e0d797"
      },
      "source": [
        "# Set random seed\n",
        "tf.random.set_seed(42)\n",
        "\n",
        "# 1. Create a model\n",
        "model_3 = tf.keras.Sequential([\n",
        "  tf.keras.layers.Dense(10),\n",
        "  tf.keras.layers.Dense(1)\n",
        "])\n",
        "\n",
        "# 2. Compile the model\n",
        "model_3.compile(loss=tf.keras.losses.mae,\n",
        "                optimizer=tf.keras.optimizers.SGD(),\n",
        "                metrics=[\"mae\"])\n",
        "\n",
        "# 3. Fit the model\n",
        "model_3.fit(X_train, y_train, epochs=500)"
      ],
      "execution_count": null,
      "outputs": [
        {
          "output_type": "stream",
          "name": "stdout",
          "text": [
            "Epoch 1/500\n",
            "2/2 [==============================] - 0s 7ms/step - loss: 58.5824 - mae: 58.5824\n",
            "Epoch 2/500\n",
            "2/2 [==============================] - 0s 6ms/step - loss: 13.8593 - mae: 13.8593\n",
            "Epoch 3/500\n",
            "2/2 [==============================] - 0s 4ms/step - loss: 24.6162 - mae: 24.6162\n",
            "Epoch 4/500\n",
            "2/2 [==============================] - 0s 4ms/step - loss: 12.7579 - mae: 12.7579\n",
            "Epoch 5/500\n",
            "2/2 [==============================] - 0s 4ms/step - loss: 13.9862 - mae: 13.9862\n",
            "Epoch 6/500\n",
            "2/2 [==============================] - 0s 4ms/step - loss: 11.2044 - mae: 11.2044\n",
            "Epoch 7/500\n",
            "2/2 [==============================] - 0s 4ms/step - loss: 12.2090 - mae: 12.2090\n",
            "Epoch 8/500\n",
            "2/2 [==============================] - 0s 5ms/step - loss: 10.9002 - mae: 10.9002\n",
            "Epoch 9/500\n",
            "2/2 [==============================] - 0s 6ms/step - loss: 38.0186 - mae: 38.0186\n",
            "Epoch 10/500\n",
            "2/2 [==============================] - 0s 5ms/step - loss: 25.6024 - mae: 25.6024\n",
            "Epoch 11/500\n",
            "2/2 [==============================] - 0s 5ms/step - loss: 10.2494 - mae: 10.2494\n",
            "Epoch 12/500\n",
            "2/2 [==============================] - 0s 6ms/step - loss: 25.2601 - mae: 25.2601\n",
            "Epoch 13/500\n",
            "2/2 [==============================] - 0s 5ms/step - loss: 17.0192 - mae: 17.0192\n",
            "Epoch 14/500\n",
            "2/2 [==============================] - 0s 4ms/step - loss: 25.9718 - mae: 25.9718\n",
            "Epoch 15/500\n",
            "2/2 [==============================] - 0s 5ms/step - loss: 18.0354 - mae: 18.0354\n",
            "Epoch 16/500\n",
            "2/2 [==============================] - 0s 5ms/step - loss: 7.3563 - mae: 7.3563\n",
            "Epoch 17/500\n",
            "2/2 [==============================] - 0s 5ms/step - loss: 10.8549 - mae: 10.8549\n",
            "Epoch 18/500\n",
            "2/2 [==============================] - 0s 4ms/step - loss: 19.5172 - mae: 19.5172\n",
            "Epoch 19/500\n",
            "2/2 [==============================] - 0s 6ms/step - loss: 10.3436 - mae: 10.3436\n",
            "Epoch 20/500\n",
            "2/2 [==============================] - 0s 8ms/step - loss: 17.6893 - mae: 17.6893\n",
            "Epoch 21/500\n",
            "2/2 [==============================] - 0s 6ms/step - loss: 15.8890 - mae: 15.8890\n",
            "Epoch 22/500\n",
            "2/2 [==============================] - 0s 5ms/step - loss: 14.1863 - mae: 14.1863\n",
            "Epoch 23/500\n",
            "2/2 [==============================] - 0s 5ms/step - loss: 8.7822 - mae: 8.7822\n",
            "Epoch 24/500\n",
            "2/2 [==============================] - 0s 5ms/step - loss: 11.0676 - mae: 11.0676\n",
            "Epoch 25/500\n",
            "2/2 [==============================] - 0s 5ms/step - loss: 12.6958 - mae: 12.6958\n",
            "Epoch 26/500\n",
            "2/2 [==============================] - 0s 4ms/step - loss: 26.2161 - mae: 26.2161\n",
            "Epoch 27/500\n",
            "2/2 [==============================] - 0s 4ms/step - loss: 11.7520 - mae: 11.7520\n",
            "Epoch 28/500\n",
            "2/2 [==============================] - 0s 5ms/step - loss: 22.8979 - mae: 22.8979\n",
            "Epoch 29/500\n",
            "2/2 [==============================] - 0s 5ms/step - loss: 9.2485 - mae: 9.2485\n",
            "Epoch 30/500\n",
            "2/2 [==============================] - 0s 5ms/step - loss: 29.2848 - mae: 29.2848\n",
            "Epoch 31/500\n",
            "2/2 [==============================] - 0s 5ms/step - loss: 53.0623 - mae: 53.0623\n",
            "Epoch 32/500\n",
            "2/2 [==============================] - 0s 5ms/step - loss: 12.0049 - mae: 12.0049\n",
            "Epoch 33/500\n",
            "2/2 [==============================] - 0s 5ms/step - loss: 15.6491 - mae: 15.6491\n",
            "Epoch 34/500\n",
            "2/2 [==============================] - 0s 5ms/step - loss: 12.7023 - mae: 12.7023\n",
            "Epoch 35/500\n",
            "2/2 [==============================] - 0s 6ms/step - loss: 9.2448 - mae: 9.2448\n",
            "Epoch 36/500\n",
            "2/2 [==============================] - 0s 5ms/step - loss: 16.6614 - mae: 16.6614\n",
            "Epoch 37/500\n",
            "2/2 [==============================] - 0s 6ms/step - loss: 11.0369 - mae: 11.0369\n",
            "Epoch 38/500\n",
            "2/2 [==============================] - 0s 5ms/step - loss: 18.1621 - mae: 18.1621\n",
            "Epoch 39/500\n",
            "2/2 [==============================] - 0s 5ms/step - loss: 19.1007 - mae: 19.1007\n",
            "Epoch 40/500\n",
            "2/2 [==============================] - 0s 5ms/step - loss: 20.4316 - mae: 20.4316\n",
            "Epoch 41/500\n",
            "2/2 [==============================] - 0s 6ms/step - loss: 14.9139 - mae: 14.9139\n",
            "Epoch 42/500\n",
            "2/2 [==============================] - 0s 5ms/step - loss: 12.2831 - mae: 12.2831\n",
            "Epoch 43/500\n",
            "2/2 [==============================] - 0s 4ms/step - loss: 10.7352 - mae: 10.7352\n",
            "Epoch 44/500\n",
            "2/2 [==============================] - 0s 7ms/step - loss: 23.0213 - mae: 23.0213\n",
            "Epoch 45/500\n",
            "2/2 [==============================] - 0s 5ms/step - loss: 10.3902 - mae: 10.3902\n",
            "Epoch 46/500\n",
            "2/2 [==============================] - 0s 5ms/step - loss: 11.7891 - mae: 11.7891\n",
            "Epoch 47/500\n",
            "2/2 [==============================] - 0s 4ms/step - loss: 9.6468 - mae: 9.6468\n",
            "Epoch 48/500\n",
            "2/2 [==============================] - 0s 5ms/step - loss: 17.2393 - mae: 17.2393\n",
            "Epoch 49/500\n",
            "2/2 [==============================] - 0s 4ms/step - loss: 9.5712 - mae: 9.5712\n",
            "Epoch 50/500\n",
            "2/2 [==============================] - 0s 4ms/step - loss: 13.8131 - mae: 13.8131\n",
            "Epoch 51/500\n",
            "2/2 [==============================] - 0s 5ms/step - loss: 11.5948 - mae: 11.5948\n",
            "Epoch 52/500\n",
            "2/2 [==============================] - 0s 5ms/step - loss: 30.5290 - mae: 30.5290\n",
            "Epoch 53/500\n",
            "2/2 [==============================] - 0s 5ms/step - loss: 14.3444 - mae: 14.3444\n",
            "Epoch 54/500\n",
            "2/2 [==============================] - 0s 6ms/step - loss: 23.9523 - mae: 23.9523\n",
            "Epoch 55/500\n",
            "2/2 [==============================] - 0s 7ms/step - loss: 23.1733 - mae: 23.1733\n",
            "Epoch 56/500\n",
            "2/2 [==============================] - 0s 3ms/step - loss: 10.8787 - mae: 10.8787\n",
            "Epoch 57/500\n",
            "2/2 [==============================] - 0s 5ms/step - loss: 12.7358 - mae: 12.7358\n",
            "Epoch 58/500\n",
            "2/2 [==============================] - 0s 5ms/step - loss: 9.5948 - mae: 9.5948\n",
            "Epoch 59/500\n",
            "2/2 [==============================] - 0s 8ms/step - loss: 12.5072 - mae: 12.5072\n",
            "Epoch 60/500\n",
            "2/2 [==============================] - 0s 5ms/step - loss: 12.3100 - mae: 12.3100\n",
            "Epoch 61/500\n",
            "2/2 [==============================] - 0s 5ms/step - loss: 17.4365 - mae: 17.4365\n",
            "Epoch 62/500\n",
            "2/2 [==============================] - 0s 5ms/step - loss: 10.5960 - mae: 10.5960\n",
            "Epoch 63/500\n",
            "2/2 [==============================] - 0s 4ms/step - loss: 10.4836 - mae: 10.4836\n",
            "Epoch 64/500\n",
            "2/2 [==============================] - 0s 4ms/step - loss: 24.8061 - mae: 24.8061\n",
            "Epoch 65/500\n",
            "2/2 [==============================] - 0s 5ms/step - loss: 10.6694 - mae: 10.6694\n",
            "Epoch 66/500\n",
            "2/2 [==============================] - 0s 4ms/step - loss: 21.7441 - mae: 21.7441\n",
            "Epoch 67/500\n",
            "2/2 [==============================] - 0s 4ms/step - loss: 10.7025 - mae: 10.7025\n",
            "Epoch 68/500\n",
            "2/2 [==============================] - 0s 5ms/step - loss: 10.6317 - mae: 10.6317\n",
            "Epoch 69/500\n",
            "2/2 [==============================] - 0s 3ms/step - loss: 22.6409 - mae: 22.6409\n",
            "Epoch 70/500\n",
            "2/2 [==============================] - 0s 4ms/step - loss: 9.3427 - mae: 9.3427\n",
            "Epoch 71/500\n",
            "2/2 [==============================] - 0s 4ms/step - loss: 15.4541 - mae: 15.4541\n",
            "Epoch 72/500\n",
            "2/2 [==============================] - 0s 4ms/step - loss: 7.0176 - mae: 7.0176\n",
            "Epoch 73/500\n",
            "2/2 [==============================] - 0s 4ms/step - loss: 12.2169 - mae: 12.2169\n",
            "Epoch 74/500\n",
            "2/2 [==============================] - 0s 4ms/step - loss: 17.3603 - mae: 17.3603\n",
            "Epoch 75/500\n",
            "2/2 [==============================] - 0s 4ms/step - loss: 7.2201 - mae: 7.2201\n",
            "Epoch 76/500\n",
            "2/2 [==============================] - 0s 4ms/step - loss: 9.4590 - mae: 9.4590\n",
            "Epoch 77/500\n",
            "2/2 [==============================] - 0s 4ms/step - loss: 22.1902 - mae: 22.1902\n",
            "Epoch 78/500\n",
            "2/2 [==============================] - 0s 4ms/step - loss: 17.4467 - mae: 17.4467\n",
            "Epoch 79/500\n",
            "2/2 [==============================] - 0s 4ms/step - loss: 14.6907 - mae: 14.6907\n",
            "Epoch 80/500\n",
            "2/2 [==============================] - 0s 5ms/step - loss: 24.6930 - mae: 24.6930\n",
            "Epoch 81/500\n",
            "2/2 [==============================] - 0s 4ms/step - loss: 11.5351 - mae: 11.5351\n",
            "Epoch 82/500\n",
            "2/2 [==============================] - 0s 4ms/step - loss: 12.3981 - mae: 12.3981\n",
            "Epoch 83/500\n",
            "2/2 [==============================] - 0s 5ms/step - loss: 17.0507 - mae: 17.0507\n",
            "Epoch 84/500\n",
            "2/2 [==============================] - 0s 5ms/step - loss: 7.2455 - mae: 7.2455\n",
            "Epoch 85/500\n",
            "2/2 [==============================] - 0s 4ms/step - loss: 37.3634 - mae: 37.3634\n",
            "Epoch 86/500\n",
            "2/2 [==============================] - 0s 4ms/step - loss: 21.3317 - mae: 21.3317\n",
            "Epoch 87/500\n",
            "2/2 [==============================] - 0s 4ms/step - loss: 11.0601 - mae: 11.0601\n",
            "Epoch 88/500\n",
            "2/2 [==============================] - 0s 4ms/step - loss: 25.2037 - mae: 25.2037\n",
            "Epoch 89/500\n",
            "2/2 [==============================] - 0s 5ms/step - loss: 9.3871 - mae: 9.3871\n",
            "Epoch 90/500\n",
            "2/2 [==============================] - 0s 4ms/step - loss: 17.4643 - mae: 17.4643\n",
            "Epoch 91/500\n",
            "2/2 [==============================] - 0s 4ms/step - loss: 10.8349 - mae: 10.8349\n",
            "Epoch 92/500\n",
            "2/2 [==============================] - 0s 4ms/step - loss: 19.1525 - mae: 19.1525\n",
            "Epoch 93/500\n",
            "2/2 [==============================] - 0s 4ms/step - loss: 8.3448 - mae: 8.3448\n",
            "Epoch 94/500\n",
            "2/2 [==============================] - 0s 5ms/step - loss: 11.5892 - mae: 11.5892\n",
            "Epoch 95/500\n",
            "2/2 [==============================] - 0s 5ms/step - loss: 26.1968 - mae: 26.1968\n",
            "Epoch 96/500\n",
            "2/2 [==============================] - 0s 4ms/step - loss: 11.2172 - mae: 11.2172\n",
            "Epoch 97/500\n",
            "2/2 [==============================] - 0s 4ms/step - loss: 16.8409 - mae: 16.8409\n",
            "Epoch 98/500\n",
            "2/2 [==============================] - 0s 4ms/step - loss: 6.5961 - mae: 6.5961\n",
            "Epoch 99/500\n",
            "2/2 [==============================] - 0s 4ms/step - loss: 12.5967 - mae: 12.5967\n",
            "Epoch 100/500\n",
            "2/2 [==============================] - 0s 5ms/step - loss: 19.3995 - mae: 19.3995\n",
            "Epoch 101/500\n",
            "2/2 [==============================] - 0s 4ms/step - loss: 16.0939 - mae: 16.0939\n",
            "Epoch 102/500\n",
            "2/2 [==============================] - 0s 4ms/step - loss: 11.2097 - mae: 11.2097\n",
            "Epoch 103/500\n",
            "2/2 [==============================] - 0s 5ms/step - loss: 9.3380 - mae: 9.3380\n",
            "Epoch 104/500\n",
            "2/2 [==============================] - 0s 5ms/step - loss: 24.9554 - mae: 24.9554\n",
            "Epoch 105/500\n",
            "2/2 [==============================] - 0s 5ms/step - loss: 11.9899 - mae: 11.9899\n",
            "Epoch 106/500\n",
            "2/2 [==============================] - 0s 5ms/step - loss: 10.0963 - mae: 10.0963\n",
            "Epoch 107/500\n",
            "2/2 [==============================] - 0s 4ms/step - loss: 22.4970 - mae: 22.4970\n",
            "Epoch 108/500\n",
            "2/2 [==============================] - 0s 5ms/step - loss: 8.1365 - mae: 8.1365\n",
            "Epoch 109/500\n",
            "2/2 [==============================] - 0s 5ms/step - loss: 13.3266 - mae: 13.3266\n",
            "Epoch 110/500\n",
            "2/2 [==============================] - 0s 5ms/step - loss: 8.0011 - mae: 8.0011\n",
            "Epoch 111/500\n",
            "2/2 [==============================] - 0s 5ms/step - loss: 15.7791 - mae: 15.7791\n",
            "Epoch 112/500\n",
            "2/2 [==============================] - 0s 4ms/step - loss: 8.7567 - mae: 8.7567\n",
            "Epoch 113/500\n",
            "2/2 [==============================] - 0s 4ms/step - loss: 22.6220 - mae: 22.6220\n",
            "Epoch 114/500\n",
            "2/2 [==============================] - 0s 5ms/step - loss: 18.9818 - mae: 18.9818\n",
            "Epoch 115/500\n",
            "2/2 [==============================] - 0s 5ms/step - loss: 11.0907 - mae: 11.0907\n",
            "Epoch 116/500\n",
            "2/2 [==============================] - 0s 5ms/step - loss: 23.0601 - mae: 23.0601\n",
            "Epoch 117/500\n",
            "2/2 [==============================] - 0s 5ms/step - loss: 9.5657 - mae: 9.5657\n",
            "Epoch 118/500\n",
            "2/2 [==============================] - 0s 4ms/step - loss: 10.6208 - mae: 10.6208\n",
            "Epoch 119/500\n",
            "2/2 [==============================] - 0s 4ms/step - loss: 8.0553 - mae: 8.0553\n",
            "Epoch 120/500\n",
            "2/2 [==============================] - 0s 4ms/step - loss: 29.3071 - mae: 29.3071\n",
            "Epoch 121/500\n",
            "2/2 [==============================] - 0s 5ms/step - loss: 8.0913 - mae: 8.0913\n",
            "Epoch 122/500\n",
            "2/2 [==============================] - 0s 4ms/step - loss: 27.9814 - mae: 27.9814\n",
            "Epoch 123/500\n",
            "2/2 [==============================] - 0s 5ms/step - loss: 32.4942 - mae: 32.4942\n",
            "Epoch 124/500\n",
            "2/2 [==============================] - 0s 5ms/step - loss: 19.3313 - mae: 19.3313\n",
            "Epoch 125/500\n",
            "2/2 [==============================] - 0s 5ms/step - loss: 9.5280 - mae: 9.5280\n",
            "Epoch 126/500\n",
            "2/2 [==============================] - 0s 5ms/step - loss: 9.5998 - mae: 9.5998\n",
            "Epoch 127/500\n",
            "2/2 [==============================] - 0s 5ms/step - loss: 12.6871 - mae: 12.6871\n",
            "Epoch 128/500\n",
            "2/2 [==============================] - 0s 5ms/step - loss: 12.8003 - mae: 12.8003\n",
            "Epoch 129/500\n",
            "2/2 [==============================] - 0s 5ms/step - loss: 13.9064 - mae: 13.9064\n",
            "Epoch 130/500\n",
            "2/2 [==============================] - 0s 8ms/step - loss: 10.2399 - mae: 10.2399\n",
            "Epoch 131/500\n",
            "2/2 [==============================] - 0s 12ms/step - loss: 21.6342 - mae: 21.6342\n",
            "Epoch 132/500\n",
            "2/2 [==============================] - 0s 7ms/step - loss: 8.2793 - mae: 8.2793\n",
            "Epoch 133/500\n",
            "2/2 [==============================] - 0s 10ms/step - loss: 9.0603 - mae: 9.0603\n",
            "Epoch 134/500\n",
            "2/2 [==============================] - 0s 6ms/step - loss: 16.8471 - mae: 16.8471\n",
            "Epoch 135/500\n",
            "2/2 [==============================] - 0s 5ms/step - loss: 10.6457 - mae: 10.6457\n",
            "Epoch 136/500\n",
            "2/2 [==============================] - 0s 4ms/step - loss: 18.4504 - mae: 18.4504\n",
            "Epoch 137/500\n",
            "2/2 [==============================] - 0s 6ms/step - loss: 23.4085 - mae: 23.4085\n",
            "Epoch 138/500\n",
            "2/2 [==============================] - 0s 5ms/step - loss: 9.2539 - mae: 9.2539\n",
            "Epoch 139/500\n",
            "2/2 [==============================] - 0s 6ms/step - loss: 8.9992 - mae: 8.9992\n",
            "Epoch 140/500\n",
            "2/2 [==============================] - 0s 8ms/step - loss: 16.6164 - mae: 16.6164\n",
            "Epoch 141/500\n",
            "2/2 [==============================] - 0s 4ms/step - loss: 8.4680 - mae: 8.4680\n",
            "Epoch 142/500\n",
            "2/2 [==============================] - 0s 4ms/step - loss: 37.1423 - mae: 37.1423\n",
            "Epoch 143/500\n",
            "2/2 [==============================] - 0s 4ms/step - loss: 25.7621 - mae: 25.7621\n",
            "Epoch 144/500\n",
            "2/2 [==============================] - 0s 4ms/step - loss: 9.5638 - mae: 9.5638\n",
            "Epoch 145/500\n",
            "2/2 [==============================] - 0s 4ms/step - loss: 26.5744 - mae: 26.5744\n",
            "Epoch 146/500\n",
            "2/2 [==============================] - 0s 7ms/step - loss: 8.8162 - mae: 8.8162\n",
            "Epoch 147/500\n",
            "2/2 [==============================] - 0s 4ms/step - loss: 15.6153 - mae: 15.6153\n",
            "Epoch 148/500\n",
            "2/2 [==============================] - 0s 4ms/step - loss: 18.2929 - mae: 18.2929\n",
            "Epoch 149/500\n",
            "2/2 [==============================] - 0s 4ms/step - loss: 8.2523 - mae: 8.2523\n",
            "Epoch 150/500\n",
            "2/2 [==============================] - 0s 4ms/step - loss: 7.5384 - mae: 7.5384\n",
            "Epoch 151/500\n",
            "2/2 [==============================] - 0s 4ms/step - loss: 18.3685 - mae: 18.3685\n",
            "Epoch 152/500\n",
            "2/2 [==============================] - 0s 8ms/step - loss: 10.3303 - mae: 10.3303\n",
            "Epoch 153/500\n",
            "2/2 [==============================] - 0s 8ms/step - loss: 29.6531 - mae: 29.6531\n",
            "Epoch 154/500\n",
            "2/2 [==============================] - 0s 4ms/step - loss: 10.5763 - mae: 10.5763\n",
            "Epoch 155/500\n",
            "2/2 [==============================] - 0s 4ms/step - loss: 15.4716 - mae: 15.4716\n",
            "Epoch 156/500\n",
            "2/2 [==============================] - 0s 4ms/step - loss: 17.0442 - mae: 17.0442\n",
            "Epoch 157/500\n",
            "2/2 [==============================] - 0s 4ms/step - loss: 32.7646 - mae: 32.7646\n",
            "Epoch 158/500\n",
            "2/2 [==============================] - 0s 4ms/step - loss: 10.7260 - mae: 10.7260\n",
            "Epoch 159/500\n",
            "2/2 [==============================] - 0s 4ms/step - loss: 8.9300 - mae: 8.9300\n",
            "Epoch 160/500\n",
            "2/2 [==============================] - 0s 4ms/step - loss: 22.0659 - mae: 22.0659\n",
            "Epoch 161/500\n",
            "2/2 [==============================] - 0s 4ms/step - loss: 11.7103 - mae: 11.7103\n",
            "Epoch 162/500\n",
            "2/2 [==============================] - 0s 4ms/step - loss: 21.4974 - mae: 21.4974\n",
            "Epoch 163/500\n",
            "2/2 [==============================] - 0s 4ms/step - loss: 18.9702 - mae: 18.9702\n",
            "Epoch 164/500\n",
            "2/2 [==============================] - 0s 4ms/step - loss: 12.8048 - mae: 12.8048\n",
            "Epoch 165/500\n",
            "2/2 [==============================] - 0s 4ms/step - loss: 12.7071 - mae: 12.7071\n",
            "Epoch 166/500\n",
            "2/2 [==============================] - 0s 4ms/step - loss: 18.8558 - mae: 18.8558\n",
            "Epoch 167/500\n",
            "2/2 [==============================] - 0s 4ms/step - loss: 26.9394 - mae: 26.9394\n",
            "Epoch 168/500\n",
            "2/2 [==============================] - 0s 4ms/step - loss: 10.0231 - mae: 10.0231\n",
            "Epoch 169/500\n",
            "2/2 [==============================] - 0s 5ms/step - loss: 23.1770 - mae: 23.1770\n",
            "Epoch 170/500\n",
            "2/2 [==============================] - 0s 4ms/step - loss: 9.5906 - mae: 9.5906\n",
            "Epoch 171/500\n",
            "2/2 [==============================] - 0s 4ms/step - loss: 15.8500 - mae: 15.8500\n",
            "Epoch 172/500\n",
            "2/2 [==============================] - 0s 4ms/step - loss: 13.8870 - mae: 13.8870\n",
            "Epoch 173/500\n",
            "2/2 [==============================] - 0s 4ms/step - loss: 22.5752 - mae: 22.5752\n",
            "Epoch 174/500\n",
            "2/2 [==============================] - 0s 4ms/step - loss: 11.3693 - mae: 11.3693\n",
            "Epoch 175/500\n",
            "2/2 [==============================] - 0s 4ms/step - loss: 20.1047 - mae: 20.1047\n",
            "Epoch 176/500\n",
            "2/2 [==============================] - 0s 5ms/step - loss: 7.4260 - mae: 7.4260\n",
            "Epoch 177/500\n",
            "2/2 [==============================] - 0s 4ms/step - loss: 8.6124 - mae: 8.6124\n",
            "Epoch 178/500\n",
            "2/2 [==============================] - 0s 5ms/step - loss: 15.5025 - mae: 15.5025\n",
            "Epoch 179/500\n",
            "2/2 [==============================] - 0s 4ms/step - loss: 9.2947 - mae: 9.2947\n",
            "Epoch 180/500\n",
            "2/2 [==============================] - 0s 5ms/step - loss: 8.1441 - mae: 8.1441\n",
            "Epoch 181/500\n",
            "2/2 [==============================] - 0s 4ms/step - loss: 18.7305 - mae: 18.7305\n",
            "Epoch 182/500\n",
            "2/2 [==============================] - 0s 6ms/step - loss: 10.7934 - mae: 10.7934\n",
            "Epoch 183/500\n",
            "2/2 [==============================] - 0s 5ms/step - loss: 10.9142 - mae: 10.9142\n",
            "Epoch 184/500\n",
            "2/2 [==============================] - 0s 4ms/step - loss: 33.7227 - mae: 33.7227\n",
            "Epoch 185/500\n",
            "2/2 [==============================] - 0s 4ms/step - loss: 7.6363 - mae: 7.6363\n",
            "Epoch 186/500\n",
            "2/2 [==============================] - 0s 5ms/step - loss: 16.7825 - mae: 16.7825\n",
            "Epoch 187/500\n",
            "2/2 [==============================] - 0s 4ms/step - loss: 10.1930 - mae: 10.1930\n",
            "Epoch 188/500\n",
            "2/2 [==============================] - 0s 4ms/step - loss: 23.0393 - mae: 23.0393\n",
            "Epoch 189/500\n",
            "2/2 [==============================] - 0s 4ms/step - loss: 9.8877 - mae: 9.8877\n",
            "Epoch 190/500\n",
            "2/2 [==============================] - 0s 4ms/step - loss: 15.2980 - mae: 15.2980\n",
            "Epoch 191/500\n",
            "2/2 [==============================] - 0s 4ms/step - loss: 9.9589 - mae: 9.9589\n",
            "Epoch 192/500\n",
            "2/2 [==============================] - 0s 4ms/step - loss: 14.9945 - mae: 14.9945\n",
            "Epoch 193/500\n",
            "2/2 [==============================] - 0s 4ms/step - loss: 29.6724 - mae: 29.6724\n",
            "Epoch 194/500\n",
            "2/2 [==============================] - 0s 5ms/step - loss: 8.3796 - mae: 8.3796\n",
            "Epoch 195/500\n",
            "2/2 [==============================] - 0s 5ms/step - loss: 12.9081 - mae: 12.9081\n",
            "Epoch 196/500\n",
            "2/2 [==============================] - 0s 4ms/step - loss: 23.9463 - mae: 23.9463\n",
            "Epoch 197/500\n",
            "2/2 [==============================] - 0s 5ms/step - loss: 16.7759 - mae: 16.7759\n",
            "Epoch 198/500\n",
            "2/2 [==============================] - 0s 5ms/step - loss: 11.4658 - mae: 11.4658\n",
            "Epoch 199/500\n",
            "2/2 [==============================] - 0s 5ms/step - loss: 19.5750 - mae: 19.5750\n",
            "Epoch 200/500\n",
            "2/2 [==============================] - 0s 4ms/step - loss: 15.7401 - mae: 15.7401\n",
            "Epoch 201/500\n",
            "2/2 [==============================] - 0s 5ms/step - loss: 10.5894 - mae: 10.5894\n",
            "Epoch 202/500\n",
            "2/2 [==============================] - 0s 5ms/step - loss: 22.4452 - mae: 22.4452\n",
            "Epoch 203/500\n",
            "2/2 [==============================] - 0s 4ms/step - loss: 21.6730 - mae: 21.6730\n",
            "Epoch 204/500\n",
            "2/2 [==============================] - 0s 4ms/step - loss: 17.2842 - mae: 17.2842\n",
            "Epoch 205/500\n",
            "2/2 [==============================] - 0s 4ms/step - loss: 9.4885 - mae: 9.4885\n",
            "Epoch 206/500\n",
            "2/2 [==============================] - 0s 4ms/step - loss: 11.1216 - mae: 11.1216\n",
            "Epoch 207/500\n",
            "2/2 [==============================] - 0s 4ms/step - loss: 17.6078 - mae: 17.6078\n",
            "Epoch 208/500\n",
            "2/2 [==============================] - 0s 4ms/step - loss: 14.3420 - mae: 14.3420\n",
            "Epoch 209/500\n",
            "2/2 [==============================] - 0s 4ms/step - loss: 16.6418 - mae: 16.6418\n",
            "Epoch 210/500\n",
            "2/2 [==============================] - 0s 4ms/step - loss: 18.1428 - mae: 18.1428\n",
            "Epoch 211/500\n",
            "2/2 [==============================] - 0s 4ms/step - loss: 9.9396 - mae: 9.9396\n",
            "Epoch 212/500\n",
            "2/2 [==============================] - 0s 6ms/step - loss: 18.5988 - mae: 18.5988\n",
            "Epoch 213/500\n",
            "2/2 [==============================] - 0s 5ms/step - loss: 14.9840 - mae: 14.9840\n",
            "Epoch 214/500\n",
            "2/2 [==============================] - 0s 5ms/step - loss: 14.5559 - mae: 14.5559\n",
            "Epoch 215/500\n",
            "2/2 [==============================] - 0s 4ms/step - loss: 23.2255 - mae: 23.2255\n",
            "Epoch 216/500\n",
            "2/2 [==============================] - 0s 5ms/step - loss: 13.5069 - mae: 13.5069\n",
            "Epoch 217/500\n",
            "2/2 [==============================] - 0s 5ms/step - loss: 9.9931 - mae: 9.9931\n",
            "Epoch 218/500\n",
            "2/2 [==============================] - 0s 4ms/step - loss: 12.4810 - mae: 12.4810\n",
            "Epoch 219/500\n",
            "2/2 [==============================] - 0s 5ms/step - loss: 5.3239 - mae: 5.3239\n",
            "Epoch 220/500\n",
            "2/2 [==============================] - 0s 5ms/step - loss: 12.4031 - mae: 12.4031\n",
            "Epoch 221/500\n",
            "2/2 [==============================] - 0s 4ms/step - loss: 22.3783 - mae: 22.3783\n",
            "Epoch 222/500\n",
            "2/2 [==============================] - 0s 6ms/step - loss: 21.4780 - mae: 21.4780\n",
            "Epoch 223/500\n",
            "2/2 [==============================] - 0s 4ms/step - loss: 11.6671 - mae: 11.6671\n",
            "Epoch 224/500\n",
            "2/2 [==============================] - 0s 4ms/step - loss: 13.5760 - mae: 13.5760\n",
            "Epoch 225/500\n",
            "2/2 [==============================] - 0s 4ms/step - loss: 15.7120 - mae: 15.7120\n",
            "Epoch 226/500\n",
            "2/2 [==============================] - 0s 4ms/step - loss: 14.9564 - mae: 14.9564\n",
            "Epoch 227/500\n",
            "2/2 [==============================] - 0s 4ms/step - loss: 15.2881 - mae: 15.2881\n",
            "Epoch 228/500\n",
            "2/2 [==============================] - 0s 4ms/step - loss: 17.4537 - mae: 17.4537\n",
            "Epoch 229/500\n",
            "2/2 [==============================] - 0s 5ms/step - loss: 7.2152 - mae: 7.2152\n",
            "Epoch 230/500\n",
            "2/2 [==============================] - 0s 4ms/step - loss: 7.4610 - mae: 7.4610\n",
            "Epoch 231/500\n",
            "2/2 [==============================] - 0s 4ms/step - loss: 24.7542 - mae: 24.7542\n",
            "Epoch 232/500\n",
            "2/2 [==============================] - 0s 5ms/step - loss: 8.7838 - mae: 8.7838\n",
            "Epoch 233/500\n",
            "2/2 [==============================] - 0s 4ms/step - loss: 24.7111 - mae: 24.7111\n",
            "Epoch 234/500\n",
            "2/2 [==============================] - 0s 4ms/step - loss: 8.1467 - mae: 8.1467\n",
            "Epoch 235/500\n",
            "2/2 [==============================] - 0s 5ms/step - loss: 12.7061 - mae: 12.7061\n",
            "Epoch 236/500\n",
            "2/2 [==============================] - 0s 5ms/step - loss: 7.7153 - mae: 7.7153\n",
            "Epoch 237/500\n",
            "2/2 [==============================] - 0s 5ms/step - loss: 10.0223 - mae: 10.0223\n",
            "Epoch 238/500\n",
            "2/2 [==============================] - 0s 5ms/step - loss: 8.5517 - mae: 8.5517\n",
            "Epoch 239/500\n",
            "2/2 [==============================] - 0s 5ms/step - loss: 18.8468 - mae: 18.8468\n",
            "Epoch 240/500\n",
            "2/2 [==============================] - 0s 4ms/step - loss: 8.9853 - mae: 8.9853\n",
            "Epoch 241/500\n",
            "2/2 [==============================] - 0s 5ms/step - loss: 13.3764 - mae: 13.3764\n",
            "Epoch 242/500\n",
            "2/2 [==============================] - 0s 4ms/step - loss: 8.8828 - mae: 8.8828\n",
            "Epoch 243/500\n",
            "2/2 [==============================] - 0s 4ms/step - loss: 19.2147 - mae: 19.2147\n",
            "Epoch 244/500\n",
            "2/2 [==============================] - 0s 4ms/step - loss: 13.9171 - mae: 13.9171\n",
            "Epoch 245/500\n",
            "2/2 [==============================] - 0s 5ms/step - loss: 14.5628 - mae: 14.5628\n",
            "Epoch 246/500\n",
            "2/2 [==============================] - 0s 5ms/step - loss: 15.7011 - mae: 15.7011\n",
            "Epoch 247/500\n",
            "2/2 [==============================] - 0s 4ms/step - loss: 17.5443 - mae: 17.5443\n",
            "Epoch 248/500\n",
            "2/2 [==============================] - 0s 4ms/step - loss: 13.1097 - mae: 13.1097\n",
            "Epoch 249/500\n",
            "2/2 [==============================] - 0s 4ms/step - loss: 14.4381 - mae: 14.4381\n",
            "Epoch 250/500\n",
            "2/2 [==============================] - 0s 5ms/step - loss: 27.8464 - mae: 27.8464\n",
            "Epoch 251/500\n",
            "2/2 [==============================] - 0s 4ms/step - loss: 7.5116 - mae: 7.5116\n",
            "Epoch 252/500\n",
            "2/2 [==============================] - 0s 8ms/step - loss: 38.0751 - mae: 38.0751\n",
            "Epoch 253/500\n",
            "2/2 [==============================] - 0s 11ms/step - loss: 22.9003 - mae: 22.9003\n",
            "Epoch 254/500\n",
            "2/2 [==============================] - 0s 5ms/step - loss: 7.4447 - mae: 7.4447\n",
            "Epoch 255/500\n",
            "2/2 [==============================] - 0s 5ms/step - loss: 25.7844 - mae: 25.7844\n",
            "Epoch 256/500\n",
            "2/2 [==============================] - 0s 5ms/step - loss: 13.7155 - mae: 13.7155\n",
            "Epoch 257/500\n",
            "2/2 [==============================] - 0s 5ms/step - loss: 8.3416 - mae: 8.3416\n",
            "Epoch 258/500\n",
            "2/2 [==============================] - 0s 5ms/step - loss: 13.2092 - mae: 13.2092\n",
            "Epoch 259/500\n",
            "2/2 [==============================] - 0s 5ms/step - loss: 9.5277 - mae: 9.5277\n",
            "Epoch 260/500\n",
            "2/2 [==============================] - 0s 6ms/step - loss: 38.4587 - mae: 38.4587\n",
            "Epoch 261/500\n",
            "2/2 [==============================] - 0s 7ms/step - loss: 15.5260 - mae: 15.5260\n",
            "Epoch 262/500\n",
            "2/2 [==============================] - 0s 5ms/step - loss: 5.7794 - mae: 5.7794\n",
            "Epoch 263/500\n",
            "2/2 [==============================] - 0s 5ms/step - loss: 14.5994 - mae: 14.5994\n",
            "Epoch 264/500\n",
            "2/2 [==============================] - 0s 4ms/step - loss: 18.7554 - mae: 18.7554\n",
            "Epoch 265/500\n",
            "2/2 [==============================] - 0s 4ms/step - loss: 13.0818 - mae: 13.0818\n",
            "Epoch 266/500\n",
            "2/2 [==============================] - 0s 4ms/step - loss: 10.3167 - mae: 10.3167\n",
            "Epoch 267/500\n",
            "2/2 [==============================] - 0s 4ms/step - loss: 6.0393 - mae: 6.0393\n",
            "Epoch 268/500\n",
            "2/2 [==============================] - 0s 5ms/step - loss: 18.6948 - mae: 18.6948\n",
            "Epoch 269/500\n",
            "2/2 [==============================] - 0s 6ms/step - loss: 42.2576 - mae: 42.2576\n",
            "Epoch 270/500\n",
            "2/2 [==============================] - 0s 5ms/step - loss: 13.9572 - mae: 13.9572\n",
            "Epoch 271/500\n",
            "2/2 [==============================] - 0s 5ms/step - loss: 15.0716 - mae: 15.0716\n",
            "Epoch 272/500\n",
            "2/2 [==============================] - 0s 5ms/step - loss: 29.1010 - mae: 29.1010\n",
            "Epoch 273/500\n",
            "2/2 [==============================] - 0s 4ms/step - loss: 5.5391 - mae: 5.5391\n",
            "Epoch 274/500\n",
            "2/2 [==============================] - 0s 5ms/step - loss: 14.0045 - mae: 14.0045\n",
            "Epoch 275/500\n",
            "2/2 [==============================] - 0s 5ms/step - loss: 17.0962 - mae: 17.0962\n",
            "Epoch 276/500\n",
            "2/2 [==============================] - 0s 4ms/step - loss: 12.8173 - mae: 12.8173\n",
            "Epoch 277/500\n",
            "2/2 [==============================] - 0s 5ms/step - loss: 30.3940 - mae: 30.3940\n",
            "Epoch 278/500\n",
            "2/2 [==============================] - 0s 5ms/step - loss: 10.9160 - mae: 10.9160\n",
            "Epoch 279/500\n",
            "2/2 [==============================] - 0s 4ms/step - loss: 16.2956 - mae: 16.2956\n",
            "Epoch 280/500\n",
            "2/2 [==============================] - 0s 4ms/step - loss: 21.6428 - mae: 21.6428\n",
            "Epoch 281/500\n",
            "2/2 [==============================] - 0s 4ms/step - loss: 22.7784 - mae: 22.7784\n",
            "Epoch 282/500\n",
            "2/2 [==============================] - 0s 4ms/step - loss: 7.9746 - mae: 7.9746\n",
            "Epoch 283/500\n",
            "2/2 [==============================] - 0s 5ms/step - loss: 8.2869 - mae: 8.2869\n",
            "Epoch 284/500\n",
            "2/2 [==============================] - 0s 4ms/step - loss: 25.5276 - mae: 25.5276\n",
            "Epoch 285/500\n",
            "2/2 [==============================] - 0s 4ms/step - loss: 14.1449 - mae: 14.1449\n",
            "Epoch 286/500\n",
            "2/2 [==============================] - 0s 7ms/step - loss: 6.0238 - mae: 6.0238\n",
            "Epoch 287/500\n",
            "2/2 [==============================] - 0s 5ms/step - loss: 19.0058 - mae: 19.0058\n",
            "Epoch 288/500\n",
            "2/2 [==============================] - 0s 5ms/step - loss: 32.8530 - mae: 32.8530\n",
            "Epoch 289/500\n",
            "2/2 [==============================] - 0s 4ms/step - loss: 8.3914 - mae: 8.3914\n",
            "Epoch 290/500\n",
            "2/2 [==============================] - 0s 5ms/step - loss: 16.8827 - mae: 16.8827\n",
            "Epoch 291/500\n",
            "2/2 [==============================] - 0s 5ms/step - loss: 17.2559 - mae: 17.2559\n",
            "Epoch 292/500\n",
            "2/2 [==============================] - 0s 4ms/step - loss: 10.8958 - mae: 10.8958\n",
            "Epoch 293/500\n",
            "2/2 [==============================] - 0s 5ms/step - loss: 14.5821 - mae: 14.5821\n",
            "Epoch 294/500\n",
            "2/2 [==============================] - 0s 5ms/step - loss: 21.8193 - mae: 21.8193\n",
            "Epoch 295/500\n",
            "2/2 [==============================] - 0s 7ms/step - loss: 19.9468 - mae: 19.9468\n",
            "Epoch 296/500\n",
            "2/2 [==============================] - 0s 5ms/step - loss: 7.0057 - mae: 7.0057\n",
            "Epoch 297/500\n",
            "2/2 [==============================] - 0s 4ms/step - loss: 9.0204 - mae: 9.0204\n",
            "Epoch 298/500\n",
            "2/2 [==============================] - 0s 5ms/step - loss: 24.2738 - mae: 24.2738\n",
            "Epoch 299/500\n",
            "2/2 [==============================] - 0s 5ms/step - loss: 17.8389 - mae: 17.8389\n",
            "Epoch 300/500\n",
            "2/2 [==============================] - 0s 4ms/step - loss: 7.0244 - mae: 7.0244\n",
            "Epoch 301/500\n",
            "2/2 [==============================] - 0s 4ms/step - loss: 25.3137 - mae: 25.3137\n",
            "Epoch 302/500\n",
            "2/2 [==============================] - 0s 4ms/step - loss: 9.4513 - mae: 9.4513\n",
            "Epoch 303/500\n",
            "2/2 [==============================] - 0s 8ms/step - loss: 14.4071 - mae: 14.4071\n",
            "Epoch 304/500\n",
            "2/2 [==============================] - 0s 5ms/step - loss: 10.8341 - mae: 10.8341\n",
            "Epoch 305/500\n",
            "2/2 [==============================] - 0s 5ms/step - loss: 12.6365 - mae: 12.6365\n",
            "Epoch 306/500\n",
            "2/2 [==============================] - 0s 5ms/step - loss: 8.2780 - mae: 8.2780\n",
            "Epoch 307/500\n",
            "2/2 [==============================] - 0s 4ms/step - loss: 13.0783 - mae: 13.0783\n",
            "Epoch 308/500\n",
            "2/2 [==============================] - 0s 5ms/step - loss: 8.1395 - mae: 8.1395\n",
            "Epoch 309/500\n",
            "2/2 [==============================] - 0s 5ms/step - loss: 11.7231 - mae: 11.7231\n",
            "Epoch 310/500\n",
            "2/2 [==============================] - 0s 4ms/step - loss: 6.3436 - mae: 6.3436\n",
            "Epoch 311/500\n",
            "2/2 [==============================] - 0s 4ms/step - loss: 4.9864 - mae: 4.9864\n",
            "Epoch 312/500\n",
            "2/2 [==============================] - 0s 4ms/step - loss: 29.2978 - mae: 29.2978\n",
            "Epoch 313/500\n",
            "2/2 [==============================] - 0s 4ms/step - loss: 8.9475 - mae: 8.9475\n",
            "Epoch 314/500\n",
            "2/2 [==============================] - 0s 4ms/step - loss: 6.5124 - mae: 6.5124\n",
            "Epoch 315/500\n",
            "2/2 [==============================] - 0s 4ms/step - loss: 23.9221 - mae: 23.9221\n",
            "Epoch 316/500\n",
            "2/2 [==============================] - 0s 4ms/step - loss: 16.2237 - mae: 16.2237\n",
            "Epoch 317/500\n",
            "2/2 [==============================] - 0s 4ms/step - loss: 20.7216 - mae: 20.7216\n",
            "Epoch 318/500\n",
            "2/2 [==============================] - 0s 4ms/step - loss: 9.1747 - mae: 9.1747\n",
            "Epoch 319/500\n",
            "2/2 [==============================] - 0s 5ms/step - loss: 11.7650 - mae: 11.7650\n",
            "Epoch 320/500\n",
            "2/2 [==============================] - 0s 6ms/step - loss: 12.3977 - mae: 12.3977\n",
            "Epoch 321/500\n",
            "2/2 [==============================] - 0s 5ms/step - loss: 5.3774 - mae: 5.3774\n",
            "Epoch 322/500\n",
            "2/2 [==============================] - 0s 4ms/step - loss: 14.2104 - mae: 14.2104\n",
            "Epoch 323/500\n",
            "2/2 [==============================] - 0s 5ms/step - loss: 18.6332 - mae: 18.6332\n",
            "Epoch 324/500\n",
            "2/2 [==============================] - 0s 5ms/step - loss: 18.0012 - mae: 18.0012\n",
            "Epoch 325/500\n",
            "2/2 [==============================] - 0s 5ms/step - loss: 7.9206 - mae: 7.9206\n",
            "Epoch 326/500\n",
            "2/2 [==============================] - 0s 5ms/step - loss: 21.1782 - mae: 21.1782\n",
            "Epoch 327/500\n",
            "2/2 [==============================] - 0s 5ms/step - loss: 24.6168 - mae: 24.6168\n",
            "Epoch 328/500\n",
            "2/2 [==============================] - 0s 5ms/step - loss: 12.6632 - mae: 12.6632\n",
            "Epoch 329/500\n",
            "2/2 [==============================] - 0s 5ms/step - loss: 17.1666 - mae: 17.1666\n",
            "Epoch 330/500\n",
            "2/2 [==============================] - 0s 5ms/step - loss: 6.9785 - mae: 6.9785\n",
            "Epoch 331/500\n",
            "2/2 [==============================] - 0s 4ms/step - loss: 20.6096 - mae: 20.6096\n",
            "Epoch 332/500\n",
            "2/2 [==============================] - 0s 5ms/step - loss: 11.4793 - mae: 11.4793\n",
            "Epoch 333/500\n",
            "2/2 [==============================] - 0s 5ms/step - loss: 13.8650 - mae: 13.8650\n",
            "Epoch 334/500\n",
            "2/2 [==============================] - 0s 5ms/step - loss: 10.1956 - mae: 10.1956\n",
            "Epoch 335/500\n",
            "2/2 [==============================] - 0s 4ms/step - loss: 13.0400 - mae: 13.0400\n",
            "Epoch 336/500\n",
            "2/2 [==============================] - 0s 5ms/step - loss: 32.4124 - mae: 32.4124\n",
            "Epoch 337/500\n",
            "2/2 [==============================] - 0s 4ms/step - loss: 10.6779 - mae: 10.6779\n",
            "Epoch 338/500\n",
            "2/2 [==============================] - 0s 4ms/step - loss: 20.2114 - mae: 20.2114\n",
            "Epoch 339/500\n",
            "2/2 [==============================] - 0s 5ms/step - loss: 33.5947 - mae: 33.5947\n",
            "Epoch 340/500\n",
            "2/2 [==============================] - 0s 5ms/step - loss: 8.6091 - mae: 8.6091\n",
            "Epoch 341/500\n",
            "2/2 [==============================] - 0s 4ms/step - loss: 21.3242 - mae: 21.3242\n",
            "Epoch 342/500\n",
            "2/2 [==============================] - 0s 4ms/step - loss: 14.1313 - mae: 14.1313\n",
            "Epoch 343/500\n",
            "2/2 [==============================] - 0s 4ms/step - loss: 11.6896 - mae: 11.6896\n",
            "Epoch 344/500\n",
            "2/2 [==============================] - 0s 5ms/step - loss: 10.7196 - mae: 10.7196\n",
            "Epoch 345/500\n",
            "2/2 [==============================] - 0s 5ms/step - loss: 30.9039 - mae: 30.9039\n",
            "Epoch 346/500\n",
            "2/2 [==============================] - 0s 5ms/step - loss: 10.6534 - mae: 10.6534\n",
            "Epoch 347/500\n",
            "2/2 [==============================] - 0s 7ms/step - loss: 25.5714 - mae: 25.5714\n",
            "Epoch 348/500\n",
            "2/2 [==============================] - 0s 6ms/step - loss: 13.2809 - mae: 13.2809\n",
            "Epoch 349/500\n",
            "2/2 [==============================] - 0s 5ms/step - loss: 13.0568 - mae: 13.0568\n",
            "Epoch 350/500\n",
            "2/2 [==============================] - 0s 4ms/step - loss: 15.4166 - mae: 15.4166\n",
            "Epoch 351/500\n",
            "2/2 [==============================] - 0s 4ms/step - loss: 32.8807 - mae: 32.8807\n",
            "Epoch 352/500\n",
            "2/2 [==============================] - 0s 4ms/step - loss: 13.9911 - mae: 13.9911\n",
            "Epoch 353/500\n",
            "2/2 [==============================] - 0s 5ms/step - loss: 15.9747 - mae: 15.9747\n",
            "Epoch 354/500\n",
            "2/2 [==============================] - 0s 4ms/step - loss: 13.3409 - mae: 13.3409\n",
            "Epoch 355/500\n",
            "2/2 [==============================] - 0s 4ms/step - loss: 21.4674 - mae: 21.4674\n",
            "Epoch 356/500\n",
            "2/2 [==============================] - 0s 5ms/step - loss: 16.3381 - mae: 16.3381\n",
            "Epoch 357/500\n",
            "2/2 [==============================] - 0s 5ms/step - loss: 11.8744 - mae: 11.8744\n",
            "Epoch 358/500\n",
            "2/2 [==============================] - 0s 5ms/step - loss: 14.9962 - mae: 14.9962\n",
            "Epoch 359/500\n",
            "2/2 [==============================] - 0s 5ms/step - loss: 12.2566 - mae: 12.2566\n",
            "Epoch 360/500\n",
            "2/2 [==============================] - 0s 6ms/step - loss: 20.1960 - mae: 20.1960\n",
            "Epoch 361/500\n",
            "2/2 [==============================] - 0s 5ms/step - loss: 11.1645 - mae: 11.1645\n",
            "Epoch 362/500\n",
            "2/2 [==============================] - 0s 6ms/step - loss: 6.8886 - mae: 6.8886\n",
            "Epoch 363/500\n",
            "2/2 [==============================] - 0s 6ms/step - loss: 24.1568 - mae: 24.1568\n",
            "Epoch 364/500\n",
            "2/2 [==============================] - 0s 5ms/step - loss: 29.9846 - mae: 29.9846\n",
            "Epoch 365/500\n",
            "2/2 [==============================] - 0s 8ms/step - loss: 8.4694 - mae: 8.4694\n",
            "Epoch 366/500\n",
            "2/2 [==============================] - 0s 4ms/step - loss: 6.1436 - mae: 6.1436\n",
            "Epoch 367/500\n",
            "2/2 [==============================] - 0s 5ms/step - loss: 35.0878 - mae: 35.0878\n",
            "Epoch 368/500\n",
            "2/2 [==============================] - 0s 6ms/step - loss: 7.4995 - mae: 7.4995\n",
            "Epoch 369/500\n",
            "2/2 [==============================] - 0s 7ms/step - loss: 9.3152 - mae: 9.3152\n",
            "Epoch 370/500\n",
            "2/2 [==============================] - 0s 4ms/step - loss: 11.0165 - mae: 11.0165\n",
            "Epoch 371/500\n",
            "2/2 [==============================] - 0s 5ms/step - loss: 9.0763 - mae: 9.0763\n",
            "Epoch 372/500\n",
            "2/2 [==============================] - 0s 5ms/step - loss: 6.9773 - mae: 6.9773\n",
            "Epoch 373/500\n",
            "2/2 [==============================] - 0s 4ms/step - loss: 25.9381 - mae: 25.9381\n",
            "Epoch 374/500\n",
            "2/2 [==============================] - 0s 4ms/step - loss: 11.0005 - mae: 11.0005\n",
            "Epoch 375/500\n",
            "2/2 [==============================] - 0s 4ms/step - loss: 10.7922 - mae: 10.7922\n",
            "Epoch 376/500\n",
            "2/2 [==============================] - 0s 6ms/step - loss: 13.5759 - mae: 13.5759\n",
            "Epoch 377/500\n",
            "2/2 [==============================] - 0s 4ms/step - loss: 15.2822 - mae: 15.2822\n",
            "Epoch 378/500\n",
            "2/2 [==============================] - 0s 6ms/step - loss: 16.4206 - mae: 16.4206\n",
            "Epoch 379/500\n",
            "2/2 [==============================] - 0s 5ms/step - loss: 12.8705 - mae: 12.8705\n",
            "Epoch 380/500\n",
            "2/2 [==============================] - 0s 5ms/step - loss: 27.1238 - mae: 27.1238\n",
            "Epoch 381/500\n",
            "2/2 [==============================] - 0s 5ms/step - loss: 8.9976 - mae: 8.9976\n",
            "Epoch 382/500\n",
            "2/2 [==============================] - 0s 5ms/step - loss: 9.7970 - mae: 9.7970\n",
            "Epoch 383/500\n",
            "2/2 [==============================] - 0s 5ms/step - loss: 5.8914 - mae: 5.8914\n",
            "Epoch 384/500\n",
            "2/2 [==============================] - 0s 5ms/step - loss: 8.5942 - mae: 8.5942\n",
            "Epoch 385/500\n",
            "2/2 [==============================] - 0s 5ms/step - loss: 4.2379 - mae: 4.2379\n",
            "Epoch 386/500\n",
            "2/2 [==============================] - 0s 4ms/step - loss: 13.7518 - mae: 13.7518\n",
            "Epoch 387/500\n",
            "2/2 [==============================] - 0s 4ms/step - loss: 17.1876 - mae: 17.1876\n",
            "Epoch 388/500\n",
            "2/2 [==============================] - 0s 4ms/step - loss: 16.9328 - mae: 16.9328\n",
            "Epoch 389/500\n",
            "2/2 [==============================] - 0s 5ms/step - loss: 13.2599 - mae: 13.2599\n",
            "Epoch 390/500\n",
            "2/2 [==============================] - 0s 5ms/step - loss: 18.0411 - mae: 18.0411\n",
            "Epoch 391/500\n",
            "2/2 [==============================] - 0s 4ms/step - loss: 14.0538 - mae: 14.0538\n",
            "Epoch 392/500\n",
            "2/2 [==============================] - 0s 4ms/step - loss: 16.9154 - mae: 16.9154\n",
            "Epoch 393/500\n",
            "2/2 [==============================] - 0s 4ms/step - loss: 9.9763 - mae: 9.9763\n",
            "Epoch 394/500\n",
            "2/2 [==============================] - 0s 5ms/step - loss: 14.1163 - mae: 14.1163\n",
            "Epoch 395/500\n",
            "2/2 [==============================] - 0s 4ms/step - loss: 28.5134 - mae: 28.5134\n",
            "Epoch 396/500\n",
            "2/2 [==============================] - 0s 4ms/step - loss: 8.4397 - mae: 8.4397\n",
            "Epoch 397/500\n",
            "2/2 [==============================] - 0s 4ms/step - loss: 11.1834 - mae: 11.1834\n",
            "Epoch 398/500\n",
            "2/2 [==============================] - 0s 3ms/step - loss: 6.8592 - mae: 6.8592\n",
            "Epoch 399/500\n",
            "2/2 [==============================] - 0s 4ms/step - loss: 14.0239 - mae: 14.0239\n",
            "Epoch 400/500\n",
            "2/2 [==============================] - 0s 4ms/step - loss: 6.6505 - mae: 6.6505\n",
            "Epoch 401/500\n",
            "2/2 [==============================] - 0s 4ms/step - loss: 7.9296 - mae: 7.9296\n",
            "Epoch 402/500\n",
            "2/2 [==============================] - 0s 4ms/step - loss: 16.2957 - mae: 16.2957\n",
            "Epoch 403/500\n",
            "2/2 [==============================] - 0s 4ms/step - loss: 12.3747 - mae: 12.3747\n",
            "Epoch 404/500\n",
            "2/2 [==============================] - 0s 4ms/step - loss: 22.9887 - mae: 22.9887\n",
            "Epoch 405/500\n",
            "2/2 [==============================] - 0s 8ms/step - loss: 17.9764 - mae: 17.9764\n",
            "Epoch 406/500\n",
            "2/2 [==============================] - 0s 5ms/step - loss: 6.9934 - mae: 6.9934\n",
            "Epoch 407/500\n",
            "2/2 [==============================] - 0s 5ms/step - loss: 12.5509 - mae: 12.5509\n",
            "Epoch 408/500\n",
            "2/2 [==============================] - 0s 5ms/step - loss: 5.6382 - mae: 5.6382\n",
            "Epoch 409/500\n",
            "2/2 [==============================] - 0s 5ms/step - loss: 31.0616 - mae: 31.0616\n",
            "Epoch 410/500\n",
            "2/2 [==============================] - 0s 4ms/step - loss: 9.2787 - mae: 9.2787\n",
            "Epoch 411/500\n",
            "2/2 [==============================] - 0s 5ms/step - loss: 14.8924 - mae: 14.8924\n",
            "Epoch 412/500\n",
            "2/2 [==============================] - 0s 5ms/step - loss: 21.7910 - mae: 21.7910\n",
            "Epoch 413/500\n",
            "2/2 [==============================] - 0s 5ms/step - loss: 12.5134 - mae: 12.5134\n",
            "Epoch 414/500\n",
            "2/2 [==============================] - 0s 4ms/step - loss: 6.0656 - mae: 6.0656\n",
            "Epoch 415/500\n",
            "2/2 [==============================] - 0s 6ms/step - loss: 13.2456 - mae: 13.2456\n",
            "Epoch 416/500\n",
            "2/2 [==============================] - 0s 4ms/step - loss: 27.4764 - mae: 27.4764\n",
            "Epoch 417/500\n",
            "2/2 [==============================] - 0s 4ms/step - loss: 10.5121 - mae: 10.5121\n",
            "Epoch 418/500\n",
            "2/2 [==============================] - 0s 4ms/step - loss: 12.8564 - mae: 12.8564\n",
            "Epoch 419/500\n",
            "2/2 [==============================] - 0s 4ms/step - loss: 15.8935 - mae: 15.8935\n",
            "Epoch 420/500\n",
            "2/2 [==============================] - 0s 5ms/step - loss: 24.7951 - mae: 24.7951\n",
            "Epoch 421/500\n",
            "2/2 [==============================] - 0s 4ms/step - loss: 17.2606 - mae: 17.2606\n",
            "Epoch 422/500\n",
            "2/2 [==============================] - 0s 5ms/step - loss: 7.7922 - mae: 7.7922\n",
            "Epoch 423/500\n",
            "2/2 [==============================] - 0s 5ms/step - loss: 25.4098 - mae: 25.4098\n",
            "Epoch 424/500\n",
            "2/2 [==============================] - 0s 4ms/step - loss: 15.0349 - mae: 15.0349\n",
            "Epoch 425/500\n",
            "2/2 [==============================] - 0s 5ms/step - loss: 7.0965 - mae: 7.0965\n",
            "Epoch 426/500\n",
            "2/2 [==============================] - 0s 4ms/step - loss: 20.2575 - mae: 20.2575\n",
            "Epoch 427/500\n",
            "2/2 [==============================] - 0s 5ms/step - loss: 6.2675 - mae: 6.2675\n",
            "Epoch 428/500\n",
            "2/2 [==============================] - 0s 4ms/step - loss: 12.9633 - mae: 12.9633\n",
            "Epoch 429/500\n",
            "2/2 [==============================] - 0s 4ms/step - loss: 10.7571 - mae: 10.7571\n",
            "Epoch 430/500\n",
            "2/2 [==============================] - 0s 4ms/step - loss: 11.3687 - mae: 11.3687\n",
            "Epoch 431/500\n",
            "2/2 [==============================] - 0s 4ms/step - loss: 10.5828 - mae: 10.5828\n",
            "Epoch 432/500\n",
            "2/2 [==============================] - 0s 4ms/step - loss: 11.4208 - mae: 11.4208\n",
            "Epoch 433/500\n",
            "2/2 [==============================] - 0s 6ms/step - loss: 11.3605 - mae: 11.3605\n",
            "Epoch 434/500\n",
            "2/2 [==============================] - 0s 4ms/step - loss: 30.3996 - mae: 30.3996\n",
            "Epoch 435/500\n",
            "2/2 [==============================] - 0s 5ms/step - loss: 10.4726 - mae: 10.4726\n",
            "Epoch 436/500\n",
            "2/2 [==============================] - 0s 3ms/step - loss: 28.8762 - mae: 28.8762\n",
            "Epoch 437/500\n",
            "2/2 [==============================] - 0s 4ms/step - loss: 8.5530 - mae: 8.5530\n",
            "Epoch 438/500\n",
            "2/2 [==============================] - 0s 4ms/step - loss: 12.7172 - mae: 12.7172\n",
            "Epoch 439/500\n",
            "2/2 [==============================] - 0s 4ms/step - loss: 33.6713 - mae: 33.6713\n",
            "Epoch 440/500\n",
            "2/2 [==============================] - 0s 4ms/step - loss: 15.0623 - mae: 15.0623\n",
            "Epoch 441/500\n",
            "2/2 [==============================] - 0s 4ms/step - loss: 17.4529 - mae: 17.4529\n",
            "Epoch 442/500\n",
            "2/2 [==============================] - 0s 5ms/step - loss: 22.2671 - mae: 22.2671\n",
            "Epoch 443/500\n",
            "2/2 [==============================] - 0s 5ms/step - loss: 23.6711 - mae: 23.6711\n",
            "Epoch 444/500\n",
            "2/2 [==============================] - 0s 6ms/step - loss: 11.0570 - mae: 11.0570\n",
            "Epoch 445/500\n",
            "2/2 [==============================] - 0s 4ms/step - loss: 14.8814 - mae: 14.8814\n",
            "Epoch 446/500\n",
            "2/2 [==============================] - 0s 7ms/step - loss: 17.9467 - mae: 17.9467\n",
            "Epoch 447/500\n",
            "2/2 [==============================] - 0s 8ms/step - loss: 5.4490 - mae: 5.4490\n",
            "Epoch 448/500\n",
            "2/2 [==============================] - 0s 6ms/step - loss: 9.6492 - mae: 9.6492\n",
            "Epoch 449/500\n",
            "2/2 [==============================] - 0s 4ms/step - loss: 14.2898 - mae: 14.2898\n",
            "Epoch 450/500\n",
            "2/2 [==============================] - 0s 4ms/step - loss: 17.0464 - mae: 17.0464\n",
            "Epoch 451/500\n",
            "2/2 [==============================] - 0s 4ms/step - loss: 14.3931 - mae: 14.3931\n",
            "Epoch 452/500\n",
            "2/2 [==============================] - 0s 6ms/step - loss: 30.8654 - mae: 30.8654\n",
            "Epoch 453/500\n",
            "2/2 [==============================] - 0s 7ms/step - loss: 9.1113 - mae: 9.1113\n",
            "Epoch 454/500\n",
            "2/2 [==============================] - 0s 5ms/step - loss: 27.2237 - mae: 27.2237\n",
            "Epoch 455/500\n",
            "2/2 [==============================] - 0s 4ms/step - loss: 11.3170 - mae: 11.3170\n",
            "Epoch 456/500\n",
            "2/2 [==============================] - 0s 4ms/step - loss: 15.6578 - mae: 15.6578\n",
            "Epoch 457/500\n",
            "2/2 [==============================] - 0s 4ms/step - loss: 19.3278 - mae: 19.3278\n",
            "Epoch 458/500\n",
            "2/2 [==============================] - 0s 4ms/step - loss: 22.9225 - mae: 22.9225\n",
            "Epoch 459/500\n",
            "2/2 [==============================] - 0s 5ms/step - loss: 16.2721 - mae: 16.2721\n",
            "Epoch 460/500\n",
            "2/2 [==============================] - 0s 4ms/step - loss: 4.0492 - mae: 4.0492\n",
            "Epoch 461/500\n",
            "2/2 [==============================] - 0s 4ms/step - loss: 16.1143 - mae: 16.1143\n",
            "Epoch 462/500\n",
            "2/2 [==============================] - 0s 5ms/step - loss: 15.5403 - mae: 15.5403\n",
            "Epoch 463/500\n",
            "2/2 [==============================] - 0s 4ms/step - loss: 17.3152 - mae: 17.3152\n",
            "Epoch 464/500\n",
            "2/2 [==============================] - 0s 4ms/step - loss: 11.5463 - mae: 11.5463\n",
            "Epoch 465/500\n",
            "2/2 [==============================] - 0s 5ms/step - loss: 22.2047 - mae: 22.2047\n",
            "Epoch 466/500\n",
            "2/2 [==============================] - 0s 5ms/step - loss: 23.4891 - mae: 23.4891\n",
            "Epoch 467/500\n",
            "2/2 [==============================] - 0s 4ms/step - loss: 13.5762 - mae: 13.5762\n",
            "Epoch 468/500\n",
            "2/2 [==============================] - 0s 4ms/step - loss: 10.9754 - mae: 10.9754\n",
            "Epoch 469/500\n",
            "2/2 [==============================] - 0s 4ms/step - loss: 27.4812 - mae: 27.4812\n",
            "Epoch 470/500\n",
            "2/2 [==============================] - 0s 4ms/step - loss: 12.1991 - mae: 12.1991\n",
            "Epoch 471/500\n",
            "2/2 [==============================] - 0s 4ms/step - loss: 11.7419 - mae: 11.7419\n",
            "Epoch 472/500\n",
            "2/2 [==============================] - 0s 4ms/step - loss: 15.6001 - mae: 15.6001\n",
            "Epoch 473/500\n",
            "2/2 [==============================] - 0s 4ms/step - loss: 15.6717 - mae: 15.6717\n",
            "Epoch 474/500\n",
            "2/2 [==============================] - 0s 4ms/step - loss: 19.8796 - mae: 19.8796\n",
            "Epoch 475/500\n",
            "2/2 [==============================] - 0s 4ms/step - loss: 6.0697 - mae: 6.0697\n",
            "Epoch 476/500\n",
            "2/2 [==============================] - 0s 4ms/step - loss: 12.5716 - mae: 12.5716\n",
            "Epoch 477/500\n",
            "2/2 [==============================] - 0s 4ms/step - loss: 28.5571 - mae: 28.5571\n",
            "Epoch 478/500\n",
            "2/2 [==============================] - 0s 4ms/step - loss: 6.7551 - mae: 6.7551\n",
            "Epoch 479/500\n",
            "2/2 [==============================] - 0s 4ms/step - loss: 5.7211 - mae: 5.7211\n",
            "Epoch 480/500\n",
            "2/2 [==============================] - 0s 5ms/step - loss: 17.9746 - mae: 17.9746\n",
            "Epoch 481/500\n",
            "2/2 [==============================] - 0s 5ms/step - loss: 11.0515 - mae: 11.0515\n",
            "Epoch 482/500\n",
            "2/2 [==============================] - 0s 4ms/step - loss: 18.6747 - mae: 18.6747\n",
            "Epoch 483/500\n",
            "2/2 [==============================] - 0s 5ms/step - loss: 25.4194 - mae: 25.4194\n",
            "Epoch 484/500\n",
            "2/2 [==============================] - 0s 5ms/step - loss: 24.0033 - mae: 24.0033\n",
            "Epoch 485/500\n",
            "2/2 [==============================] - 0s 4ms/step - loss: 5.7465 - mae: 5.7465\n",
            "Epoch 486/500\n",
            "2/2 [==============================] - 0s 4ms/step - loss: 20.0464 - mae: 20.0464\n",
            "Epoch 487/500\n",
            "2/2 [==============================] - 0s 6ms/step - loss: 14.0353 - mae: 14.0353\n",
            "Epoch 488/500\n",
            "2/2 [==============================] - 0s 5ms/step - loss: 30.6026 - mae: 30.6026\n",
            "Epoch 489/500\n",
            "2/2 [==============================] - 0s 5ms/step - loss: 11.9175 - mae: 11.9175\n",
            "Epoch 490/500\n",
            "2/2 [==============================] - 0s 6ms/step - loss: 12.7206 - mae: 12.7206\n",
            "Epoch 491/500\n",
            "2/2 [==============================] - 0s 4ms/step - loss: 23.5914 - mae: 23.5914\n",
            "Epoch 492/500\n",
            "2/2 [==============================] - 0s 5ms/step - loss: 20.5952 - mae: 20.5952\n",
            "Epoch 493/500\n",
            "2/2 [==============================] - 0s 4ms/step - loss: 4.9781 - mae: 4.9781\n",
            "Epoch 494/500\n",
            "2/2 [==============================] - 0s 6ms/step - loss: 12.8433 - mae: 12.8433\n",
            "Epoch 495/500\n",
            "2/2 [==============================] - 0s 4ms/step - loss: 13.3478 - mae: 13.3478\n",
            "Epoch 496/500\n",
            "2/2 [==============================] - 0s 4ms/step - loss: 12.6510 - mae: 12.6510\n",
            "Epoch 497/500\n",
            "2/2 [==============================] - 0s 4ms/step - loss: 17.5764 - mae: 17.5764\n",
            "Epoch 498/500\n",
            "2/2 [==============================] - 0s 4ms/step - loss: 23.6472 - mae: 23.6472\n",
            "Epoch 499/500\n",
            "2/2 [==============================] - 0s 4ms/step - loss: 9.4451 - mae: 9.4451\n",
            "Epoch 500/500\n",
            "2/2 [==============================] - 0s 5ms/step - loss: 14.6133 - mae: 14.6133\n"
          ]
        },
        {
          "output_type": "execute_result",
          "data": {
            "text/plain": [
              "<keras.callbacks.History at 0x7fb1c3d55af0>"
            ]
          },
          "metadata": {},
          "execution_count": 118
        }
      ]
    },
    {
      "cell_type": "code",
      "metadata": {
        "colab": {
          "base_uri": "https://localhost:8080/",
          "height": 617
        },
        "id": "Fem6mBsnDUdS",
        "outputId": "1a1be10d-94ba-4390-9f9d-03954bd3b032"
      },
      "source": [
        "# Make and plot some predictions\n",
        "y_preds_3 = model_3.predict(X_test)\n",
        "plot_predictions(predictions=y_preds_3)"
      ],
      "execution_count": null,
      "outputs": [
        {
          "output_type": "stream",
          "name": "stdout",
          "text": [
            "1/1 [==============================] - 0s 39ms/step\n"
          ]
        },
        {
          "output_type": "display_data",
          "data": {
            "text/plain": [
              "<Figure size 1000x700 with 1 Axes>"
            ],
            "image/png": "[encoded data removed]"
          },
          "metadata": {}
        }
      ]
    },
    {
      "cell_type": "code",
      "source": [
        "# Calculate model_3 evalaution metrics\n",
        "mae_3 = mae(y_test, y_preds_3)\n",
        "mse_3 = mse(y_test, y_preds_3)\n",
        "mae_3, mse_3"
      ],
      "metadata": {
        "colab": {
          "base_uri": "https://localhost:8080/"
        },
        "id": "clWSRlModS8M",
        "outputId": "5bbd7d71-6dd2-4c1e-c216-e6805b01ff6b"
      },
      "execution_count": null,
      "outputs": [
        {
          "output_type": "execute_result",
          "data": {
            "text/plain": [
              "(<tf.Tensor: shape=(), dtype=float32, numpy=68.643>,\n",
              " <tf.Tensor: shape=(), dtype=float32, numpy=4798.2295>)"
            ]
          },
          "metadata": {},
          "execution_count": 120
        }
      ]
    },
    {
      "cell_type": "markdown",
      "metadata": {
        "id": "lMwtZ03YGSdv"
      },
      "source": [
        "🔑 **Note:** You want to start with small experiments (small models) and make sure they work and then increase their scale when necessary."
      ]
    },
    {
      "cell_type": "markdown",
      "metadata": {
        "id": "D_5UdQMOEA5y"
      },
      "source": [
        "### Comparing the results of our experiments\n",
        "\n",
        "We've run a few experiments, let's compare the results."
      ]
    },
    {
      "cell_type": "code",
      "source": [
        "# Let's compare our model's results using a pandas DataFrame\n",
        "import pandas as pd\n",
        "\n",
        "model_results = [[\"model_1\", mae_1.numpy(), mse_1.numpy()],\n",
        "                 [\"model_2\", mae_2.numpy(), mse_1.numpy()],\n",
        "                 [\"model_3\", mae_3.numpy(), mse_3.numpy()]]\n",
        "\n",
        "all_results = pd.DataFrame(model_results, columns=[\"model\", \"mae\", \"mse\"])\n",
        "all_results"
      ],
      "metadata": {
        "colab": {
          "base_uri": "https://localhost:8080/",
          "height": 143
        },
        "id": "pdfDwGj9ha88",
        "outputId": "23e5c3b6-6c38-4ff3-cadf-25b6891792a2"
      },
      "execution_count": null,
      "outputs": [
        {
          "output_type": "execute_result",
          "data": {
            "text/plain": [
              "     model        mae          mse\n",
              "0  model_1  16.058849   259.250732\n",
              "1  model_2   3.057770   259.250732\n",
              "2  model_3  68.642998  4798.229492"
            ],
            "text/html": [
              "\n",
              "  <div id=\"df-3122640e-e7a9-479b-943b-2c27a054f0f4\">\n",
              "    <div class=\"colab-df-container\">\n",
              "      <div>\n",
              "<style scoped>\n",
              "    .dataframe tbody tr th:only-of-type {\n",
              "        vertical-align: middle;\n",
              "    }\n",
              "\n",
              "    .dataframe tbody tr th {\n",
              "        vertical-align: top;\n",
              "    }\n",
              "\n",
              "    .dataframe thead th {\n",
              "        text-align: right;\n",
              "    }\n",
              "</style>\n",
              "<table border=\"1\" class=\"dataframe\">\n",
              "  <thead>\n",
              "    <tr style=\"text-align: right;\">\n",
              "      <th></th>\n",
              "      <th>model</th>\n",
              "      <th>mae</th>\n",
              "      <th>mse</th>\n",
              "    </tr>\n",
              "  </thead>\n",
              "  <tbody>\n",
              "    <tr>\n",
              "      <th>0</th>\n",
              "      <td>model_1</td>\n",
              "      <td>16.058849</td>\n",
              "      <td>259.250732</td>\n",
              "    </tr>\n",
              "    <tr>\n",
              "      <th>1</th>\n",
              "      <td>model_2</td>\n",
              "      <td>3.057770</td>\n",
              "      <td>259.250732</td>\n",
              "    </tr>\n",
              "    <tr>\n",
              "      <th>2</th>\n",
              "      <td>model_3</td>\n",
              "      <td>68.642998</td>\n",
              "      <td>4798.229492</td>\n",
              "    </tr>\n",
              "  </tbody>\n",
              "</table>\n",
              "</div>\n",
              "      <button class=\"colab-df-convert\" onclick=\"convertToInteractive('df-3122640e-e7a9-479b-943b-2c27a054f0f4')\"\n",
              "              title=\"Convert this dataframe to an interactive table.\"\n",
              "              style=\"display:none;\">\n",
              "        \n",
              "  <svg xmlns=\"http://www.w3.org/2000/svg\" height=\"24px\"viewBox=\"0 0 24 24\"\n",
              "       width=\"24px\">\n",
              "    <path d=\"M0 0h24v24H0V0z\" fill=\"none\"/>\n",
              "    <path d=\"M18.56 5.44l.94 2.06.94-2.06 2.06-.94-2.06-.94-.94-2.06-.94 2.06-2.06.94zm-11 1L8.5 8.5l.94-2.06 2.06-.94-2.06-.94L8.5 2.5l-.94 2.06-2.06.94zm10 10l.94 2.06.94-2.06 2.06-.94-2.06-.94-.94-2.06-.94 2.06-2.06.94z\"/><path d=\"M17.41 7.96l-1.37-1.37c-.4-.4-.92-.59-1.43-.59-.52 0-1.04.2-1.43.59L10.3 9.45l-7.72 7.72c-.78.78-.78 2.05 0 2.83L4 21.41c.39.39.9.59 1.41.59.51 0 1.02-.2 1.41-.59l7.78-7.78 2.81-2.81c.8-.78.8-2.07 0-2.86zM5.41 20L4 18.59l7.72-7.72 1.47 1.35L5.41 20z\"/>\n",
              "  </svg>\n",
              "      </button>\n",
              "      \n",
              "  <style>\n",
              "    .colab-df-container {\n",
              "      display:flex;\n",
              "      flex-wrap:wrap;\n",
              "      gap: 12px;\n",
              "    }\n",
              "\n",
              "    .colab-df-convert {\n",
              "      background-color: #E8F0FE;\n",
              "      border: none;\n",
              "      border-radius: 50%;\n",
              "      cursor: pointer;\n",
              "      display: none;\n",
              "      fill: #1967D2;\n",
              "      height: 32px;\n",
              "      padding: 0 0 0 0;\n",
              "      width: 32px;\n",
              "    }\n",
              "\n",
              "    .colab-df-convert:hover {\n",
              "      background-color: #E2EBFA;\n",
              "      box-shadow: 0px 1px 2px rgba(60, 64, 67, 0.3), 0px 1px 3px 1px rgba(60, 64, 67, 0.15);\n",
              "      fill: #174EA6;\n",
              "    }\n",
              "\n",
              "    [theme=dark] .colab-df-convert {\n",
              "      background-color: #3B4455;\n",
              "      fill: #D2E3FC;\n",
              "    }\n",
              "\n",
              "    [theme=dark] .colab-df-convert:hover {\n",
              "      background-color: #434B5C;\n",
              "      box-shadow: 0px 1px 3px 1px rgba(0, 0, 0, 0.15);\n",
              "      filter: drop-shadow(0px 1px 2px rgba(0, 0, 0, 0.3));\n",
              "      fill: #FFFFFF;\n",
              "    }\n",
              "  </style>\n",
              "\n",
              "      <script>\n",
              "        const buttonEl =\n",
              "          document.querySelector('#df-3122640e-e7a9-479b-943b-2c27a054f0f4 button.colab-df-convert');\n",
              "        buttonEl.style.display =\n",
              "          google.colab.kernel.accessAllowed ? 'block' : 'none';\n",
              "\n",
              "        async function convertToInteractive(key) {\n",
              "          const element = document.querySelector('#df-3122640e-e7a9-479b-943b-2c27a054f0f4');\n",
              "          const dataTable =\n",
              "            await google.colab.kernel.invokeFunction('convertToInteractive',\n",
              "                                                     [key], {});\n",
              "          if (!dataTable) return;\n",
              "\n",
              "          const docLinkHtml = 'Like what you see? Visit the ' +\n",
              "            '<a target=\"_blank\" href=https://colab.research.google.com/notebooks/data_table.ipynb>data table notebook</a>'\n",
              "            + ' to learn more about interactive tables.';\n",
              "          element.innerHTML = '';\n",
              "          dataTable['output_type'] = 'display_data';\n",
              "          await google.colab.output.renderOutput(dataTable, element);\n",
              "          const docLink = document.createElement('div');\n",
              "          docLink.innerHTML = docLinkHtml;\n",
              "          element.appendChild(docLink);\n",
              "        }\n",
              "      </script>\n",
              "    </div>\n",
              "  </div>\n",
              "  "
            ]
          },
          "metadata": {},
          "execution_count": 123
        }
      ]
    },
    {
      "cell_type": "markdown",
      "metadata": {
        "id": "8OTx1UNfHVKZ"
      },
      "source": [
        "Looks like `model_2` performed the best..."
      ]
    },
    {
      "cell_type": "code",
      "metadata": {
        "colab": {
          "base_uri": "https://localhost:8080/"
        },
        "id": "XhFEXF1iG665",
        "outputId": "db382f33-05ac-4e64-aeb9-90fe432aab19"
      },
      "source": [
        "model_2.summary()"
      ],
      "execution_count": null,
      "outputs": [
        {
          "output_type": "stream",
          "name": "stdout",
          "text": [
            "Model: \"sequential_2\"\n",
            "_________________________________________________________________\n",
            " Layer (type)                Output Shape              Param #   \n",
            "=================================================================\n",
            " dense_4 (Dense)             (None, 10)                20        \n",
            "                                                                 \n",
            " dense_5 (Dense)             (None, 1)                 11        \n",
            "                                                                 \n",
            "=================================================================\n",
            "Total params: 31\n",
            "Trainable params: 31\n",
            "Non-trainable params: 0\n",
            "_________________________________________________________________\n"
          ]
        }
      ]
    },
    {
      "cell_type": "markdown",
      "metadata": {
        "id": "Oaa6e-HMHILL"
      },
      "source": [
        "> 🔑 **Note:** One of your main goals should be to minimize the time between your experiments. The more experiments you do, the more things you'll figure out which don't work and in turn, get closer to figuring out what does work. Remember the machine learning practioner's motto: \"experiment, experiment, experiment\".\n",
        "\n"
      ]
    },
    {
      "cell_type": "markdown",
      "metadata": {
        "id": "3DI9I7j3H1-r"
      },
      "source": [
        "## Tracking your experiments\n",
        "\n",
        "One really good habit in machine learning modelling is to track the results of your experiments.\n",
        "\n",
        "And when doing so, it can be tedious if you're running lots of experiments.\n",
        "\n",
        "Luckily, there are tools to help us!\n",
        "\n",
        "📖 **Resource:** As you build more models, you'll want to look into using:\n",
        "\n",
        "* [TensorBoard](https://www.tensorflow.org/tensorboard) - a component of the TensorFlow library to help track modelling experiments (we'll see this one later).\n",
        "* [Weights & Biases](https://www.wandb.com/) - a tool for tracking all of kinds of machine learning experiments (plugs straight into TensorBoard)."
      ]
    },
    {
      "cell_type": "markdown",
      "metadata": {
        "id": "E3fF957RIrwz"
      },
      "source": [
        "## Saving our models\n",
        "\n",
        "Saving our models allows us to use them outside of Google Colab (or wherever they were trained) such as in a web application or a mobile app.\n",
        "\n",
        "There are two main formats we can save our model's too:\n",
        "\n",
        "1. The SavedModel format\n",
        "2. The HDF5 format"
      ]
    },
    {
      "cell_type": "code",
      "source": [
        "# Save model using the SavedModel format\n",
        "model_2.save(\"modelo_linear_regression_aula_01_curso_tensorflow\")"
      ],
      "metadata": {
        "colab": {
          "base_uri": "https://localhost:8080/"
        },
        "id": "3TdjCofdknpN",
        "outputId": "ebb3352f-8359-4439-f859-87712f7ec2c8"
      },
      "execution_count": null,
      "outputs": [
        {
          "output_type": "stream",
          "name": "stderr",
          "text": [
            "WARNING:absl:Found untraced functions such as _update_step_xla while saving (showing 1 of 1). These functions will not be directly callable after loading.\n"
          ]
        }
      ]
    },
    {
      "cell_type": "code",
      "source": [
        "# Save model using the HDF5 format\n",
        "model_2.save(\"modelo_linear_regression_aula_01_curso_tensorflow.h5\")"
      ],
      "metadata": {
        "id": "QG7qfJaxliaS"
      },
      "execution_count": null,
      "outputs": []
    },
    {
      "cell_type": "markdown",
      "metadata": {
        "id": "wMTu6_fStqIQ"
      },
      "source": [
        "## Loading in a saved model"
      ]
    },
    {
      "cell_type": "code",
      "source": [
        "loaded_model = tf.keras.models.load_model(\"/content/drive/MyDrive/Colab Notebooks/TensorFlow/modelo_linear_regression_aula_01_curso_tensorflow\")\n",
        "loaded_model.summary()"
      ],
      "metadata": {
        "colab": {
          "base_uri": "https://localhost:8080/"
        },
        "id": "nhOjT3roFZig",
        "outputId": "32e4ef79-2ef0-4144-c697-7fada83828bb"
      },
      "execution_count": null,
      "outputs": [
        {
          "output_type": "stream",
          "name": "stdout",
          "text": [
            "Model: \"sequential_2\"\n",
            "_________________________________________________________________\n",
            " Layer (type)                Output Shape              Param #   \n",
            "=================================================================\n",
            " dense_4 (Dense)             (None, 10)                20        \n",
            "                                                                 \n",
            " dense_5 (Dense)             (None, 1)                 11        \n",
            "                                                                 \n",
            "=================================================================\n",
            "Total params: 31\n",
            "Trainable params: 31\n",
            "Non-trainable params: 0\n",
            "_________________________________________________________________\n"
          ]
        }
      ]
    },
    {
      "cell_type": "code",
      "source": [
        "model_2.summary()"
      ],
      "metadata": {
        "colab": {
          "base_uri": "https://localhost:8080/"
        },
        "id": "F8m0ph1eH_0A",
        "outputId": "caa4ab1e-e571-46f3-a18e-e2385d4fbc64"
      },
      "execution_count": null,
      "outputs": [
        {
          "output_type": "stream",
          "name": "stdout",
          "text": [
            "Model: \"sequential_2\"\n",
            "_________________________________________________________________\n",
            " Layer (type)                Output Shape              Param #   \n",
            "=================================================================\n",
            " dense_4 (Dense)             (None, 10)                20        \n",
            "                                                                 \n",
            " dense_5 (Dense)             (None, 1)                 11        \n",
            "                                                                 \n",
            "=================================================================\n",
            "Total params: 31\n",
            "Trainable params: 31\n",
            "Non-trainable params: 0\n",
            "_________________________________________________________________\n"
          ]
        }
      ]
    },
    {
      "cell_type": "code",
      "source": [
        "# Compare model_2 predictions with LoadedMode format model predictions\n",
        "model_2_preds = model_2.predict(X_test)\n",
        "loaded_model_preds = loaded_model.predict(X_test)\n",
        "model_2_preds == loaded_model_preds"
      ],
      "metadata": {
        "colab": {
          "base_uri": "https://localhost:8080/"
        },
        "id": "5_61vwQnICXi",
        "outputId": "ddc5bf98-d57b-4307-d001-3ecfcc96f817"
      },
      "execution_count": null,
      "outputs": [
        {
          "output_type": "stream",
          "name": "stdout",
          "text": [
            "1/1 [==============================] - 0s 19ms/step\n",
            "1/1 [==============================] - 0s 45ms/step\n"
          ]
        },
        {
          "output_type": "execute_result",
          "data": {
            "text/plain": [
              "array([[ True],\n",
              "       [ True],\n",
              "       [ True],\n",
              "       [ True],\n",
              "       [ True],\n",
              "       [ True],\n",
              "       [ True],\n",
              "       [ True],\n",
              "       [ True],\n",
              "       [ True]])"
            ]
          },
          "metadata": {},
          "execution_count": 28
        }
      ]
    },
    {
      "cell_type": "code",
      "metadata": {
        "colab": {
          "base_uri": "https://localhost:8080/"
        },
        "id": "XyATYIrLuxrM",
        "outputId": "401a72b8-1647-4560-aa0f-d6f7cb2ebf52"
      },
      "source": [
        "# Compare the MAE of model_2 preds and loaded_model_preds\n",
        "mae(y_true=y_test, y_pred=model_2_preds) == mae(y_true=y_test, y_pred=loaded_model_preds)"
      ],
      "execution_count": null,
      "outputs": [
        {
          "output_type": "execute_result",
          "data": {
            "text/plain": [
              "<tf.Tensor: shape=(), dtype=bool, numpy=True>"
            ]
          },
          "metadata": {},
          "execution_count": 29
        }
      ]
    },
    {
      "cell_type": "code",
      "metadata": {
        "colab": {
          "base_uri": "https://localhost:8080/"
        },
        "id": "KYRN_QQ1v36P",
        "outputId": "55c1d0f1-f64f-4de7-8286-d66bc2abd309"
      },
      "source": [
        "# Load in a model using the .h5 format\n",
        "loaded_h5_model = tf.keras.models.load_model(\"/content/drive/MyDrive/Colab Notebooks/TensorFlow/modelo_linear_regression_aula_01_curso_tensorflow.h5\")\n",
        "loaded_h5_model.summary()"
      ],
      "execution_count": null,
      "outputs": [
        {
          "output_type": "stream",
          "name": "stdout",
          "text": [
            "Model: \"sequential_2\"\n",
            "_________________________________________________________________\n",
            " Layer (type)                Output Shape              Param #   \n",
            "=================================================================\n",
            " dense_4 (Dense)             (None, 10)                20        \n",
            "                                                                 \n",
            " dense_5 (Dense)             (None, 1)                 11        \n",
            "                                                                 \n",
            "=================================================================\n",
            "Total params: 31\n",
            "Trainable params: 31\n",
            "Non-trainable params: 0\n",
            "_________________________________________________________________\n"
          ]
        }
      ]
    },
    {
      "cell_type": "code",
      "metadata": {
        "colab": {
          "base_uri": "https://localhost:8080/"
        },
        "id": "9tAE0IE7wHWz",
        "outputId": "51e13a1a-3c93-43ba-cbf7-8198b0329032"
      },
      "source": [
        "# Check to see if loaded .h5 model predictions match model_2\n",
        "model_2_preds = model_2.predict(X_test)\n",
        "loaded_h5_model_preds = loaded_h5_model.predict(X_test)\n",
        "model_2_preds == loaded_h5_model_preds"
      ],
      "execution_count": null,
      "outputs": [
        {
          "output_type": "stream",
          "name": "stdout",
          "text": [
            "1/1 [==============================] - 0s 18ms/step\n"
          ]
        },
        {
          "output_type": "stream",
          "name": "stderr",
          "text": [
            "WARNING:tensorflow:5 out of the last 10 calls to <function Model.make_predict_function.<locals>.predict_function at 0x7f847e1d6f70> triggered tf.function retracing. Tracing is expensive and the excessive number of tracings could be due to (1) creating @tf.function repeatedly in a loop, (2) passing tensors with different shapes, (3) passing Python objects instead of tensors. For (1), please define your @tf.function outside of the loop. For (2), @tf.function has reduce_retracing=True option that can avoid unnecessary retracing. For (3), please refer to https://www.tensorflow.org/guide/function#controlling_retracing and https://www.tensorflow.org/api_docs/python/tf/function for  more details.\n"
          ]
        },
        {
          "output_type": "stream",
          "name": "stdout",
          "text": [
            "1/1 [==============================] - 0s 49ms/step\n"
          ]
        },
        {
          "output_type": "execute_result",
          "data": {
            "text/plain": [
              "array([[ True],\n",
              "       [ True],\n",
              "       [ True],\n",
              "       [ True],\n",
              "       [ True],\n",
              "       [ True],\n",
              "       [ True],\n",
              "       [ True],\n",
              "       [ True],\n",
              "       [ True]])"
            ]
          },
          "metadata": {},
          "execution_count": 31
        }
      ]
    },
    {
      "cell_type": "markdown",
      "metadata": {
        "id": "YUFnorbpwon_"
      },
      "source": [
        "## Download a model (or any other file) from Google Colab\n",
        "\n",
        "If you want to download your files from Google Colab:\n",
        "\n",
        "1. You can go to the \"files\" tab and right click on the file you're after and click \"download\".\n",
        "2. Use code (see the cell below).\n",
        "3. Save it to Google Drive by connecting Google Drive and copying it there (see 2nd code cell below)."
      ]
    },
    {
      "cell_type": "code",
      "metadata": {
        "colab": {
          "base_uri": "https://localhost:8080/",
          "height": 17
        },
        "id": "MrfvCrjgxSg2",
        "outputId": "e5aa2ee0-83ee-4cf3-bb95-cbb090846b6c"
      },
      "source": [
        "# Download a file from Google Colab\n",
        "from google.colab import files\n",
        "files.download(\"/content/drive/MyDrive/Colab Notebooks/TensorFlow/modelo_linear_regression_aula_01_curso_tensorflow.h5\")"
      ],
      "execution_count": null,
      "outputs": [
        {
          "output_type": "display_data",
          "data": {
            "text/plain": [
              "<IPython.core.display.Javascript object>"
            ],
            "application/javascript": [
              "\n",
              "    async function download(id, filename, size) {\n",
              "      if (!google.colab.kernel.accessAllowed) {\n",
              "        return;\n",
              "      }\n",
              "      const div = document.createElement('div');\n",
              "      const label = document.createElement('label');\n",
              "      label.textContent = `Downloading \"${filename}\": `;\n",
              "      div.appendChild(label);\n",
              "      const progress = document.createElement('progress');\n",
              "      progress.max = size;\n",
              "      div.appendChild(progress);\n",
              "      document.body.appendChild(div);\n",
              "\n",
              "      const buffers = [];\n",
              "      let downloaded = 0;\n",
              "\n",
              "      const channel = await google.colab.kernel.comms.open(id);\n",
              "      // Send a message to notify the kernel that we're ready.\n",
              "      channel.send({})\n",
              "\n",
              "      for await (const message of channel.messages) {\n",
              "        // Send a message to notify the kernel that we're ready.\n",
              "        channel.send({})\n",
              "        if (message.buffers) {\n",
              "          for (const buffer of message.buffers) {\n",
              "            buffers.push(buffer);\n",
              "            downloaded += buffer.byteLength;\n",
              "            progress.value = downloaded;\n",
              "          }\n",
              "        }\n",
              "      }\n",
              "      const blob = new Blob(buffers, {type: 'application/binary'});\n",
              "      const a = document.createElement('a');\n",
              "      a.href = window.URL.createObjectURL(blob);\n",
              "      a.download = filename;\n",
              "      div.appendChild(a);\n",
              "      a.click();\n",
              "      div.remove();\n",
              "    }\n",
              "  "
            ]
          },
          "metadata": {}
        },
        {
          "output_type": "display_data",
          "data": {
            "text/plain": [
              "<IPython.core.display.Javascript object>"
            ],
            "application/javascript": [
              "download(\"download_a5e579c6-d200-4da2-8284-aeeeb1f92fff\", \"modelo_linear_regression_aula_01_curso_tensorflow.h5\", 21952)"
            ]
          },
          "metadata": {}
        }
      ]
    },
    {
      "cell_type": "code",
      "metadata": {
        "id": "9eQEQSJ8xypc"
      },
      "source": [
        "# Save a file from Google Colab to Google Drive (requires mounting Google Drive)\n",
        "!cp /content/best_model_HDF5_format.h5 /content/drive/MyDrive/tensorflow_course"
      ],
      "execution_count": null,
      "outputs": []
    },
    {
      "cell_type": "code",
      "metadata": {
        "colab": {
          "base_uri": "https://localhost:8080/"
        },
        "id": "0ODwgyDRyaBh",
        "outputId": "5eeee2bf-c023-407c-8724-2e063a3efa7c"
      },
      "source": [
        "!ls /content/drive/MyDrive/ColabNotebooks/TensorFlow"
      ],
      "execution_count": null,
      "outputs": [
        {
          "output_type": "stream",
          "name": "stdout",
          "text": [
            "'00_ TensorFlow.ipynb'\n",
            " modelo_linear_regression_aula_01_curso_tensorflow\n",
            " modelo_linear_regression_aula_01_curso_tensorflow.h5\n"
          ]
        }
      ]
    },
    {
      "cell_type": "markdown",
      "source": [
        "## A Larger example"
      ],
      "metadata": {
        "id": "FXu7dj5HNd-Q"
      }
    },
    {
      "cell_type": "code",
      "source": [
        "# Import the required libraries\n",
        "import tensorflow as tf\n",
        "import pandas as pd\n",
        "import matplotlib.pyplot as plt\n",
        "import numpy as np"
      ],
      "metadata": {
        "id": "hmtDU55WNgdO"
      },
      "execution_count": null,
      "outputs": []
    },
    {
      "cell_type": "code",
      "source": [
        "insurance = pd.read_csv(\"https://raw.githubusercontent.com/stedy/Machine-Learning-with-R-datasets/master/insurance.csv\")\n",
        "insurance"
      ],
      "metadata": {
        "colab": {
          "base_uri": "https://localhost:8080/",
          "height": 424
        },
        "id": "kXy379qzNv1t",
        "outputId": "9f01adcc-f12a-4c44-960b-87931182fdc3"
      },
      "execution_count": null,
      "outputs": [
        {
          "output_type": "execute_result",
          "data": {
            "text/plain": [
              "      age     sex     bmi  children smoker     region      charges\n",
              "0      19  female  27.900         0    yes  southwest  16884.92400\n",
              "1      18    male  33.770         1     no  southeast   1725.55230\n",
              "2      28    male  33.000         3     no  southeast   4449.46200\n",
              "3      33    male  22.705         0     no  northwest  21984.47061\n",
              "4      32    male  28.880         0     no  northwest   3866.85520\n",
              "...   ...     ...     ...       ...    ...        ...          ...\n",
              "1333   50    male  30.970         3     no  northwest  10600.54830\n",
              "1334   18  female  31.920         0     no  northeast   2205.98080\n",
              "1335   18  female  36.850         0     no  southeast   1629.83350\n",
              "1336   21  female  25.800         0     no  southwest   2007.94500\n",
              "1337   61  female  29.070         0    yes  northwest  29141.36030\n",
              "\n",
              "[1338 rows x 7 columns]"
            ],
            "text/html": [
              "\n",
              "  <div id=\"df-9b375a81-e777-4d3a-85f8-6a832cda8f51\">\n",
              "    <div class=\"colab-df-container\">\n",
              "      <div>\n",
              "<style scoped>\n",
              "    .dataframe tbody tr th:only-of-type {\n",
              "        vertical-align: middle;\n",
              "    }\n",
              "\n",
              "    .dataframe tbody tr th {\n",
              "        vertical-align: top;\n",
              "    }\n",
              "\n",
              "    .dataframe thead th {\n",
              "        text-align: right;\n",
              "    }\n",
              "</style>\n",
              "<table border=\"1\" class=\"dataframe\">\n",
              "  <thead>\n",
              "    <tr style=\"text-align: right;\">\n",
              "      <th></th>\n",
              "      <th>age</th>\n",
              "      <th>sex</th>\n",
              "      <th>bmi</th>\n",
              "      <th>children</th>\n",
              "      <th>smoker</th>\n",
              "      <th>region</th>\n",
              "      <th>charges</th>\n",
              "    </tr>\n",
              "  </thead>\n",
              "  <tbody>\n",
              "    <tr>\n",
              "      <th>0</th>\n",
              "      <td>19</td>\n",
              "      <td>female</td>\n",
              "      <td>27.900</td>\n",
              "      <td>0</td>\n",
              "      <td>yes</td>\n",
              "      <td>southwest</td>\n",
              "      <td>16884.92400</td>\n",
              "    </tr>\n",
              "    <tr>\n",
              "      <th>1</th>\n",
              "      <td>18</td>\n",
              "      <td>male</td>\n",
              "      <td>33.770</td>\n",
              "      <td>1</td>\n",
              "      <td>no</td>\n",
              "      <td>southeast</td>\n",
              "      <td>1725.55230</td>\n",
              "    </tr>\n",
              "    <tr>\n",
              "      <th>2</th>\n",
              "      <td>28</td>\n",
              "      <td>male</td>\n",
              "      <td>33.000</td>\n",
              "      <td>3</td>\n",
              "      <td>no</td>\n",
              "      <td>southeast</td>\n",
              "      <td>4449.46200</td>\n",
              "    </tr>\n",
              "    <tr>\n",
              "      <th>3</th>\n",
              "      <td>33</td>\n",
              "      <td>male</td>\n",
              "      <td>22.705</td>\n",
              "      <td>0</td>\n",
              "      <td>no</td>\n",
              "      <td>northwest</td>\n",
              "      <td>21984.47061</td>\n",
              "    </tr>\n",
              "    <tr>\n",
              "      <th>4</th>\n",
              "      <td>32</td>\n",
              "      <td>male</td>\n",
              "      <td>28.880</td>\n",
              "      <td>0</td>\n",
              "      <td>no</td>\n",
              "      <td>northwest</td>\n",
              "      <td>3866.85520</td>\n",
              "    </tr>\n",
              "    <tr>\n",
              "      <th>...</th>\n",
              "      <td>...</td>\n",
              "      <td>...</td>\n",
              "      <td>...</td>\n",
              "      <td>...</td>\n",
              "      <td>...</td>\n",
              "      <td>...</td>\n",
              "      <td>...</td>\n",
              "    </tr>\n",
              "    <tr>\n",
              "      <th>1333</th>\n",
              "      <td>50</td>\n",
              "      <td>male</td>\n",
              "      <td>30.970</td>\n",
              "      <td>3</td>\n",
              "      <td>no</td>\n",
              "      <td>northwest</td>\n",
              "      <td>10600.54830</td>\n",
              "    </tr>\n",
              "    <tr>\n",
              "      <th>1334</th>\n",
              "      <td>18</td>\n",
              "      <td>female</td>\n",
              "      <td>31.920</td>\n",
              "      <td>0</td>\n",
              "      <td>no</td>\n",
              "      <td>northeast</td>\n",
              "      <td>2205.98080</td>\n",
              "    </tr>\n",
              "    <tr>\n",
              "      <th>1335</th>\n",
              "      <td>18</td>\n",
              "      <td>female</td>\n",
              "      <td>36.850</td>\n",
              "      <td>0</td>\n",
              "      <td>no</td>\n",
              "      <td>southeast</td>\n",
              "      <td>1629.83350</td>\n",
              "    </tr>\n",
              "    <tr>\n",
              "      <th>1336</th>\n",
              "      <td>21</td>\n",
              "      <td>female</td>\n",
              "      <td>25.800</td>\n",
              "      <td>0</td>\n",
              "      <td>no</td>\n",
              "      <td>southwest</td>\n",
              "      <td>2007.94500</td>\n",
              "    </tr>\n",
              "    <tr>\n",
              "      <th>1337</th>\n",
              "      <td>61</td>\n",
              "      <td>female</td>\n",
              "      <td>29.070</td>\n",
              "      <td>0</td>\n",
              "      <td>yes</td>\n",
              "      <td>northwest</td>\n",
              "      <td>29141.36030</td>\n",
              "    </tr>\n",
              "  </tbody>\n",
              "</table>\n",
              "<p>1338 rows × 7 columns</p>\n",
              "</div>\n",
              "      <button class=\"colab-df-convert\" onclick=\"convertToInteractive('df-9b375a81-e777-4d3a-85f8-6a832cda8f51')\"\n",
              "              title=\"Convert this dataframe to an interactive table.\"\n",
              "              style=\"display:none;\">\n",
              "        \n",
              "  <svg xmlns=\"http://www.w3.org/2000/svg\" height=\"24px\"viewBox=\"0 0 24 24\"\n",
              "       width=\"24px\">\n",
              "    <path d=\"M0 0h24v24H0V0z\" fill=\"none\"/>\n",
              "    <path d=\"M18.56 5.44l.94 2.06.94-2.06 2.06-.94-2.06-.94-.94-2.06-.94 2.06-2.06.94zm-11 1L8.5 8.5l.94-2.06 2.06-.94-2.06-.94L8.5 2.5l-.94 2.06-2.06.94zm10 10l.94 2.06.94-2.06 2.06-.94-2.06-.94-.94-2.06-.94 2.06-2.06.94z\"/><path d=\"M17.41 7.96l-1.37-1.37c-.4-.4-.92-.59-1.43-.59-.52 0-1.04.2-1.43.59L10.3 9.45l-7.72 7.72c-.78.78-.78 2.05 0 2.83L4 21.41c.39.39.9.59 1.41.59.51 0 1.02-.2 1.41-.59l7.78-7.78 2.81-2.81c.8-.78.8-2.07 0-2.86zM5.41 20L4 18.59l7.72-7.72 1.47 1.35L5.41 20z\"/>\n",
              "  </svg>\n",
              "      </button>\n",
              "      \n",
              "  <style>\n",
              "    .colab-df-container {\n",
              "      display:flex;\n",
              "      flex-wrap:wrap;\n",
              "      gap: 12px;\n",
              "    }\n",
              "\n",
              "    .colab-df-convert {\n",
              "      background-color: #E8F0FE;\n",
              "      border: none;\n",
              "      border-radius: 50%;\n",
              "      cursor: pointer;\n",
              "      display: none;\n",
              "      fill: #1967D2;\n",
              "      height: 32px;\n",
              "      padding: 0 0 0 0;\n",
              "      width: 32px;\n",
              "    }\n",
              "\n",
              "    .colab-df-convert:hover {\n",
              "      background-color: #E2EBFA;\n",
              "      box-shadow: 0px 1px 2px rgba(60, 64, 67, 0.3), 0px 1px 3px 1px rgba(60, 64, 67, 0.15);\n",
              "      fill: #174EA6;\n",
              "    }\n",
              "\n",
              "    [theme=dark] .colab-df-convert {\n",
              "      background-color: #3B4455;\n",
              "      fill: #D2E3FC;\n",
              "    }\n",
              "\n",
              "    [theme=dark] .colab-df-convert:hover {\n",
              "      background-color: #434B5C;\n",
              "      box-shadow: 0px 1px 3px 1px rgba(0, 0, 0, 0.15);\n",
              "      filter: drop-shadow(0px 1px 2px rgba(0, 0, 0, 0.3));\n",
              "      fill: #FFFFFF;\n",
              "    }\n",
              "  </style>\n",
              "\n",
              "      <script>\n",
              "        const buttonEl =\n",
              "          document.querySelector('#df-9b375a81-e777-4d3a-85f8-6a832cda8f51 button.colab-df-convert');\n",
              "        buttonEl.style.display =\n",
              "          google.colab.kernel.accessAllowed ? 'block' : 'none';\n",
              "\n",
              "        async function convertToInteractive(key) {\n",
              "          const element = document.querySelector('#df-9b375a81-e777-4d3a-85f8-6a832cda8f51');\n",
              "          const dataTable =\n",
              "            await google.colab.kernel.invokeFunction('convertToInteractive',\n",
              "                                                     [key], {});\n",
              "          if (!dataTable) return;\n",
              "\n",
              "          const docLinkHtml = 'Like what you see? Visit the ' +\n",
              "            '<a target=\"_blank\" href=https://colab.research.google.com/notebooks/data_table.ipynb>data table notebook</a>'\n",
              "            + ' to learn more about interactive tables.';\n",
              "          element.innerHTML = '';\n",
              "          dataTable['output_type'] = 'display_data';\n",
              "          await google.colab.output.renderOutput(dataTable, element);\n",
              "          const docLink = document.createElement('div');\n",
              "          docLink.innerHTML = docLinkHtml;\n",
              "          element.appendChild(docLink);\n",
              "        }\n",
              "      </script>\n",
              "    </div>\n",
              "  </div>\n",
              "  "
            ]
          },
          "metadata": {},
          "execution_count": 38
        }
      ]
    },
    {
      "cell_type": "code",
      "source": [
        "# Let's try one hot encoding our DataFrame so it's all numbers\n",
        "insurance_one_hot = pd.get_dummies(insurance)\n",
        "insurance_one_hot"
      ],
      "metadata": {
        "colab": {
          "base_uri": "https://localhost:8080/",
          "height": 468
        },
        "id": "n-5cltdRQPZf",
        "outputId": "6a23d4cd-704e-4449-d514-3845b7d05c52"
      },
      "execution_count": null,
      "outputs": [
        {
          "output_type": "execute_result",
          "data": {
            "text/plain": [
              "      age     bmi  children      charges  sex_female  sex_male  smoker_no  \\\n",
              "0      19  27.900         0  16884.92400           1         0          0   \n",
              "1      18  33.770         1   1725.55230           0         1          1   \n",
              "2      28  33.000         3   4449.46200           0         1          1   \n",
              "3      33  22.705         0  21984.47061           0         1          1   \n",
              "4      32  28.880         0   3866.85520           0         1          1   \n",
              "...   ...     ...       ...          ...         ...       ...        ...   \n",
              "1333   50  30.970         3  10600.54830           0         1          1   \n",
              "1334   18  31.920         0   2205.98080           1         0          1   \n",
              "1335   18  36.850         0   1629.83350           1         0          1   \n",
              "1336   21  25.800         0   2007.94500           1         0          1   \n",
              "1337   61  29.070         0  29141.36030           1         0          0   \n",
              "\n",
              "      smoker_yes  region_northeast  region_northwest  region_southeast  \\\n",
              "0              1                 0                 0                 0   \n",
              "1              0                 0                 0                 1   \n",
              "2              0                 0                 0                 1   \n",
              "3              0                 0                 1                 0   \n",
              "4              0                 0                 1                 0   \n",
              "...          ...               ...               ...               ...   \n",
              "1333           0                 0                 1                 0   \n",
              "1334           0                 1                 0                 0   \n",
              "1335           0                 0                 0                 1   \n",
              "1336           0                 0                 0                 0   \n",
              "1337           1                 0                 1                 0   \n",
              "\n",
              "      region_southwest  \n",
              "0                    1  \n",
              "1                    0  \n",
              "2                    0  \n",
              "3                    0  \n",
              "4                    0  \n",
              "...                ...  \n",
              "1333                 0  \n",
              "1334                 0  \n",
              "1335                 0  \n",
              "1336                 1  \n",
              "1337                 0  \n",
              "\n",
              "[1338 rows x 12 columns]"
            ],
            "text/html": [
              "\n",
              "  <div id=\"df-05365b08-c789-4c7a-9611-fdeb98f4e914\">\n",
              "    <div class=\"colab-df-container\">\n",
              "      <div>\n",
              "<style scoped>\n",
              "    .dataframe tbody tr th:only-of-type {\n",
              "        vertical-align: middle;\n",
              "    }\n",
              "\n",
              "    .dataframe tbody tr th {\n",
              "        vertical-align: top;\n",
              "    }\n",
              "\n",
              "    .dataframe thead th {\n",
              "        text-align: right;\n",
              "    }\n",
              "</style>\n",
              "<table border=\"1\" class=\"dataframe\">\n",
              "  <thead>\n",
              "    <tr style=\"text-align: right;\">\n",
              "      <th></th>\n",
              "      <th>age</th>\n",
              "      <th>bmi</th>\n",
              "      <th>children</th>\n",
              "      <th>charges</th>\n",
              "      <th>sex_female</th>\n",
              "      <th>sex_male</th>\n",
              "      <th>smoker_no</th>\n",
              "      <th>smoker_yes</th>\n",
              "      <th>region_northeast</th>\n",
              "      <th>region_northwest</th>\n",
              "      <th>region_southeast</th>\n",
              "      <th>region_southwest</th>\n",
              "    </tr>\n",
              "  </thead>\n",
              "  <tbody>\n",
              "    <tr>\n",
              "      <th>0</th>\n",
              "      <td>19</td>\n",
              "      <td>27.900</td>\n",
              "      <td>0</td>\n",
              "      <td>16884.92400</td>\n",
              "      <td>1</td>\n",
              "      <td>0</td>\n",
              "      <td>0</td>\n",
              "      <td>1</td>\n",
              "      <td>0</td>\n",
              "      <td>0</td>\n",
              "      <td>0</td>\n",
              "      <td>1</td>\n",
              "    </tr>\n",
              "    <tr>\n",
              "      <th>1</th>\n",
              "      <td>18</td>\n",
              "      <td>33.770</td>\n",
              "      <td>1</td>\n",
              "      <td>1725.55230</td>\n",
              "      <td>0</td>\n",
              "      <td>1</td>\n",
              "      <td>1</td>\n",
              "      <td>0</td>\n",
              "      <td>0</td>\n",
              "      <td>0</td>\n",
              "      <td>1</td>\n",
              "      <td>0</td>\n",
              "    </tr>\n",
              "    <tr>\n",
              "      <th>2</th>\n",
              "      <td>28</td>\n",
              "      <td>33.000</td>\n",
              "      <td>3</td>\n",
              "      <td>4449.46200</td>\n",
              "      <td>0</td>\n",
              "      <td>1</td>\n",
              "      <td>1</td>\n",
              "      <td>0</td>\n",
              "      <td>0</td>\n",
              "      <td>0</td>\n",
              "      <td>1</td>\n",
              "      <td>0</td>\n",
              "    </tr>\n",
              "    <tr>\n",
              "      <th>3</th>\n",
              "      <td>33</td>\n",
              "      <td>22.705</td>\n",
              "      <td>0</td>\n",
              "      <td>21984.47061</td>\n",
              "      <td>0</td>\n",
              "      <td>1</td>\n",
              "      <td>1</td>\n",
              "      <td>0</td>\n",
              "      <td>0</td>\n",
              "      <td>1</td>\n",
              "      <td>0</td>\n",
              "      <td>0</td>\n",
              "    </tr>\n",
              "    <tr>\n",
              "      <th>4</th>\n",
              "      <td>32</td>\n",
              "      <td>28.880</td>\n",
              "      <td>0</td>\n",
              "      <td>3866.85520</td>\n",
              "      <td>0</td>\n",
              "      <td>1</td>\n",
              "      <td>1</td>\n",
              "      <td>0</td>\n",
              "      <td>0</td>\n",
              "      <td>1</td>\n",
              "      <td>0</td>\n",
              "      <td>0</td>\n",
              "    </tr>\n",
              "    <tr>\n",
              "      <th>...</th>\n",
              "      <td>...</td>\n",
              "      <td>...</td>\n",
              "      <td>...</td>\n",
              "      <td>...</td>\n",
              "      <td>...</td>\n",
              "      <td>...</td>\n",
              "      <td>...</td>\n",
              "      <td>...</td>\n",
              "      <td>...</td>\n",
              "      <td>...</td>\n",
              "      <td>...</td>\n",
              "      <td>...</td>\n",
              "    </tr>\n",
              "    <tr>\n",
              "      <th>1333</th>\n",
              "      <td>50</td>\n",
              "      <td>30.970</td>\n",
              "      <td>3</td>\n",
              "      <td>10600.54830</td>\n",
              "      <td>0</td>\n",
              "      <td>1</td>\n",
              "      <td>1</td>\n",
              "      <td>0</td>\n",
              "      <td>0</td>\n",
              "      <td>1</td>\n",
              "      <td>0</td>\n",
              "      <td>0</td>\n",
              "    </tr>\n",
              "    <tr>\n",
              "      <th>1334</th>\n",
              "      <td>18</td>\n",
              "      <td>31.920</td>\n",
              "      <td>0</td>\n",
              "      <td>2205.98080</td>\n",
              "      <td>1</td>\n",
              "      <td>0</td>\n",
              "      <td>1</td>\n",
              "      <td>0</td>\n",
              "      <td>1</td>\n",
              "      <td>0</td>\n",
              "      <td>0</td>\n",
              "      <td>0</td>\n",
              "    </tr>\n",
              "    <tr>\n",
              "      <th>1335</th>\n",
              "      <td>18</td>\n",
              "      <td>36.850</td>\n",
              "      <td>0</td>\n",
              "      <td>1629.83350</td>\n",
              "      <td>1</td>\n",
              "      <td>0</td>\n",
              "      <td>1</td>\n",
              "      <td>0</td>\n",
              "      <td>0</td>\n",
              "      <td>0</td>\n",
              "      <td>1</td>\n",
              "      <td>0</td>\n",
              "    </tr>\n",
              "    <tr>\n",
              "      <th>1336</th>\n",
              "      <td>21</td>\n",
              "      <td>25.800</td>\n",
              "      <td>0</td>\n",
              "      <td>2007.94500</td>\n",
              "      <td>1</td>\n",
              "      <td>0</td>\n",
              "      <td>1</td>\n",
              "      <td>0</td>\n",
              "      <td>0</td>\n",
              "      <td>0</td>\n",
              "      <td>0</td>\n",
              "      <td>1</td>\n",
              "    </tr>\n",
              "    <tr>\n",
              "      <th>1337</th>\n",
              "      <td>61</td>\n",
              "      <td>29.070</td>\n",
              "      <td>0</td>\n",
              "      <td>29141.36030</td>\n",
              "      <td>1</td>\n",
              "      <td>0</td>\n",
              "      <td>0</td>\n",
              "      <td>1</td>\n",
              "      <td>0</td>\n",
              "      <td>1</td>\n",
              "      <td>0</td>\n",
              "      <td>0</td>\n",
              "    </tr>\n",
              "  </tbody>\n",
              "</table>\n",
              "<p>1338 rows × 12 columns</p>\n",
              "</div>\n",
              "      <button class=\"colab-df-convert\" onclick=\"convertToInteractive('df-05365b08-c789-4c7a-9611-fdeb98f4e914')\"\n",
              "              title=\"Convert this dataframe to an interactive table.\"\n",
              "              style=\"display:none;\">\n",
              "        \n",
              "  <svg xmlns=\"http://www.w3.org/2000/svg\" height=\"24px\"viewBox=\"0 0 24 24\"\n",
              "       width=\"24px\">\n",
              "    <path d=\"M0 0h24v24H0V0z\" fill=\"none\"/>\n",
              "    <path d=\"M18.56 5.44l.94 2.06.94-2.06 2.06-.94-2.06-.94-.94-2.06-.94 2.06-2.06.94zm-11 1L8.5 8.5l.94-2.06 2.06-.94-2.06-.94L8.5 2.5l-.94 2.06-2.06.94zm10 10l.94 2.06.94-2.06 2.06-.94-2.06-.94-.94-2.06-.94 2.06-2.06.94z\"/><path d=\"M17.41 7.96l-1.37-1.37c-.4-.4-.92-.59-1.43-.59-.52 0-1.04.2-1.43.59L10.3 9.45l-7.72 7.72c-.78.78-.78 2.05 0 2.83L4 21.41c.39.39.9.59 1.41.59.51 0 1.02-.2 1.41-.59l7.78-7.78 2.81-2.81c.8-.78.8-2.07 0-2.86zM5.41 20L4 18.59l7.72-7.72 1.47 1.35L5.41 20z\"/>\n",
              "  </svg>\n",
              "      </button>\n",
              "      \n",
              "  <style>\n",
              "    .colab-df-container {\n",
              "      display:flex;\n",
              "      flex-wrap:wrap;\n",
              "      gap: 12px;\n",
              "    }\n",
              "\n",
              "    .colab-df-convert {\n",
              "      background-color: #E8F0FE;\n",
              "      border: none;\n",
              "      border-radius: 50%;\n",
              "      cursor: pointer;\n",
              "      display: none;\n",
              "      fill: #1967D2;\n",
              "      height: 32px;\n",
              "      padding: 0 0 0 0;\n",
              "      width: 32px;\n",
              "    }\n",
              "\n",
              "    .colab-df-convert:hover {\n",
              "      background-color: #E2EBFA;\n",
              "      box-shadow: 0px 1px 2px rgba(60, 64, 67, 0.3), 0px 1px 3px 1px rgba(60, 64, 67, 0.15);\n",
              "      fill: #174EA6;\n",
              "    }\n",
              "\n",
              "    [theme=dark] .colab-df-convert {\n",
              "      background-color: #3B4455;\n",
              "      fill: #D2E3FC;\n",
              "    }\n",
              "\n",
              "    [theme=dark] .colab-df-convert:hover {\n",
              "      background-color: #434B5C;\n",
              "      box-shadow: 0px 1px 3px 1px rgba(0, 0, 0, 0.15);\n",
              "      filter: drop-shadow(0px 1px 2px rgba(0, 0, 0, 0.3));\n",
              "      fill: #FFFFFF;\n",
              "    }\n",
              "  </style>\n",
              "\n",
              "      <script>\n",
              "        const buttonEl =\n",
              "          document.querySelector('#df-05365b08-c789-4c7a-9611-fdeb98f4e914 button.colab-df-convert');\n",
              "        buttonEl.style.display =\n",
              "          google.colab.kernel.accessAllowed ? 'block' : 'none';\n",
              "\n",
              "        async function convertToInteractive(key) {\n",
              "          const element = document.querySelector('#df-05365b08-c789-4c7a-9611-fdeb98f4e914');\n",
              "          const dataTable =\n",
              "            await google.colab.kernel.invokeFunction('convertToInteractive',\n",
              "                                                     [key], {});\n",
              "          if (!dataTable) return;\n",
              "\n",
              "          const docLinkHtml = 'Like what you see? Visit the ' +\n",
              "            '<a target=\"_blank\" href=https://colab.research.google.com/notebooks/data_table.ipynb>data table notebook</a>'\n",
              "            + ' to learn more about interactive tables.';\n",
              "          element.innerHTML = '';\n",
              "          dataTable['output_type'] = 'display_data';\n",
              "          await google.colab.output.renderOutput(dataTable, element);\n",
              "          const docLink = document.createElement('div');\n",
              "          docLink.innerHTML = docLinkHtml;\n",
              "          element.appendChild(docLink);\n",
              "        }\n",
              "      </script>\n",
              "    </div>\n",
              "  </div>\n",
              "  "
            ]
          },
          "metadata": {},
          "execution_count": 40
        }
      ]
    },
    {
      "cell_type": "code",
      "source": [
        "# Create X & y values (features and labels)\n",
        "X = insurance_one_hot.drop(\"charges\", axis=1)\n",
        "y = insurance_one_hot[\"charges\"]"
      ],
      "metadata": {
        "id": "w5iu576zaR7l"
      },
      "execution_count": null,
      "outputs": []
    },
    {
      "cell_type": "code",
      "source": [
        "X.head()"
      ],
      "metadata": {
        "colab": {
          "base_uri": "https://localhost:8080/",
          "height": 206
        },
        "id": "ydmBut11d0B9",
        "outputId": "0c059b4f-9af0-4a72-da1c-126573a1a5b6"
      },
      "execution_count": null,
      "outputs": [
        {
          "output_type": "execute_result",
          "data": {
            "text/plain": [
              "   age     bmi  children  sex_female  sex_male  smoker_no  smoker_yes  \\\n",
              "0   19  27.900         0           1         0          0           1   \n",
              "1   18  33.770         1           0         1          1           0   \n",
              "2   28  33.000         3           0         1          1           0   \n",
              "3   33  22.705         0           0         1          1           0   \n",
              "4   32  28.880         0           0         1          1           0   \n",
              "\n",
              "   region_northeast  region_northwest  region_southeast  region_southwest  \n",
              "0                 0                 0                 0                 1  \n",
              "1                 0                 0                 1                 0  \n",
              "2                 0                 0                 1                 0  \n",
              "3                 0                 1                 0                 0  \n",
              "4                 0                 1                 0                 0  "
            ],
            "text/html": [
              "\n",
              "  <div id=\"df-c2f5dfeb-1bea-4e5a-b9fb-d5fa8c4a8dec\">\n",
              "    <div class=\"colab-df-container\">\n",
              "      <div>\n",
              "<style scoped>\n",
              "    .dataframe tbody tr th:only-of-type {\n",
              "        vertical-align: middle;\n",
              "    }\n",
              "\n",
              "    .dataframe tbody tr th {\n",
              "        vertical-align: top;\n",
              "    }\n",
              "\n",
              "    .dataframe thead th {\n",
              "        text-align: right;\n",
              "    }\n",
              "</style>\n",
              "<table border=\"1\" class=\"dataframe\">\n",
              "  <thead>\n",
              "    <tr style=\"text-align: right;\">\n",
              "      <th></th>\n",
              "      <th>age</th>\n",
              "      <th>bmi</th>\n",
              "      <th>children</th>\n",
              "      <th>sex_female</th>\n",
              "      <th>sex_male</th>\n",
              "      <th>smoker_no</th>\n",
              "      <th>smoker_yes</th>\n",
              "      <th>region_northeast</th>\n",
              "      <th>region_northwest</th>\n",
              "      <th>region_southeast</th>\n",
              "      <th>region_southwest</th>\n",
              "    </tr>\n",
              "  </thead>\n",
              "  <tbody>\n",
              "    <tr>\n",
              "      <th>0</th>\n",
              "      <td>19</td>\n",
              "      <td>27.900</td>\n",
              "      <td>0</td>\n",
              "      <td>1</td>\n",
              "      <td>0</td>\n",
              "      <td>0</td>\n",
              "      <td>1</td>\n",
              "      <td>0</td>\n",
              "      <td>0</td>\n",
              "      <td>0</td>\n",
              "      <td>1</td>\n",
              "    </tr>\n",
              "    <tr>\n",
              "      <th>1</th>\n",
              "      <td>18</td>\n",
              "      <td>33.770</td>\n",
              "      <td>1</td>\n",
              "      <td>0</td>\n",
              "      <td>1</td>\n",
              "      <td>1</td>\n",
              "      <td>0</td>\n",
              "      <td>0</td>\n",
              "      <td>0</td>\n",
              "      <td>1</td>\n",
              "      <td>0</td>\n",
              "    </tr>\n",
              "    <tr>\n",
              "      <th>2</th>\n",
              "      <td>28</td>\n",
              "      <td>33.000</td>\n",
              "      <td>3</td>\n",
              "      <td>0</td>\n",
              "      <td>1</td>\n",
              "      <td>1</td>\n",
              "      <td>0</td>\n",
              "      <td>0</td>\n",
              "      <td>0</td>\n",
              "      <td>1</td>\n",
              "      <td>0</td>\n",
              "    </tr>\n",
              "    <tr>\n",
              "      <th>3</th>\n",
              "      <td>33</td>\n",
              "      <td>22.705</td>\n",
              "      <td>0</td>\n",
              "      <td>0</td>\n",
              "      <td>1</td>\n",
              "      <td>1</td>\n",
              "      <td>0</td>\n",
              "      <td>0</td>\n",
              "      <td>1</td>\n",
              "      <td>0</td>\n",
              "      <td>0</td>\n",
              "    </tr>\n",
              "    <tr>\n",
              "      <th>4</th>\n",
              "      <td>32</td>\n",
              "      <td>28.880</td>\n",
              "      <td>0</td>\n",
              "      <td>0</td>\n",
              "      <td>1</td>\n",
              "      <td>1</td>\n",
              "      <td>0</td>\n",
              "      <td>0</td>\n",
              "      <td>1</td>\n",
              "      <td>0</td>\n",
              "      <td>0</td>\n",
              "    </tr>\n",
              "  </tbody>\n",
              "</table>\n",
              "</div>\n",
              "      <button class=\"colab-df-convert\" onclick=\"convertToInteractive('df-c2f5dfeb-1bea-4e5a-b9fb-d5fa8c4a8dec')\"\n",
              "              title=\"Convert this dataframe to an interactive table.\"\n",
              "              style=\"display:none;\">\n",
              "        \n",
              "  <svg xmlns=\"http://www.w3.org/2000/svg\" height=\"24px\"viewBox=\"0 0 24 24\"\n",
              "       width=\"24px\">\n",
              "    <path d=\"M0 0h24v24H0V0z\" fill=\"none\"/>\n",
              "    <path d=\"M18.56 5.44l.94 2.06.94-2.06 2.06-.94-2.06-.94-.94-2.06-.94 2.06-2.06.94zm-11 1L8.5 8.5l.94-2.06 2.06-.94-2.06-.94L8.5 2.5l-.94 2.06-2.06.94zm10 10l.94 2.06.94-2.06 2.06-.94-2.06-.94-.94-2.06-.94 2.06-2.06.94z\"/><path d=\"M17.41 7.96l-1.37-1.37c-.4-.4-.92-.59-1.43-.59-.52 0-1.04.2-1.43.59L10.3 9.45l-7.72 7.72c-.78.78-.78 2.05 0 2.83L4 21.41c.39.39.9.59 1.41.59.51 0 1.02-.2 1.41-.59l7.78-7.78 2.81-2.81c.8-.78.8-2.07 0-2.86zM5.41 20L4 18.59l7.72-7.72 1.47 1.35L5.41 20z\"/>\n",
              "  </svg>\n",
              "      </button>\n",
              "      \n",
              "  <style>\n",
              "    .colab-df-container {\n",
              "      display:flex;\n",
              "      flex-wrap:wrap;\n",
              "      gap: 12px;\n",
              "    }\n",
              "\n",
              "    .colab-df-convert {\n",
              "      background-color: #E8F0FE;\n",
              "      border: none;\n",
              "      border-radius: 50%;\n",
              "      cursor: pointer;\n",
              "      display: none;\n",
              "      fill: #1967D2;\n",
              "      height: 32px;\n",
              "      padding: 0 0 0 0;\n",
              "      width: 32px;\n",
              "    }\n",
              "\n",
              "    .colab-df-convert:hover {\n",
              "      background-color: #E2EBFA;\n",
              "      box-shadow: 0px 1px 2px rgba(60, 64, 67, 0.3), 0px 1px 3px 1px rgba(60, 64, 67, 0.15);\n",
              "      fill: #174EA6;\n",
              "    }\n",
              "\n",
              "    [theme=dark] .colab-df-convert {\n",
              "      background-color: #3B4455;\n",
              "      fill: #D2E3FC;\n",
              "    }\n",
              "\n",
              "    [theme=dark] .colab-df-convert:hover {\n",
              "      background-color: #434B5C;\n",
              "      box-shadow: 0px 1px 3px 1px rgba(0, 0, 0, 0.15);\n",
              "      filter: drop-shadow(0px 1px 2px rgba(0, 0, 0, 0.3));\n",
              "      fill: #FFFFFF;\n",
              "    }\n",
              "  </style>\n",
              "\n",
              "      <script>\n",
              "        const buttonEl =\n",
              "          document.querySelector('#df-c2f5dfeb-1bea-4e5a-b9fb-d5fa8c4a8dec button.colab-df-convert');\n",
              "        buttonEl.style.display =\n",
              "          google.colab.kernel.accessAllowed ? 'block' : 'none';\n",
              "\n",
              "        async function convertToInteractive(key) {\n",
              "          const element = document.querySelector('#df-c2f5dfeb-1bea-4e5a-b9fb-d5fa8c4a8dec');\n",
              "          const dataTable =\n",
              "            await google.colab.kernel.invokeFunction('convertToInteractive',\n",
              "                                                     [key], {});\n",
              "          if (!dataTable) return;\n",
              "\n",
              "          const docLinkHtml = 'Like what you see? Visit the ' +\n",
              "            '<a target=\"_blank\" href=https://colab.research.google.com/notebooks/data_table.ipynb>data table notebook</a>'\n",
              "            + ' to learn more about interactive tables.';\n",
              "          element.innerHTML = '';\n",
              "          dataTable['output_type'] = 'display_data';\n",
              "          await google.colab.output.renderOutput(dataTable, element);\n",
              "          const docLink = document.createElement('div');\n",
              "          docLink.innerHTML = docLinkHtml;\n",
              "          element.appendChild(docLink);\n",
              "        }\n",
              "      </script>\n",
              "    </div>\n",
              "  </div>\n",
              "  "
            ]
          },
          "metadata": {},
          "execution_count": 43
        }
      ]
    },
    {
      "cell_type": "code",
      "source": [
        "y.head()"
      ],
      "metadata": {
        "colab": {
          "base_uri": "https://localhost:8080/"
        },
        "id": "UkLrLtz-d2nF",
        "outputId": "3e810e89-e6ed-4f41-c71d-7d50633f855b"
      },
      "execution_count": null,
      "outputs": [
        {
          "output_type": "execute_result",
          "data": {
            "text/plain": [
              "0    16884.92400\n",
              "1     1725.55230\n",
              "2     4449.46200\n",
              "3    21984.47061\n",
              "4     3866.85520\n",
              "Name: charges, dtype: float64"
            ]
          },
          "metadata": {},
          "execution_count": 44
        }
      ]
    },
    {
      "cell_type": "code",
      "source": [
        "# Create training and test sets\n",
        "from sklearn.model_selection import train_test_split\n",
        "\n",
        "X_train, X_test, y_train, y_test = train_test_split(X, y, test_size=0.2, random_state=42)\n",
        "len(X), len(X_train), len(X_test)"
      ],
      "metadata": {
        "colab": {
          "base_uri": "https://localhost:8080/"
        },
        "id": "r2Gaj72yeL1j",
        "outputId": "9d430065-1171-465f-97f1-4aa795fc85da"
      },
      "execution_count": null,
      "outputs": [
        {
          "output_type": "execute_result",
          "data": {
            "text/plain": [
              "(1338, 1070, 268)"
            ]
          },
          "metadata": {},
          "execution_count": 46
        }
      ]
    },
    {
      "cell_type": "code",
      "source": [
        "# Build a neural network ( sort of like model_2 above )\n",
        "tf.random.set_seed(42)\n",
        "\n",
        "# 1. Create a model\n",
        "insurance_model = tf.keras.Sequential([\n",
        "    tf.keras.layers.Dense(10),\n",
        "    tf.keras.layers.Dense(1)\n",
        "])\n",
        "\n",
        "# 2. Compile the model\n",
        "insurance_model.compile(\n",
        "    loss=tf.keras.losses.mae,\n",
        "    optimizer=tf.keras.optimizers.SGD(),\n",
        "    metrics=[\"mae\", \"mse\"]\n",
        ")\n",
        "\n",
        "# 3. Fit the model\n",
        "insurance_model.fit(X_train, y_train, epochs=100)"
      ],
      "metadata": {
        "colab": {
          "base_uri": "https://localhost:8080/"
        },
        "id": "VSW3mgRvvGBf",
        "outputId": "16f649ca-ed3e-4a26-fa81-f5f6a02398f9"
      },
      "execution_count": null,
      "outputs": [
        {
          "output_type": "stream",
          "name": "stdout",
          "text": [
            "Epoch 1/100\n",
            "34/34 [==============================] - 0s 1ms/step - loss: 8614.8926 - mae: 8614.8926 - mse: 187391376.0000\n",
            "Epoch 2/100\n",
            "34/34 [==============================] - 0s 2ms/step - loss: 7885.2988 - mae: 7885.2988 - mse: 168890016.0000\n",
            "Epoch 3/100\n",
            "34/34 [==============================] - 0s 1ms/step - loss: 7574.9624 - mae: 7574.9624 - mse: 162745760.0000\n",
            "Epoch 4/100\n",
            "34/34 [==============================] - 0s 1ms/step - loss: 7671.1792 - mae: 7671.1792 - mse: 167731120.0000\n",
            "Epoch 5/100\n",
            "34/34 [==============================] - 0s 1ms/step - loss: 7740.5322 - mae: 7740.5322 - mse: 163987520.0000\n",
            "Epoch 6/100\n",
            "34/34 [==============================] - 0s 1ms/step - loss: 7663.0747 - mae: 7663.0747 - mse: 165047088.0000\n",
            "Epoch 7/100\n",
            "34/34 [==============================] - 0s 1ms/step - loss: 7531.3525 - mae: 7531.3525 - mse: 166283936.0000\n",
            "Epoch 8/100\n",
            "34/34 [==============================] - 0s 1ms/step - loss: 7720.0830 - mae: 7720.0830 - mse: 162413840.0000\n",
            "Epoch 9/100\n",
            "34/34 [==============================] - 0s 1ms/step - loss: 7555.5884 - mae: 7555.5884 - mse: 159745008.0000\n",
            "Epoch 10/100\n",
            "34/34 [==============================] - 0s 1ms/step - loss: 7692.3516 - mae: 7692.3516 - mse: 167334624.0000\n",
            "Epoch 11/100\n",
            "34/34 [==============================] - 0s 1ms/step - loss: 7531.4893 - mae: 7531.4893 - mse: 161394864.0000\n",
            "Epoch 12/100\n",
            "34/34 [==============================] - 0s 1ms/step - loss: 7711.0303 - mae: 7711.0303 - mse: 165799744.0000\n",
            "Epoch 13/100\n",
            "34/34 [==============================] - 0s 1ms/step - loss: 7679.9346 - mae: 7679.9346 - mse: 170190256.0000\n",
            "Epoch 14/100\n",
            "34/34 [==============================] - 0s 1ms/step - loss: 7705.7842 - mae: 7705.7842 - mse: 160389824.0000\n",
            "Epoch 15/100\n",
            "34/34 [==============================] - 0s 1ms/step - loss: 7407.3579 - mae: 7407.3579 - mse: 156424624.0000\n",
            "Epoch 16/100\n",
            "34/34 [==============================] - 0s 1ms/step - loss: 7767.6929 - mae: 7767.6929 - mse: 163395552.0000\n",
            "Epoch 17/100\n",
            "34/34 [==============================] - 0s 1ms/step - loss: 7562.9541 - mae: 7562.9541 - mse: 161548208.0000\n",
            "Epoch 18/100\n",
            "34/34 [==============================] - 0s 2ms/step - loss: 7749.6079 - mae: 7749.6079 - mse: 164381536.0000\n",
            "Epoch 19/100\n",
            "34/34 [==============================] - 0s 1ms/step - loss: 7787.0215 - mae: 7787.0215 - mse: 167670272.0000\n",
            "Epoch 20/100\n",
            "34/34 [==============================] - 0s 1ms/step - loss: 7883.9824 - mae: 7883.9824 - mse: 162854928.0000\n",
            "Epoch 21/100\n",
            "34/34 [==============================] - 0s 1ms/step - loss: 7531.3359 - mae: 7531.3359 - mse: 156030400.0000\n",
            "Epoch 22/100\n",
            "34/34 [==============================] - 0s 2ms/step - loss: 7774.8184 - mae: 7774.8184 - mse: 165125648.0000\n",
            "Epoch 23/100\n",
            "34/34 [==============================] - 0s 2ms/step - loss: 7748.8320 - mae: 7748.8320 - mse: 160042704.0000\n",
            "Epoch 24/100\n",
            "34/34 [==============================] - 0s 1ms/step - loss: 7589.5190 - mae: 7589.5190 - mse: 157732848.0000\n",
            "Epoch 25/100\n",
            "34/34 [==============================] - 0s 1ms/step - loss: 7551.3032 - mae: 7551.3032 - mse: 159456864.0000\n",
            "Epoch 26/100\n",
            "34/34 [==============================] - 0s 1ms/step - loss: 7652.8457 - mae: 7652.8457 - mse: 159393760.0000\n",
            "Epoch 27/100\n",
            "34/34 [==============================] - 0s 1ms/step - loss: 7574.2461 - mae: 7574.2461 - mse: 158211616.0000\n",
            "Epoch 28/100\n",
            "34/34 [==============================] - 0s 1ms/step - loss: 7522.3306 - mae: 7522.3306 - mse: 161647488.0000\n",
            "Epoch 29/100\n",
            "34/34 [==============================] - 0s 1ms/step - loss: 7642.3286 - mae: 7642.3286 - mse: 155771344.0000\n",
            "Epoch 30/100\n",
            "34/34 [==============================] - 0s 1ms/step - loss: 7543.5840 - mae: 7543.5840 - mse: 156222224.0000\n",
            "Epoch 31/100\n",
            "34/34 [==============================] - 0s 1ms/step - loss: 7721.9512 - mae: 7721.9512 - mse: 163046304.0000\n",
            "Epoch 32/100\n",
            "34/34 [==============================] - 0s 1ms/step - loss: 7242.6807 - mae: 7242.6807 - mse: 153008304.0000\n",
            "Epoch 33/100\n",
            "34/34 [==============================] - 0s 1ms/step - loss: 7514.5474 - mae: 7514.5474 - mse: 155461728.0000\n",
            "Epoch 34/100\n",
            "34/34 [==============================] - 0s 1ms/step - loss: 7356.1333 - mae: 7356.1333 - mse: 154041360.0000\n",
            "Epoch 35/100\n",
            "34/34 [==============================] - 0s 2ms/step - loss: 7537.3799 - mae: 7537.3799 - mse: 155637280.0000\n",
            "Epoch 36/100\n",
            "34/34 [==============================] - 0s 1ms/step - loss: 7373.1006 - mae: 7373.1006 - mse: 152796544.0000\n",
            "Epoch 37/100\n",
            "34/34 [==============================] - 0s 1ms/step - loss: 7557.9702 - mae: 7557.9702 - mse: 155208560.0000\n",
            "Epoch 38/100\n",
            "34/34 [==============================] - 0s 1ms/step - loss: 7423.5098 - mae: 7423.5098 - mse: 157104992.0000\n",
            "Epoch 39/100\n",
            "34/34 [==============================] - 0s 1ms/step - loss: 7515.3413 - mae: 7515.3413 - mse: 157051552.0000\n",
            "Epoch 40/100\n",
            "34/34 [==============================] - 0s 2ms/step - loss: 7350.7588 - mae: 7350.7588 - mse: 153172080.0000\n",
            "Epoch 41/100\n",
            "34/34 [==============================] - 0s 1ms/step - loss: 7683.0864 - mae: 7683.0864 - mse: 155503776.0000\n",
            "Epoch 42/100\n",
            "34/34 [==============================] - 0s 1ms/step - loss: 7780.1006 - mae: 7780.1006 - mse: 156233248.0000\n",
            "Epoch 43/100\n",
            "34/34 [==============================] - 0s 1ms/step - loss: 7719.9814 - mae: 7719.9814 - mse: 157695856.0000\n",
            "Epoch 44/100\n",
            "34/34 [==============================] - 0s 1ms/step - loss: 7501.2222 - mae: 7501.2222 - mse: 154544288.0000\n",
            "Epoch 45/100\n",
            "34/34 [==============================] - 0s 1ms/step - loss: 7494.4585 - mae: 7494.4585 - mse: 152553920.0000\n",
            "Epoch 46/100\n",
            "34/34 [==============================] - 0s 1ms/step - loss: 7323.8403 - mae: 7323.8403 - mse: 151528144.0000\n",
            "Epoch 47/100\n",
            "34/34 [==============================] - 0s 1ms/step - loss: 7442.8828 - mae: 7442.8828 - mse: 149312016.0000\n",
            "Epoch 48/100\n",
            "34/34 [==============================] - 0s 1ms/step - loss: 7539.0195 - mae: 7539.0195 - mse: 150571056.0000\n",
            "Epoch 49/100\n",
            "34/34 [==============================] - 0s 1ms/step - loss: 7539.3501 - mae: 7539.3501 - mse: 152730864.0000\n",
            "Epoch 50/100\n",
            "34/34 [==============================] - 0s 1ms/step - loss: 7533.1768 - mae: 7533.1768 - mse: 155749664.0000\n",
            "Epoch 51/100\n",
            "34/34 [==============================] - 0s 1ms/step - loss: 7398.5928 - mae: 7398.5928 - mse: 156957456.0000\n",
            "Epoch 52/100\n",
            "34/34 [==============================] - 0s 1ms/step - loss: 7399.1328 - mae: 7399.1328 - mse: 151493744.0000\n",
            "Epoch 53/100\n",
            "34/34 [==============================] - 0s 1ms/step - loss: 7460.5801 - mae: 7460.5801 - mse: 153364096.0000\n",
            "Epoch 54/100\n",
            "34/34 [==============================] - 0s 1ms/step - loss: 7171.7124 - mae: 7171.7124 - mse: 146766000.0000\n",
            "Epoch 55/100\n",
            "34/34 [==============================] - 0s 1ms/step - loss: 7268.6738 - mae: 7268.6738 - mse: 146601712.0000\n",
            "Epoch 56/100\n",
            "34/34 [==============================] - 0s 1ms/step - loss: 7341.0254 - mae: 7341.0254 - mse: 142020448.0000\n",
            "Epoch 57/100\n",
            "34/34 [==============================] - 0s 1ms/step - loss: 7464.8374 - mae: 7464.8374 - mse: 151181696.0000\n",
            "Epoch 58/100\n",
            "34/34 [==============================] - 0s 1ms/step - loss: 7484.6211 - mae: 7484.6211 - mse: 150178848.0000\n",
            "Epoch 59/100\n",
            "34/34 [==============================] - 0s 1ms/step - loss: 7659.4966 - mae: 7659.4966 - mse: 152841872.0000\n",
            "Epoch 60/100\n",
            "34/34 [==============================] - 0s 1ms/step - loss: 7297.3081 - mae: 7297.3081 - mse: 149442208.0000\n",
            "Epoch 61/100\n",
            "34/34 [==============================] - 0s 1ms/step - loss: 7324.7119 - mae: 7324.7119 - mse: 148569584.0000\n",
            "Epoch 62/100\n",
            "34/34 [==============================] - 0s 1ms/step - loss: 7458.5747 - mae: 7458.5747 - mse: 147181888.0000\n",
            "Epoch 63/100\n",
            "34/34 [==============================] - 0s 1ms/step - loss: 7383.9087 - mae: 7383.9087 - mse: 146745152.0000\n",
            "Epoch 64/100\n",
            "34/34 [==============================] - 0s 2ms/step - loss: 7370.1567 - mae: 7370.1567 - mse: 140563760.0000\n",
            "Epoch 65/100\n",
            "34/34 [==============================] - 0s 1ms/step - loss: 7516.9624 - mae: 7516.9624 - mse: 150788240.0000\n",
            "Epoch 66/100\n",
            "34/34 [==============================] - 0s 1ms/step - loss: 7572.6758 - mae: 7572.6758 - mse: 153009072.0000\n",
            "Epoch 67/100\n",
            "34/34 [==============================] - 0s 1ms/step - loss: 7306.9165 - mae: 7306.9165 - mse: 145152528.0000\n",
            "Epoch 68/100\n",
            "34/34 [==============================] - 0s 1ms/step - loss: 7494.5132 - mae: 7494.5132 - mse: 149378304.0000\n",
            "Epoch 69/100\n",
            "34/34 [==============================] - 0s 1ms/step - loss: 7492.8716 - mae: 7492.8716 - mse: 146795904.0000\n",
            "Epoch 70/100\n",
            "34/34 [==============================] - 0s 1ms/step - loss: 7586.5273 - mae: 7586.5273 - mse: 149736128.0000\n",
            "Epoch 71/100\n",
            "34/34 [==============================] - 0s 1ms/step - loss: 7271.0972 - mae: 7271.0972 - mse: 145618032.0000\n",
            "Epoch 72/100\n",
            "34/34 [==============================] - 0s 2ms/step - loss: 7366.1479 - mae: 7366.1479 - mse: 144552256.0000\n",
            "Epoch 73/100\n",
            "34/34 [==============================] - 0s 1ms/step - loss: 7254.5977 - mae: 7254.5977 - mse: 140188672.0000\n",
            "Epoch 74/100\n",
            "34/34 [==============================] - 0s 2ms/step - loss: 7524.0645 - mae: 7524.0645 - mse: 143154880.0000\n",
            "Epoch 75/100\n",
            "34/34 [==============================] - 0s 2ms/step - loss: 7319.9839 - mae: 7319.9839 - mse: 143281888.0000\n",
            "Epoch 76/100\n",
            "34/34 [==============================] - 0s 1ms/step - loss: 7091.6802 - mae: 7091.6802 - mse: 140468848.0000\n",
            "Epoch 77/100\n",
            "34/34 [==============================] - 0s 1ms/step - loss: 7552.5059 - mae: 7552.5059 - mse: 142949392.0000\n",
            "Epoch 78/100\n",
            "34/34 [==============================] - 0s 1ms/step - loss: 7376.8433 - mae: 7376.8433 - mse: 147513344.0000\n",
            "Epoch 79/100\n",
            "34/34 [==============================] - 0s 1ms/step - loss: 7467.2974 - mae: 7467.2974 - mse: 140657616.0000\n",
            "Epoch 80/100\n",
            "34/34 [==============================] - 0s 1ms/step - loss: 7208.5986 - mae: 7208.5986 - mse: 140748640.0000\n",
            "Epoch 81/100\n",
            "34/34 [==============================] - 0s 2ms/step - loss: 7025.2524 - mae: 7025.2524 - mse: 136716432.0000\n",
            "Epoch 82/100\n",
            "34/34 [==============================] - 0s 1ms/step - loss: 7110.1147 - mae: 7110.1147 - mse: 137291712.0000\n",
            "Epoch 83/100\n",
            "34/34 [==============================] - 0s 1ms/step - loss: 7541.5337 - mae: 7541.5337 - mse: 141261136.0000\n",
            "Epoch 84/100\n",
            "34/34 [==============================] - 0s 2ms/step - loss: 7257.5581 - mae: 7257.5581 - mse: 136784368.0000\n",
            "Epoch 85/100\n",
            "34/34 [==============================] - 0s 1ms/step - loss: 7347.4526 - mae: 7347.4526 - mse: 144047008.0000\n",
            "Epoch 86/100\n",
            "34/34 [==============================] - 0s 1ms/step - loss: 7437.4521 - mae: 7437.4521 - mse: 143889184.0000\n",
            "Epoch 87/100\n",
            "34/34 [==============================] - 0s 1ms/step - loss: 7262.5454 - mae: 7262.5454 - mse: 140164160.0000\n",
            "Epoch 88/100\n",
            "34/34 [==============================] - 0s 1ms/step - loss: 7328.6074 - mae: 7328.6074 - mse: 139336992.0000\n",
            "Epoch 89/100\n",
            "34/34 [==============================] - 0s 2ms/step - loss: 7423.1255 - mae: 7423.1255 - mse: 140787648.0000\n",
            "Epoch 90/100\n",
            "34/34 [==============================] - 0s 1ms/step - loss: 7005.7900 - mae: 7005.7900 - mse: 133883064.0000\n",
            "Epoch 91/100\n",
            "34/34 [==============================] - 0s 2ms/step - loss: 7176.7349 - mae: 7176.7349 - mse: 133811056.0000\n",
            "Epoch 92/100\n",
            "34/34 [==============================] - 0s 1ms/step - loss: 7323.8027 - mae: 7323.8027 - mse: 137397088.0000\n",
            "Epoch 93/100\n",
            "34/34 [==============================] - 0s 3ms/step - loss: 7409.1143 - mae: 7409.1143 - mse: 145605424.0000\n",
            "Epoch 94/100\n",
            "34/34 [==============================] - 0s 2ms/step - loss: 7341.1235 - mae: 7341.1235 - mse: 137174544.0000\n",
            "Epoch 95/100\n",
            "34/34 [==============================] - 0s 2ms/step - loss: 7422.6167 - mae: 7422.6167 - mse: 140173616.0000\n",
            "Epoch 96/100\n",
            "34/34 [==============================] - 0s 2ms/step - loss: 7149.1802 - mae: 7149.1802 - mse: 132400544.0000\n",
            "Epoch 97/100\n",
            "34/34 [==============================] - 0s 3ms/step - loss: 7092.3579 - mae: 7092.3579 - mse: 133220328.0000\n",
            "Epoch 98/100\n",
            "34/34 [==============================] - 0s 2ms/step - loss: 7409.9316 - mae: 7409.9316 - mse: 138279296.0000\n",
            "Epoch 99/100\n",
            "34/34 [==============================] - 0s 2ms/step - loss: 7421.2217 - mae: 7421.2217 - mse: 139409744.0000\n",
            "Epoch 100/100\n",
            "34/34 [==============================] - 0s 2ms/step - loss: 7272.0327 - mae: 7272.0327 - mse: 138202672.0000\n"
          ]
        },
        {
          "output_type": "execute_result",
          "data": {
            "text/plain": [
              "<keras.callbacks.History at 0x7f848f16e700>"
            ]
          },
          "metadata": {},
          "execution_count": 52
        }
      ]
    },
    {
      "cell_type": "code",
      "source": [
        "# Check the results of the insurance model on the test data:\n",
        "insurance_model.evaluate(X_test, y_test)"
      ],
      "metadata": {
        "colab": {
          "base_uri": "https://localhost:8080/"
        },
        "id": "eFIeE5dBwfff",
        "outputId": "1d7d4785-ae2d-497a-9d6b-b08a872cb04f"
      },
      "execution_count": null,
      "outputs": [
        {
          "output_type": "stream",
          "name": "stdout",
          "text": [
            "9/9 [==============================] - 0s 2ms/step - loss: 7173.5679 - mae: 7173.5679 - mse: 110418344.0000\n"
          ]
        },
        {
          "output_type": "execute_result",
          "data": {
            "text/plain": [
              "[7173.56787109375, 7173.56787109375, 110418344.0]"
            ]
          },
          "metadata": {},
          "execution_count": 53
        }
      ]
    },
    {
      "cell_type": "code",
      "source": [
        "# Nosso modelo no momento erra bastante comparado com quanto cada pessoa gastou com saúde\n",
        "y_train.median(), y_train.mean()"
      ],
      "metadata": {
        "colab": {
          "base_uri": "https://localhost:8080/"
        },
        "id": "yaHmgi4dxOc6",
        "outputId": "5aac5c8d-8999-4777-a312-81282f72f799"
      },
      "execution_count": null,
      "outputs": [
        {
          "output_type": "execute_result",
          "data": {
            "text/plain": [
              "(9575.4421, 13346.089736364485)"
            ]
          },
          "metadata": {},
          "execution_count": 55
        }
      ]
    },
    {
      "cell_type": "markdown",
      "metadata": {
        "id": "OEMaHr1m7j9n"
      },
      "source": [
        "Right now it looks like our model isn't performing too well... let's try and improve it!\n",
        "\n",
        "To (try) improve our model, we'll run 2 experiments:\n",
        "1. Add an extra layer with more hidden units and use the Adam optimizer\n",
        "2. Same as above but train for longer (200 epochs)\n",
        "3. (insert your own experiment here)"
      ]
    },
    {
      "cell_type": "code",
      "source": [
        "# Set random seed\n",
        "tf.random.set_seed(42)\n",
        "\n",
        "# 1. Create the model\n",
        "insurance_model_2 = tf.keras.Sequential([\n",
        "    tf.keras.layers.Dense(100),\n",
        "    tf.keras.layers.Dense(10),\n",
        "    tf.keras.layers.Dense(1),\n",
        "])\n",
        "\n",
        "# 2. Compile the model\n",
        "insurance_model_2.compile(\n",
        "    loss=tf.keras.losses.mae,\n",
        "    optimizer=tf.keras.optimizers.Adam(),\n",
        "    metrics=[\"mae\"]\n",
        ")\n",
        "\n",
        "# 3. Fit the model\n",
        "insurance_model_2.fit(X_train, y_train, epochs=100, verbose=0)"
      ],
      "metadata": {
        "colab": {
          "base_uri": "https://localhost:8080/"
        },
        "id": "x3EbUHdrynJ-",
        "outputId": "664e64b0-e659-4e91-f17e-9e1e440b59b8"
      },
      "execution_count": null,
      "outputs": [
        {
          "output_type": "execute_result",
          "data": {
            "text/plain": [
              "<keras.callbacks.History at 0x7f848ee59220>"
            ]
          },
          "metadata": {},
          "execution_count": 67
        }
      ]
    },
    {
      "cell_type": "code",
      "source": [
        "# Evaluate the larger model\n",
        "insurance_model_2.evaluate(X_test, y_test)"
      ],
      "metadata": {
        "colab": {
          "base_uri": "https://localhost:8080/"
        },
        "id": "oVYEI30fz0q9",
        "outputId": "1168985b-56bb-4ccb-d36d-d5fdf12e0f35"
      },
      "execution_count": null,
      "outputs": [
        {
          "output_type": "stream",
          "name": "stdout",
          "text": [
            "9/9 [==============================] - 0s 2ms/step - loss: 4633.6504 - mae: 4633.6504\n"
          ]
        },
        {
          "output_type": "execute_result",
          "data": {
            "text/plain": [
              "[4633.650390625, 4633.650390625]"
            ]
          },
          "metadata": {},
          "execution_count": 68
        }
      ]
    },
    {
      "cell_type": "markdown",
      "source": [
        "```build model_3```"
      ],
      "metadata": {
        "id": "58gAhwWC08yO"
      }
    },
    {
      "cell_type": "code",
      "source": [
        "# Set random seed\n",
        "tf.random.set_seed(42)\n",
        "\n",
        "# 1. Create the model\n",
        "insurance_model_3 = tf.keras.Sequential([\n",
        "    tf.keras.layers.Dense(100),\n",
        "    tf.keras.layers.Dense(10),\n",
        "    tf.keras.layers.Dense(1),\n",
        "])\n",
        "\n",
        "# 2. Compile the model\n",
        "insurance_model_3.compile(\n",
        "    loss=tf.keras.losses.mae,\n",
        "    optimizer=tf.keras.optimizers.Adam(),\n",
        "    metrics=[\"mae\"]\n",
        ")\n",
        "\n",
        "# 3. Fit the model\n",
        "history = insurance_model_3.fit(X_train, y_train, epochs=200, verbose=0)"
      ],
      "metadata": {
        "id": "bIPeOU2S059i"
      },
      "execution_count": null,
      "outputs": []
    },
    {
      "cell_type": "code",
      "metadata": {
        "colab": {
          "base_uri": "https://localhost:8080/"
        },
        "id": "DX918PcL-n8s",
        "outputId": "c8a8eed3-9b1f-4d4a-d2bb-62909d530853"
      },
      "source": [
        "# Evaluate our third model\n",
        "insurance_model_3.evaluate(X_test, y_test)"
      ],
      "execution_count": null,
      "outputs": [
        {
          "output_type": "stream",
          "name": "stdout",
          "text": [
            "9/9 [==============================] - 0s 2ms/step - loss: 3482.0793 - mae: 3482.0793\n"
          ]
        },
        {
          "output_type": "execute_result",
          "data": {
            "text/plain": [
              "[3482.079345703125, 3482.079345703125]"
            ]
          },
          "metadata": {},
          "execution_count": 74
        }
      ]
    },
    {
      "cell_type": "code",
      "metadata": {
        "colab": {
          "base_uri": "https://localhost:8080/"
        },
        "id": "ImGrhOUu-w8J",
        "outputId": "906030f1-216b-47a7-fc17-f6e6e1202fdc"
      },
      "source": [
        "insurance_model.evaluate(X_test, y_test)"
      ],
      "execution_count": null,
      "outputs": [
        {
          "output_type": "stream",
          "name": "stdout",
          "text": [
            "9/9 [==============================] - 0s 2ms/step - loss: 7173.5679 - mae: 7173.5679 - mse: 110418344.0000\n"
          ]
        },
        {
          "output_type": "execute_result",
          "data": {
            "text/plain": [
              "[7173.56787109375, 7173.56787109375, 110418344.0]"
            ]
          },
          "metadata": {},
          "execution_count": 75
        }
      ]
    },
    {
      "cell_type": "code",
      "source": [
        "# Plot history (also known as a loss curve or a training curve)\n",
        "pd.DataFrame(history.history).plot()\n",
        "plt.ylabel(\"loss\")\n",
        "plt.xlabel(\"epochs\")\n",
        "plt.show()"
      ],
      "metadata": {
        "colab": {
          "base_uri": "https://localhost:8080/",
          "height": 449
        },
        "id": "XoH4T5jb18Sa",
        "outputId": "40ef5f2c-48b9-42b9-e36e-b7d5c086f4d5"
      },
      "execution_count": null,
      "outputs": [
        {
          "output_type": "display_data",
          "data": {
            "text/plain": [
              "<Figure size 640x480 with 1 Axes>"
            ],
            "image/png": "[encoded data removed]"
          },
          "metadata": {}
        }
      ]
    },
    {
      "cell_type": "markdown",
      "source": [
        "Quando a derivada da curva de aprendizado se aproximar de zero o modelo pode parar de aprender"
      ],
      "metadata": {
        "id": "USTgDve83EW0"
      }
    },
    {
      "cell_type": "markdown",
      "metadata": {
        "id": "ifIrgZbp_JBA"
      },
      "source": [
        "> 🤔 **Question:** How long should you train for?\n",
        "\n",
        "It depends. Really... it depends on the problem you're working on. However, many people have asked this question before... so TensorFlow has a solution! It's called the [EarlyStopping Callback](https://www.tensorflow.org/api_docs/python/tf/keras/callbacks/EarlyStopping), which is a TensorFlow component you can add to your model to stop training once it stops improving a certain metric."
      ]
    },
    {
      "cell_type": "code",
      "source": [
        "X[\"age\"].plot(kind=\"hist\")\n",
        "plt.show()"
      ],
      "metadata": {
        "colab": {
          "base_uri": "https://localhost:8080/",
          "height": 430
        },
        "id": "wvDLlgvX84Qw",
        "outputId": "6c4175dc-ee6f-490a-dde7-560518f7fd86"
      },
      "execution_count": null,
      "outputs": [
        {
          "output_type": "display_data",
          "data": {
            "text/plain": [
              "<Figure size 640x480 with 1 Axes>"
            ],
            "image/png": "[encoded data removed]"
          },
          "metadata": {}
        }
      ]
    },
    {
      "cell_type": "code",
      "source": [
        "X[\"bmi\"].plot(kind=\"hist\")\n",
        "plt.show()"
      ],
      "metadata": {
        "colab": {
          "base_uri": "https://localhost:8080/",
          "height": 430
        },
        "id": "N7OVCRUSAMP8",
        "outputId": "3ccb037c-a225-4026-9ea6-750b5ab608bd"
      },
      "execution_count": null,
      "outputs": [
        {
          "output_type": "display_data",
          "data": {
            "text/plain": [
              "<Figure size 640x480 with 1 Axes>"
            ],
            "image/png": "[encoded data removed]"
          },
          "metadata": {}
        }
      ]
    },
    {
      "cell_type": "code",
      "source": [
        "X[\"children\"].value_counts()"
      ],
      "metadata": {
        "colab": {
          "base_uri": "https://localhost:8080/"
        },
        "id": "94FfYgE-_86G",
        "outputId": "af2183c9-4189-44ba-abdd-e90260dc0e2b"
      },
      "execution_count": null,
      "outputs": [
        {
          "output_type": "execute_result",
          "data": {
            "text/plain": [
              "0    574\n",
              "1    324\n",
              "2    240\n",
              "3    157\n",
              "4     25\n",
              "5     18\n",
              "Name: children, dtype: int64"
            ]
          },
          "metadata": {},
          "execution_count": 81
        }
      ]
    },
    {
      "cell_type": "markdown",
      "metadata": {
        "id": "19mmj6JTACaR"
      },
      "source": [
        "## Preprocessing data (normalization and standardization)\n",
        "\n",
        "In terms of scaling values, neural networks tend to prefer normalization.\n",
        "\n",
        "If you're not sure on which to use, you could try both and see which performs better."
      ]
    },
    {
      "cell_type": "code",
      "metadata": {
        "colab": {
          "base_uri": "https://localhost:8080/",
          "height": 424
        },
        "id": "A9EZSNF_3MaY",
        "outputId": "ba71c414-85a6-4313-81b2-1630501cbab7"
      },
      "source": [
        "import tensorflow as tf\n",
        "import pandas as pd\n",
        "import numpy as np\n",
        "import matplotlib.pyplot as plt\n",
        "\n",
        "# Read in the insurance dataframe\n",
        "insurance = pd.read_csv(\"https://raw.githubusercontent.com/stedy/Machine-Learning-with-R-datasets/master/insurance.csv\")\n",
        "insurance"
      ],
      "execution_count": null,
      "outputs": [
        {
          "output_type": "execute_result",
          "data": {
            "text/plain": [
              "      age     sex     bmi  children smoker     region      charges\n",
              "0      19  female  27.900         0    yes  southwest  16884.92400\n",
              "1      18    male  33.770         1     no  southeast   1725.55230\n",
              "2      28    male  33.000         3     no  southeast   4449.46200\n",
              "3      33    male  22.705         0     no  northwest  21984.47061\n",
              "4      32    male  28.880         0     no  northwest   3866.85520\n",
              "...   ...     ...     ...       ...    ...        ...          ...\n",
              "1333   50    male  30.970         3     no  northwest  10600.54830\n",
              "1334   18  female  31.920         0     no  northeast   2205.98080\n",
              "1335   18  female  36.850         0     no  southeast   1629.83350\n",
              "1336   21  female  25.800         0     no  southwest   2007.94500\n",
              "1337   61  female  29.070         0    yes  northwest  29141.36030\n",
              "\n",
              "[1338 rows x 7 columns]"
            ],
            "text/html": [
              "\n",
              "  <div id=\"df-c976233c-8101-4c52-b198-eadd9749194e\">\n",
              "    <div class=\"colab-df-container\">\n",
              "      <div>\n",
              "<style scoped>\n",
              "    .dataframe tbody tr th:only-of-type {\n",
              "        vertical-align: middle;\n",
              "    }\n",
              "\n",
              "    .dataframe tbody tr th {\n",
              "        vertical-align: top;\n",
              "    }\n",
              "\n",
              "    .dataframe thead th {\n",
              "        text-align: right;\n",
              "    }\n",
              "</style>\n",
              "<table border=\"1\" class=\"dataframe\">\n",
              "  <thead>\n",
              "    <tr style=\"text-align: right;\">\n",
              "      <th></th>\n",
              "      <th>age</th>\n",
              "      <th>sex</th>\n",
              "      <th>bmi</th>\n",
              "      <th>children</th>\n",
              "      <th>smoker</th>\n",
              "      <th>region</th>\n",
              "      <th>charges</th>\n",
              "    </tr>\n",
              "  </thead>\n",
              "  <tbody>\n",
              "    <tr>\n",
              "      <th>0</th>\n",
              "      <td>19</td>\n",
              "      <td>female</td>\n",
              "      <td>27.900</td>\n",
              "      <td>0</td>\n",
              "      <td>yes</td>\n",
              "      <td>southwest</td>\n",
              "      <td>16884.92400</td>\n",
              "    </tr>\n",
              "    <tr>\n",
              "      <th>1</th>\n",
              "      <td>18</td>\n",
              "      <td>male</td>\n",
              "      <td>33.770</td>\n",
              "      <td>1</td>\n",
              "      <td>no</td>\n",
              "      <td>southeast</td>\n",
              "      <td>1725.55230</td>\n",
              "    </tr>\n",
              "    <tr>\n",
              "      <th>2</th>\n",
              "      <td>28</td>\n",
              "      <td>male</td>\n",
              "      <td>33.000</td>\n",
              "      <td>3</td>\n",
              "      <td>no</td>\n",
              "      <td>southeast</td>\n",
              "      <td>4449.46200</td>\n",
              "    </tr>\n",
              "    <tr>\n",
              "      <th>3</th>\n",
              "      <td>33</td>\n",
              "      <td>male</td>\n",
              "      <td>22.705</td>\n",
              "      <td>0</td>\n",
              "      <td>no</td>\n",
              "      <td>northwest</td>\n",
              "      <td>21984.47061</td>\n",
              "    </tr>\n",
              "    <tr>\n",
              "      <th>4</th>\n",
              "      <td>32</td>\n",
              "      <td>male</td>\n",
              "      <td>28.880</td>\n",
              "      <td>0</td>\n",
              "      <td>no</td>\n",
              "      <td>northwest</td>\n",
              "      <td>3866.85520</td>\n",
              "    </tr>\n",
              "    <tr>\n",
              "      <th>...</th>\n",
              "      <td>...</td>\n",
              "      <td>...</td>\n",
              "      <td>...</td>\n",
              "      <td>...</td>\n",
              "      <td>...</td>\n",
              "      <td>...</td>\n",
              "      <td>...</td>\n",
              "    </tr>\n",
              "    <tr>\n",
              "      <th>1333</th>\n",
              "      <td>50</td>\n",
              "      <td>male</td>\n",
              "      <td>30.970</td>\n",
              "      <td>3</td>\n",
              "      <td>no</td>\n",
              "      <td>northwest</td>\n",
              "      <td>10600.54830</td>\n",
              "    </tr>\n",
              "    <tr>\n",
              "      <th>1334</th>\n",
              "      <td>18</td>\n",
              "      <td>female</td>\n",
              "      <td>31.920</td>\n",
              "      <td>0</td>\n",
              "      <td>no</td>\n",
              "      <td>northeast</td>\n",
              "      <td>2205.98080</td>\n",
              "    </tr>\n",
              "    <tr>\n",
              "      <th>1335</th>\n",
              "      <td>18</td>\n",
              "      <td>female</td>\n",
              "      <td>36.850</td>\n",
              "      <td>0</td>\n",
              "      <td>no</td>\n",
              "      <td>southeast</td>\n",
              "      <td>1629.83350</td>\n",
              "    </tr>\n",
              "    <tr>\n",
              "      <th>1336</th>\n",
              "      <td>21</td>\n",
              "      <td>female</td>\n",
              "      <td>25.800</td>\n",
              "      <td>0</td>\n",
              "      <td>no</td>\n",
              "      <td>southwest</td>\n",
              "      <td>2007.94500</td>\n",
              "    </tr>\n",
              "    <tr>\n",
              "      <th>1337</th>\n",
              "      <td>61</td>\n",
              "      <td>female</td>\n",
              "      <td>29.070</td>\n",
              "      <td>0</td>\n",
              "      <td>yes</td>\n",
              "      <td>northwest</td>\n",
              "      <td>29141.36030</td>\n",
              "    </tr>\n",
              "  </tbody>\n",
              "</table>\n",
              "<p>1338 rows × 7 columns</p>\n",
              "</div>\n",
              "      <button class=\"colab-df-convert\" onclick=\"convertToInteractive('df-c976233c-8101-4c52-b198-eadd9749194e')\"\n",
              "              title=\"Convert this dataframe to an interactive table.\"\n",
              "              style=\"display:none;\">\n",
              "        \n",
              "  <svg xmlns=\"http://www.w3.org/2000/svg\" height=\"24px\"viewBox=\"0 0 24 24\"\n",
              "       width=\"24px\">\n",
              "    <path d=\"M0 0h24v24H0V0z\" fill=\"none\"/>\n",
              "    <path d=\"M18.56 5.44l.94 2.06.94-2.06 2.06-.94-2.06-.94-.94-2.06-.94 2.06-2.06.94zm-11 1L8.5 8.5l.94-2.06 2.06-.94-2.06-.94L8.5 2.5l-.94 2.06-2.06.94zm10 10l.94 2.06.94-2.06 2.06-.94-2.06-.94-.94-2.06-.94 2.06-2.06.94z\"/><path d=\"M17.41 7.96l-1.37-1.37c-.4-.4-.92-.59-1.43-.59-.52 0-1.04.2-1.43.59L10.3 9.45l-7.72 7.72c-.78.78-.78 2.05 0 2.83L4 21.41c.39.39.9.59 1.41.59.51 0 1.02-.2 1.41-.59l7.78-7.78 2.81-2.81c.8-.78.8-2.07 0-2.86zM5.41 20L4 18.59l7.72-7.72 1.47 1.35L5.41 20z\"/>\n",
              "  </svg>\n",
              "      </button>\n",
              "      \n",
              "  <style>\n",
              "    .colab-df-container {\n",
              "      display:flex;\n",
              "      flex-wrap:wrap;\n",
              "      gap: 12px;\n",
              "    }\n",
              "\n",
              "    .colab-df-convert {\n",
              "      background-color: #E8F0FE;\n",
              "      border: none;\n",
              "      border-radius: 50%;\n",
              "      cursor: pointer;\n",
              "      display: none;\n",
              "      fill: #1967D2;\n",
              "      height: 32px;\n",
              "      padding: 0 0 0 0;\n",
              "      width: 32px;\n",
              "    }\n",
              "\n",
              "    .colab-df-convert:hover {\n",
              "      background-color: #E2EBFA;\n",
              "      box-shadow: 0px 1px 2px rgba(60, 64, 67, 0.3), 0px 1px 3px 1px rgba(60, 64, 67, 0.15);\n",
              "      fill: #174EA6;\n",
              "    }\n",
              "\n",
              "    [theme=dark] .colab-df-convert {\n",
              "      background-color: #3B4455;\n",
              "      fill: #D2E3FC;\n",
              "    }\n",
              "\n",
              "    [theme=dark] .colab-df-convert:hover {\n",
              "      background-color: #434B5C;\n",
              "      box-shadow: 0px 1px 3px 1px rgba(0, 0, 0, 0.15);\n",
              "      filter: drop-shadow(0px 1px 2px rgba(0, 0, 0, 0.3));\n",
              "      fill: #FFFFFF;\n",
              "    }\n",
              "  </style>\n",
              "\n",
              "      <script>\n",
              "        const buttonEl =\n",
              "          document.querySelector('#df-c976233c-8101-4c52-b198-eadd9749194e button.colab-df-convert');\n",
              "        buttonEl.style.display =\n",
              "          google.colab.kernel.accessAllowed ? 'block' : 'none';\n",
              "\n",
              "        async function convertToInteractive(key) {\n",
              "          const element = document.querySelector('#df-c976233c-8101-4c52-b198-eadd9749194e');\n",
              "          const dataTable =\n",
              "            await google.colab.kernel.invokeFunction('convertToInteractive',\n",
              "                                                     [key], {});\n",
              "          if (!dataTable) return;\n",
              "\n",
              "          const docLinkHtml = 'Like what you see? Visit the ' +\n",
              "            '<a target=\"_blank\" href=https://colab.research.google.com/notebooks/data_table.ipynb>data table notebook</a>'\n",
              "            + ' to learn more about interactive tables.';\n",
              "          element.innerHTML = '';\n",
              "          dataTable['output_type'] = 'display_data';\n",
              "          await google.colab.output.renderOutput(dataTable, element);\n",
              "          const docLink = document.createElement('div');\n",
              "          docLink.innerHTML = docLinkHtml;\n",
              "          element.appendChild(docLink);\n",
              "        }\n",
              "      </script>\n",
              "    </div>\n",
              "  </div>\n",
              "  "
            ]
          },
          "metadata": {},
          "execution_count": 85
        }
      ]
    },
    {
      "cell_type": "markdown",
      "metadata": {
        "id": "x8VN6GfP4Dsn"
      },
      "source": [
        "To prepare our data, we can borrow a few classes from Scikit-Learn."
      ]
    },
    {
      "cell_type": "code",
      "source": [
        "from sklearn.compose import make_column_transformer\n",
        "from sklearn.preprocessing import MinMaxScaler, OneHotEncoder\n",
        "from sklearn.model_selection import train_test_split\n",
        "\n",
        "# Create a column transformer\n",
        "ct = make_column_transformer(\n",
        "    (MinMaxScaler(), [\"age\", \"bmi\", \"children\"]), # turn all values in these columns between 0 and 1\n",
        "    (OneHotEncoder(handle_unknown=\"ignore\"), [\"sex\", \"smoker\", \"region\"])\n",
        ")\n",
        "\n",
        "# Create X & y\n",
        "X = insurance.drop(\"charges\", axis=1)\n",
        "y = insurance[\"charges\"]\n",
        "\n",
        "# Build our train and test sets\n",
        "X_train, X_test, y_train, y_test = train_test_split(X, y, test_size=0.2, random_state=42)\n",
        "\n",
        "# Fit the column transformer to our training data\n",
        "ct.fit(X_train)\n",
        "\n",
        "# Transform training and test data with normalization (MinMaxScaler and OneHotEnconder)\n",
        "X_train_normal = ct.transform(X_train)\n",
        "X_test_normal = ct.transform(X_test)"
      ],
      "metadata": {
        "id": "2O9mlApbBSam"
      },
      "execution_count": null,
      "outputs": []
    },
    {
      "cell_type": "code",
      "source": [
        "# What does our data looks like before?\n",
        "X_train.loc[0]"
      ],
      "metadata": {
        "colab": {
          "base_uri": "https://localhost:8080/"
        },
        "id": "HaDN1e6XDlEB",
        "outputId": "1b3f8b0b-8049-4a3e-e36b-b2670b26f85a"
      },
      "execution_count": null,
      "outputs": [
        {
          "output_type": "execute_result",
          "data": {
            "text/plain": [
              "age                19\n",
              "sex            female\n",
              "bmi              27.9\n",
              "children            0\n",
              "smoker            yes\n",
              "region      southwest\n",
              "Name: 0, dtype: object"
            ]
          },
          "metadata": {},
          "execution_count": 88
        }
      ]
    },
    {
      "cell_type": "code",
      "source": [
        "# What does our data looks like now?\n",
        "X_train_normal[0]"
      ],
      "metadata": {
        "colab": {
          "base_uri": "https://localhost:8080/"
        },
        "id": "AWDDESgSDvGp",
        "outputId": "b02e5d46-3b95-4227-827b-f3c2145f2d81"
      },
      "execution_count": null,
      "outputs": [
        {
          "output_type": "execute_result",
          "data": {
            "text/plain": [
              "array([0.60869565, 0.10734463, 0.4       , 1.        , 0.        ,\n",
              "       1.        , 0.        , 0.        , 1.        , 0.        ,\n",
              "       0.        ])"
            ]
          },
          "metadata": {},
          "execution_count": 90
        }
      ]
    },
    {
      "cell_type": "code",
      "source": [
        "X_train.shape, X_train_normal.shape"
      ],
      "metadata": {
        "colab": {
          "base_uri": "https://localhost:8080/"
        },
        "id": "7sHDMItrEDhm",
        "outputId": "886c49d3-d6bc-40d8-a517-25cc8eda819b"
      },
      "execution_count": null,
      "outputs": [
        {
          "output_type": "execute_result",
          "data": {
            "text/plain": [
              "((1070, 6), (1070, 11))"
            ]
          },
          "metadata": {},
          "execution_count": 91
        }
      ]
    },
    {
      "cell_type": "markdown",
      "metadata": {
        "id": "g7o1A7kL6Yrm"
      },
      "source": [
        "Beautiful! Our data has been normalized and one hot encoded. Now let's build a neural network model on it and see how it goes."
      ]
    },
    {
      "cell_type": "code",
      "metadata": {
        "id": "KDF9TU0_6W2r"
      },
      "source": [
        "# Build a neural network model to fit on our normalized data\n",
        "tf.random.set_seed(42)\n",
        "\n",
        "# 1. Create the model\n",
        "insurance_model_4 = tf.keras.Sequential([\n",
        "  tf.keras.layers.Dense(100),\n",
        "  tf.keras.layers.Dense(10),\n",
        "  tf.keras.layers.Dense(1)\n",
        "])\n",
        "\n",
        "# 2. Compile the model\n",
        "insurance_model_4.compile(loss=tf.keras.losses.mae,\n",
        "                          optimizer=tf.keras.optimizers.Adam(),\n",
        "                          metrics=[\"mae\"])\n",
        "\n",
        "# 3. Fit the model\n",
        "history = insurance_model_4.fit(X_train_normal, y_train, epochs=100, verbose=0)"
      ],
      "execution_count": null,
      "outputs": []
    },
    {
      "cell_type": "code",
      "source": [
        "pd.DataFrame(history.history).plot()\n",
        "plt.ylabel(\"loss\")\n",
        "plt.xlabel(\"epochs\")\n",
        "plt.show()"
      ],
      "metadata": {
        "colab": {
          "base_uri": "https://localhost:8080/",
          "height": 449
        },
        "id": "uVXQIh06Ej3T",
        "outputId": "641b0f33-2167-485c-facd-e4ddf992c3b8"
      },
      "execution_count": null,
      "outputs": [
        {
          "output_type": "display_data",
          "data": {
            "text/plain": [
              "<Figure size 640x480 with 1 Axes>"
            ],
            "image/png": "[encoded data removed]"
          },
          "metadata": {}
        }
      ]
    },
    {
      "cell_type": "code",
      "metadata": {
        "colab": {
          "base_uri": "https://localhost:8080/"
        },
        "id": "wt84g6C790Y0",
        "outputId": "c7e89c58-e940-4ae0-8de2-5401fdd9c02d"
      },
      "source": [
        "# Evalaute our insurance model trained on normalized data\n",
        "insurance_model_4.evaluate(X_test_normal, y_test)"
      ],
      "execution_count": null,
      "outputs": [
        {
          "output_type": "stream",
          "name": "stdout",
          "text": [
            "9/9 [==============================] - 0s 2ms/step - loss: 3438.5112 - mae: 3438.5112\n"
          ]
        },
        {
          "output_type": "execute_result",
          "data": {
            "text/plain": [
              "[3438.51123046875, 3438.51123046875]"
            ]
          },
          "metadata": {},
          "execution_count": 94
        }
      ]
    },
    {
      "cell_type": "code",
      "source": [
        "# 9/9 [==============================] - 0s 2ms/step - loss: 4633.6504 - mae: 4633.6504\n",
        "# [4633.650390625, 4633.650390625]\n",
        "3438*100 / 4633"
      ],
      "metadata": {
        "colab": {
          "base_uri": "https://localhost:8080/"
        },
        "id": "2YmAG2uGFDNY",
        "outputId": "bc7dcd66-525a-4805-c7f0-0a5ce70bed02"
      },
      "execution_count": null,
      "outputs": [
        {
          "output_type": "execute_result",
          "data": {
            "text/plain": [
              "74.20677746600475"
            ]
          },
          "metadata": {},
          "execution_count": 97
        }
      ]
    },
    {
      "cell_type": "markdown",
      "metadata": {
        "id": "dZZQN7Z5_N46"
      },
      "source": [
        "Our model (`insurance_model_4`) fit on normalized data achieved a ~26% better score compared to the same model (`insurnace_model_2`) fit on non-normalized data!"
      ]
    },
    {
      "cell_type": "code",
      "source": [
        "insurance_model_2.summary(), insurance_model_4.summary()"
      ],
      "metadata": {
        "colab": {
          "base_uri": "https://localhost:8080/"
        },
        "id": "6OEafvkRFgqm",
        "outputId": "7de6c479-0e46-4ab3-a333-0ba970a34ff0"
      },
      "execution_count": null,
      "outputs": [
        {
          "output_type": "stream",
          "name": "stdout",
          "text": [
            "Model: \"sequential_12\"\n",
            "_________________________________________________________________\n",
            " Layer (type)                Output Shape              Param #   \n",
            "=================================================================\n",
            " dense_28 (Dense)            (None, 100)               1200      \n",
            "                                                                 \n",
            " dense_29 (Dense)            (None, 10)                1010      \n",
            "                                                                 \n",
            " dense_30 (Dense)            (None, 1)                 11        \n",
            "                                                                 \n",
            "=================================================================\n",
            "Total params: 2,221\n",
            "Trainable params: 2,221\n",
            "Non-trainable params: 0\n",
            "_________________________________________________________________\n",
            "Model: \"sequential_14\"\n",
            "_________________________________________________________________\n",
            " Layer (type)                Output Shape              Param #   \n",
            "=================================================================\n",
            " dense_34 (Dense)            (None, 100)               1200      \n",
            "                                                                 \n",
            " dense_35 (Dense)            (None, 10)                1010      \n",
            "                                                                 \n",
            " dense_36 (Dense)            (None, 1)                 11        \n",
            "                                                                 \n",
            "=================================================================\n",
            "Total params: 2,221\n",
            "Trainable params: 2,221\n",
            "Non-trainable params: 0\n",
            "_________________________________________________________________\n"
          ]
        },
        {
          "output_type": "execute_result",
          "data": {
            "text/plain": [
              "(None, None)"
            ]
          },
          "metadata": {},
          "execution_count": 96
        }
      ]
    }
  ]
}